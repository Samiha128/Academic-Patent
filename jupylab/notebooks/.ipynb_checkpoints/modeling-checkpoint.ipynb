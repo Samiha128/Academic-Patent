{
 "cells": [
  {
   "cell_type": "code",
   "execution_count": 13,
   "id": "49165c1d-a7db-4686-885a-8d0da855a600",
   "metadata": {},
   "outputs": [
    {
     "data": {
      "text/html": [
       "\n",
       "            <div>\n",
       "                <p><b>SparkSession - in-memory</b></p>\n",
       "                \n",
       "        <div>\n",
       "            <p><b>SparkContext</b></p>\n",
       "\n",
       "            <p><a href=\"http://1301138dda79:4040\">Spark UI</a></p>\n",
       "\n",
       "            <dl>\n",
       "              <dt>Version</dt>\n",
       "                <dd><code>v3.5.0</code></dd>\n",
       "              <dt>Master</dt>\n",
       "                <dd><code>local[*]</code></dd>\n",
       "              <dt>AppName</dt>\n",
       "                <dd><code>pyspark-shell</code></dd>\n",
       "            </dl>\n",
       "        </div>\n",
       "        \n",
       "            </div>\n",
       "        "
      ],
      "text/plain": [
       "<pyspark.sql.session.SparkSession at 0x7f7e75b5f0d0>"
      ]
     },
     "execution_count": 13,
     "metadata": {},
     "output_type": "execute_result"
    }
   ],
   "source": [
    "\n",
    "from pyspark.sql import SparkSession\n",
    "spark = SparkSession.builder.master(\"local[*]\").getOrCreate()\n",
    "spark.conf.set(\"spark.sql.repl.eagerEval.enabled\", True) # Property used to format output tables better\n",
    "spark"
   ]
  },
  {
   "cell_type": "code",
   "execution_count": 14,
   "id": "b82b0077-f0f3-4c9d-86ef-b125108825cc",
   "metadata": {},
   "outputs": [
    {
     "data": {
      "text/html": [
       "<table border='1'>\n",
       "<tr><th>affiliation</th><th>citedby-count</th><th>dc:creator</th><th>dc:identifier</th><th>dc:title</th><th>eid</th><th>openaccess</th><th>openaccessFlag</th><th>prism:aggregationType</th><th>prism:coverDate</th><th>prism:coverDisplayDate</th><th>prism:doi</th><th>prism:eIssn</th><th>prism:issn</th><th>prism:issueIdentifier</th><th>prism:pageRange</th><th>prism:publicationName</th><th>prism:url</th><th>prism:volume</th><th>source-id</th><th>subtype</th><th>subtypeDescription</th></tr>\n",
       "<tr><td>[{true, Abu Dhabi...</td><td>5</td><td>Nobanee H.</td><td>SCOPUS_ID:8518035...</td><td>Analysis of insur...</td><td>2-s2.0-85180357769</td><td>1</td><td>true</td><td>Journal</td><td>2024-05-01</td><td>1 May 2024</td><td>10.1016/j.stae.20...</td><td>27730328</td><td>NULL</td><td>2</td><td>NULL</td><td>Sustainable Techn...</td><td>https://api.elsev...</td><td>3</td><td>21101167218</td><td>re</td><td>Review</td></tr>\n",
       "</table>\n"
      ],
      "text/plain": [
       "+--------------------+-------------+----------+--------------------+--------------------+------------------+----------+--------------+---------------------+---------------+----------------------+--------------------+-----------+----------+---------------------+---------------+---------------------+--------------------+------------+-----------+-------+------------------+\n",
       "|         affiliation|citedby-count|dc:creator|       dc:identifier|            dc:title|               eid|openaccess|openaccessFlag|prism:aggregationType|prism:coverDate|prism:coverDisplayDate|           prism:doi|prism:eIssn|prism:issn|prism:issueIdentifier|prism:pageRange|prism:publicationName|           prism:url|prism:volume|  source-id|subtype|subtypeDescription|\n",
       "+--------------------+-------------+----------+--------------------+--------------------+------------------+----------+--------------+---------------------+---------------+----------------------+--------------------+-----------+----------+---------------------+---------------+---------------------+--------------------+------------+-----------+-------+------------------+\n",
       "|[{true, Abu Dhabi...|            5|Nobanee H.|SCOPUS_ID:8518035...|Analysis of insur...|2-s2.0-85180357769|         1|          true|              Journal|     2024-05-01|            1 May 2024|10.1016/j.stae.20...|   27730328|      NULL|                    2|           NULL| Sustainable Techn...|https://api.elsev...|           3|21101167218|     re|            Review|\n",
       "+--------------------+-------------+----------+--------------------+--------------------+------------------+----------+--------------+---------------------+---------------+----------------------+--------------------+-----------+----------+---------------------+---------------+---------------------+--------------------+------------+-----------+-------+------------------+"
      ]
     },
     "execution_count": 14,
     "metadata": {},
     "output_type": "execute_result"
    }
   ],
   "source": [
    "file_path = \"/home/jovyan/data/fae796ab-45c9-4f14-9498-4a4f2d52d2ad\"\n",
    "df = spark.read.json(file_path)\n",
    "df"
   ]
  },
  {
   "cell_type": "code",
   "execution_count": 8,
   "id": "2e22a93d-64a6-4ad4-8977-c374b6ea45ef",
   "metadata": {},
   "outputs": [
    {
     "name": "stdout",
     "output_type": "stream",
     "text": [
      "root\n",
      " |-- affiliation: array (nullable = true)\n",
      " |    |-- element: struct (containsNull = true)\n",
      " |    |    |-- @_fa: string (nullable = true)\n",
      " |    |    |-- affiliation-city: string (nullable = true)\n",
      " |    |    |-- affiliation-country: string (nullable = true)\n",
      " |    |    |-- affilname: string (nullable = true)\n",
      " |-- citedby-count: string (nullable = true)\n",
      " |-- dc:creator: string (nullable = true)\n",
      " |-- dc:identifier: string (nullable = true)\n",
      " |-- dc:title: string (nullable = true)\n",
      " |-- eid: string (nullable = true)\n",
      " |-- openaccess: string (nullable = true)\n",
      " |-- openaccessFlag: boolean (nullable = true)\n",
      " |-- prism:aggregationType: string (nullable = true)\n",
      " |-- prism:coverDate: string (nullable = true)\n",
      " |-- prism:coverDisplayDate: string (nullable = true)\n",
      " |-- prism:doi: string (nullable = true)\n",
      " |-- prism:eIssn: string (nullable = true)\n",
      " |-- prism:issn: string (nullable = true)\n",
      " |-- prism:issueIdentifier: string (nullable = true)\n",
      " |-- prism:pageRange: string (nullable = true)\n",
      " |-- prism:publicationName: string (nullable = true)\n",
      " |-- prism:url: string (nullable = true)\n",
      " |-- prism:volume: string (nullable = true)\n",
      " |-- source-id: string (nullable = true)\n",
      " |-- subtype: string (nullable = true)\n",
      " |-- subtypeDescription: string (nullable = true)\n",
      "\n"
     ]
    }
   ],
   "source": [
    "df.printSchema()"
   ]
  },
  {
   "cell_type": "code",
   "execution_count": 12,
   "id": "f5042a1b-fdd8-4fc3-b172-b2220806998c",
   "metadata": {},
   "outputs": [],
   "source": [
    "spark.stop()"
   ]
  },
  {
   "cell_type": "code",
   "execution_count": 25,
   "id": "dd303d78-15b5-4847-af60-71ad25f69d55",
   "metadata": {},
   "outputs": [
    {
     "name": "stdout",
     "output_type": "stream",
     "text": [
      "root\n",
      " |-- affiliation: array (nullable = true)\n",
      " |    |-- element: struct (containsNull = true)\n",
      " |    |    |-- @_fa: string (nullable = true)\n",
      " |    |    |-- affiliation-city: string (nullable = true)\n",
      " |    |    |-- affiliation-country: string (nullable = true)\n",
      " |    |    |-- affilname: string (nullable = true)\n",
      " |-- citedby-count: string (nullable = true)\n",
      " |-- dc:creator: string (nullable = true)\n",
      " |-- dc:identifier: string (nullable = true)\n",
      " |-- dc:title: string (nullable = true)\n",
      " |-- eid: string (nullable = true)\n",
      " |-- openaccess: string (nullable = true)\n",
      " |-- openaccessFlag: boolean (nullable = true)\n",
      " |-- prism:aggregationType: string (nullable = true)\n",
      " |-- prism:coverDate: string (nullable = true)\n",
      " |-- prism:coverDisplayDate: string (nullable = true)\n",
      " |-- prism:doi: string (nullable = true)\n",
      " |-- prism:eIssn: string (nullable = true)\n",
      " |-- prism:issn: string (nullable = true)\n",
      " |-- prism:issueIdentifier: string (nullable = true)\n",
      " |-- prism:pageRange: string (nullable = true)\n",
      " |-- prism:publicationName: string (nullable = true)\n",
      " |-- prism:url: string (nullable = true)\n",
      " |-- prism:volume: string (nullable = true)\n",
      " |-- source-id: string (nullable = true)\n",
      " |-- subtype: string (nullable = true)\n",
      " |-- subtypeDescription: string (nullable = true)\n",
      "\n"
     ]
    },
    {
     "data": {
      "text/html": [
       "<table border='1'>\n",
       "<tr><th>affiliation</th><th>citedby-count</th><th>dc:creator</th><th>dc:identifier</th><th>dc:title</th><th>eid</th><th>openaccess</th><th>openaccessFlag</th><th>prism:aggregationType</th><th>prism:coverDate</th><th>prism:coverDisplayDate</th><th>prism:doi</th><th>prism:eIssn</th><th>prism:issn</th><th>prism:issueIdentifier</th><th>prism:pageRange</th><th>prism:publicationName</th><th>prism:url</th><th>prism:volume</th><th>source-id</th><th>subtype</th><th>subtypeDescription</th><th>id</th></tr>\n",
       "<tr><td>[{true, Versaille...</td><td>2</td><td>Guessoum S.B.</td><td>SCOPUS_ID:8510563...</td><td>Transcultural and...</td><td>2-s2.0-85105639053</td><td>0</td><td>false</td><td>Journal</td><td>2021-12-01</td><td>December 2021</td><td>10.1177/136346152...</td><td>14617471</td><td>13634615</td><td>6</td><td>804-816</td><td>Transcultural Psy...</td><td>https://api.elsev...</td><td>58</td><td>19928</td><td>ar</td><td>Article</td><td>0</td></tr>\n",
       "<tr><td>[{true, Buenos Ai...</td><td>43</td><td>Lia V.V.</td><td>SCOPUS_ID:7034967...</td><td>Microsatellite va...</td><td>2-s2.0-70349675763</td><td>0</td><td>false</td><td>Journal</td><td>2009-10-01</td><td>October 2009</td><td>10.1007/s00122-00...</td><td>NULL</td><td>00405752</td><td>6</td><td>1053-1067</td><td>Theoretical and A...</td><td>https://api.elsev...</td><td>119</td><td>19046</td><td>ar</td><td>Article</td><td>1</td></tr>\n",
       "<tr><td>[{true, London, U...</td><td>0</td><td>Vasilyeva T.</td><td>SCOPUS_ID:8515943...</td><td>Behavioral View o...</td><td>2-s2.0-85159434767</td><td>0</td><td>false</td><td>Book</td><td>2021-01-01</td><td>1 January 2021</td><td>NULL</td><td>NULL</td><td>NULL</td><td>NULL</td><td>71-87</td><td>Social Inequality...</td><td>https://api.elsev...</td><td>NULL</td><td>21101152010</td><td>ch</td><td>Book Chapter</td><td>2</td></tr>\n",
       "<tr><td>[{true, Chiang Ra...</td><td>369</td><td>Wijayawardene N.N.</td><td>SCOPUS_ID:8503237...</td><td>Notes for genera:...</td><td>2-s2.0-85032377652</td><td>0</td><td>false</td><td>Journal</td><td>2017-09-01</td><td>September 2017</td><td>10.1007/s13225-01...</td><td>18789129</td><td>15602745</td><td>1</td><td>1-594</td><td>Fungal Diversity</td><td>https://api.elsev...</td><td>86</td><td>18567</td><td>ar</td><td>Article</td><td>3</td></tr>\n",
       "<tr><td>[{true, Chicago, ...</td><td>62</td><td>Adsera A.</td><td>SCOPUS_ID:3364573...</td><td>An economic analy...</td><td>2-s2.0-33645737475</td><td>0</td><td>false</td><td>Journal</td><td>2006-03-01</td><td>March 2006</td><td>10.1007/s11150-00...</td><td>15737152</td><td>15695239</td><td>1</td><td>75-95</td><td>Review of Economi...</td><td>https://api.elsev...</td><td>4</td><td>144933</td><td>ar</td><td>Article</td><td>4</td></tr>\n",
       "<tr><td>[{true, Ferrara, ...</td><td>0</td><td>Yu A.C.</td><td>SCOPUS_ID:8518356...</td><td>Bibliometric Anal...</td><td>2-s2.0-85183566743</td><td>0</td><td>false</td><td>Journal</td><td>2023-01-01</td><td>2023</td><td>10.4103/meajo.mea...</td><td>09751599</td><td>09749233</td><td>1</td><td>1-5</td><td>Middle East Afric...</td><td>https://api.elsev...</td><td>30</td><td>19700201212</td><td>ar</td><td>Article</td><td>5</td></tr>\n",
       "<tr><td>[{true, Exeter, U...</td><td>0</td><td>Agius D.A.</td><td>SCOPUS_ID:8514109...</td><td>Human Interaction...</td><td>2-s2.0-85141091868</td><td>0</td><td>false</td><td>Book</td><td>2017-01-01</td><td>1 January 2017</td><td>10.1163/978900433...</td><td>NULL</td><td>NULL</td><td>NULL</td><td>1-442</td><td>Human Interaction...</td><td>https://api.elsev...</td><td>NULL</td><td>21101117983</td><td>bk</td><td>Book</td><td>6</td></tr>\n",
       "<tr><td>[{true, Wuhan, Ch...</td><td>0</td><td>Xu R.</td><td>SCOPUS_ID:8520502...</td><td>Institutional ope...</td><td>2-s2.0-85205024918</td><td>0</td><td>false</td><td>Journal</td><td>2024-12-01</td><td>December 2024</td><td>10.1016/j.econmod...</td><td>NULL</td><td>02649993</td><td>NULL</td><td>NULL</td><td>Economic Modelling</td><td>https://api.elsev...</td><td>141</td><td>28467</td><td>ar</td><td>Article</td><td>7</td></tr>\n",
       "<tr><td>[{true, Vienna, A...</td><td>25</td><td>Tausch A.</td><td>SCOPUS_ID:8495278...</td><td>The political alg...</td><td>2-s2.0-84952781328</td><td>0</td><td>false</td><td>Book</td><td>2014-10-01</td><td>October 01, 2014</td><td>NULL</td><td>NULL</td><td>NULL</td><td>NULL</td><td>1-520</td><td>The Political Alg...</td><td>https://api.elsev...</td><td>NULL</td><td>21100433982</td><td>bk</td><td>Book</td><td>8</td></tr>\n",
       "<tr><td>[{true, Varna, Bu...</td><td>4</td><td>Minkov M.</td><td>SCOPUS_ID:8513586...</td><td>Do religions acco...</td><td>2-s2.0-85135863031</td><td>0</td><td>false</td><td>Journal</td><td>2022-09-20</td><td>20 September 2022</td><td>10.1108/CCSM-09-2...</td><td>NULL</td><td>20595794</td><td>4</td><td>938-962</td><td>Cross Cultural an...</td><td>https://api.elsev...</td><td>29</td><td>21100803392</td><td>ar</td><td>Article</td><td>9</td></tr>\n",
       "<tr><td>[{true, Egham, Un...</td><td>0</td><td>Minca C.</td><td>SCOPUS_ID:8516122...</td><td>Real Tourism: Pra...</td><td>2-s2.0-85161227558</td><td>0</td><td>false</td><td>Book</td><td>2012-01-01</td><td>1 January 2012</td><td>10.4324/978020318...</td><td>NULL</td><td>NULL</td><td>NULL</td><td>1-266</td><td>Real Tourism: Pra...</td><td>https://api.elsev...</td><td>NULL</td><td>21101156398</td><td>bk</td><td>Book</td><td>10</td></tr>\n",
       "<tr><td>[{true, Beijing, ...</td><td>4</td><td>Chen G.</td><td>SCOPUS_ID:8517415...</td><td>Bibliometric Anal...</td><td>2-s2.0-85174154028</td><td>1</td><td>true</td><td>Journal</td><td>2023-10-01</td><td>October 2023</td><td>10.3390/rs15194695</td><td>20724292</td><td>NULL</td><td>19</td><td>NULL</td><td>Remote Sensing</td><td>https://api.elsev...</td><td>15</td><td>86430</td><td>ar</td><td>Article</td><td>11</td></tr>\n",
       "<tr><td>[{true, Abu Dhabi...</td><td>5</td><td>Nobanee H.</td><td>SCOPUS_ID:8518035...</td><td>Analysis of insur...</td><td>2-s2.0-85180357769</td><td>1</td><td>true</td><td>Journal</td><td>2024-05-01</td><td>1 May 2024</td><td>10.1016/j.stae.20...</td><td>27730328</td><td>NULL</td><td>2</td><td>NULL</td><td>Sustainable Techn...</td><td>https://api.elsev...</td><td>3</td><td>21101167218</td><td>re</td><td>Review</td><td>12</td></tr>\n",
       "<tr><td>[{true, Guangzhou...</td><td>99</td><td>Bruton G.</td><td>SCOPUS_ID:8510136...</td><td>Economic inequali...</td><td>2-s2.0-85101365783</td><td>0</td><td>false</td><td>Journal</td><td>2021-05-01</td><td>May 2021</td><td>10.1016/j.jbusven...</td><td>NULL</td><td>08839026</td><td>3</td><td>NULL</td><td>Journal of Busine...</td><td>https://api.elsev...</td><td>36</td><td>23860</td><td>ar</td><td>Article</td><td>13</td></tr>\n",
       "<tr><td>[{true, London, U...</td><td>0</td><td>Hamilton A.</td><td>SCOPUS_ID:8521169...</td><td>History and futur...</td><td>2-s2.0-85211691639</td><td>0</td><td>false</td><td>Book</td><td>2024-11-15</td><td>15 November 2024</td><td>10.1079/978178924...</td><td>NULL</td><td>NULL</td><td>NULL</td><td>1-417</td><td>History and Futur...</td><td>https://api.elsev...</td><td>NULL</td><td>21101263112</td><td>bk</td><td>Book</td><td>14</td></tr>\n",
       "<tr><td>[{true, Madison, ...</td><td>68</td><td>Cleary J.</td><td>SCOPUS_ID:8488898...</td><td>Formulary availab...</td><td>2-s2.0-84888987926</td><td>1</td><td>true</td><td>Journal</td><td>2013-01-01</td><td>December 2013</td><td>10.1093/annonc/md...</td><td>15698041</td><td>09237534</td><td>SUPPLEMENT11</td><td>NULL</td><td>Annals of Oncology</td><td>https://api.elsev...</td><td>24</td><td>28711</td><td>ar</td><td>Article</td><td>15</td></tr>\n",
       "<tr><td>[{true, Durham, U...</td><td>127</td><td>Koenig H.G.</td><td>SCOPUS_ID:8505438...</td><td>Religion and Ment...</td><td>2-s2.0-85054384486</td><td>0</td><td>false</td><td>Book</td><td>2018-01-01</td><td>1 January 2018</td><td>10.1016/C2016-0-0...</td><td>NULL</td><td>NULL</td><td>NULL</td><td>1-363</td><td>Religion and Ment...</td><td>https://api.elsev...</td><td>NULL</td><td>21101118173</td><td>bk</td><td>Book</td><td>16</td></tr>\n",
       "<tr><td>[{true, Beirut, L...</td><td>1</td><td>Malaeb D.</td><td>SCOPUS_ID:8516127...</td><td>The use of intrav...</td><td>2-s2.0-85161271390</td><td>0</td><td>false</td><td>Journal</td><td>2023-08-01</td><td>August 2023</td><td>10.1016/j.jstroke...</td><td>15328511</td><td>10523057</td><td>8</td><td>NULL</td><td>Journal of Stroke...</td><td>https://api.elsev...</td><td>32</td><td>23884</td><td>ar</td><td>Article</td><td>17</td></tr>\n",
       "<tr><td>[{true, Nairobi, ...</td><td>7</td><td>Kimani T.N.</td><td>SCOPUS_ID:8513471...</td><td>Infectious diseas...</td><td>2-s2.0-85134716322</td><td>1</td><td>true</td><td>Journal</td><td>2022-09-01</td><td>September 2022</td><td>10.1016/j.epidem....</td><td>18780067</td><td>17554365</td><td>NULL</td><td>NULL</td><td>Epidemics</td><td>https://api.elsev...</td><td>40</td><td>17300154924</td><td>ar</td><td>Article</td><td>18</td></tr>\n",
       "<tr><td>[{true, Beirut, L...</td><td>0</td><td>Naim R.</td><td>SCOPUS_ID:8517934...</td><td>Correction to: Bu...</td><td>2-s2.0-85179344166</td><td>1</td><td>true</td><td>Journal</td><td>2024-02-01</td><td>February 2024</td><td>10.1007/s10067-02...</td><td>14349949</td><td>07703198</td><td>2</td><td>849</td><td>Clinical Rheumato...</td><td>https://api.elsev...</td><td>43</td><td>19187</td><td>er</td><td>Erratum</td><td>19</td></tr>\n",
       "</table>\n",
       "only showing top 20 rows\n"
      ],
      "text/plain": [
       "+--------------------+-------------+------------------+--------------------+--------------------+------------------+----------+--------------+---------------------+---------------+----------------------+--------------------+-----------+----------+---------------------+---------------+---------------------+--------------------+------------+-----------+-------+------------------+---+\n",
       "|         affiliation|citedby-count|        dc:creator|       dc:identifier|            dc:title|               eid|openaccess|openaccessFlag|prism:aggregationType|prism:coverDate|prism:coverDisplayDate|           prism:doi|prism:eIssn|prism:issn|prism:issueIdentifier|prism:pageRange|prism:publicationName|           prism:url|prism:volume|  source-id|subtype|subtypeDescription| id|\n",
       "+--------------------+-------------+------------------+--------------------+--------------------+------------------+----------+--------------+---------------------+---------------+----------------------+--------------------+-----------+----------+---------------------+---------------+---------------------+--------------------+------------+-----------+-------+------------------+---+\n",
       "|[{true, Versaille...|            2|     Guessoum S.B.|SCOPUS_ID:8510563...|Transcultural and...|2-s2.0-85105639053|         0|         false|              Journal|     2021-12-01|         December 2021|10.1177/136346152...|   14617471|  13634615|                    6|        804-816| Transcultural Psy...|https://api.elsev...|          58|      19928|     ar|           Article|  0|\n",
       "|[{true, Buenos Ai...|           43|          Lia V.V.|SCOPUS_ID:7034967...|Microsatellite va...|2-s2.0-70349675763|         0|         false|              Journal|     2009-10-01|          October 2009|10.1007/s00122-00...|       NULL|  00405752|                    6|      1053-1067| Theoretical and A...|https://api.elsev...|         119|      19046|     ar|           Article|  1|\n",
       "|[{true, London, U...|            0|      Vasilyeva T.|SCOPUS_ID:8515943...|Behavioral View o...|2-s2.0-85159434767|         0|         false|                 Book|     2021-01-01|        1 January 2021|                NULL|       NULL|      NULL|                 NULL|          71-87| Social Inequality...|https://api.elsev...|        NULL|21101152010|     ch|      Book Chapter|  2|\n",
       "|[{true, Chiang Ra...|          369|Wijayawardene N.N.|SCOPUS_ID:8503237...|Notes for genera:...|2-s2.0-85032377652|         0|         false|              Journal|     2017-09-01|        September 2017|10.1007/s13225-01...|   18789129|  15602745|                    1|          1-594|     Fungal Diversity|https://api.elsev...|          86|      18567|     ar|           Article|  3|\n",
       "|[{true, Chicago, ...|           62|         Adsera A.|SCOPUS_ID:3364573...|An economic analy...|2-s2.0-33645737475|         0|         false|              Journal|     2006-03-01|            March 2006|10.1007/s11150-00...|   15737152|  15695239|                    1|          75-95| Review of Economi...|https://api.elsev...|           4|     144933|     ar|           Article|  4|\n",
       "|[{true, Ferrara, ...|            0|           Yu A.C.|SCOPUS_ID:8518356...|Bibliometric Anal...|2-s2.0-85183566743|         0|         false|              Journal|     2023-01-01|                  2023|10.4103/meajo.mea...|   09751599|  09749233|                    1|            1-5| Middle East Afric...|https://api.elsev...|          30|19700201212|     ar|           Article|  5|\n",
       "|[{true, Exeter, U...|            0|        Agius D.A.|SCOPUS_ID:8514109...|Human Interaction...|2-s2.0-85141091868|         0|         false|                 Book|     2017-01-01|        1 January 2017|10.1163/978900433...|       NULL|      NULL|                 NULL|          1-442| Human Interaction...|https://api.elsev...|        NULL|21101117983|     bk|              Book|  6|\n",
       "|[{true, Wuhan, Ch...|            0|             Xu R.|SCOPUS_ID:8520502...|Institutional ope...|2-s2.0-85205024918|         0|         false|              Journal|     2024-12-01|         December 2024|10.1016/j.econmod...|       NULL|  02649993|                 NULL|           NULL|   Economic Modelling|https://api.elsev...|         141|      28467|     ar|           Article|  7|\n",
       "|[{true, Vienna, A...|           25|         Tausch A.|SCOPUS_ID:8495278...|The political alg...|2-s2.0-84952781328|         0|         false|                 Book|     2014-10-01|      October 01, 2014|                NULL|       NULL|      NULL|                 NULL|          1-520| The Political Alg...|https://api.elsev...|        NULL|21100433982|     bk|              Book|  8|\n",
       "|[{true, Varna, Bu...|            4|         Minkov M.|SCOPUS_ID:8513586...|Do religions acco...|2-s2.0-85135863031|         0|         false|              Journal|     2022-09-20|     20 September 2022|10.1108/CCSM-09-2...|       NULL|  20595794|                    4|        938-962| Cross Cultural an...|https://api.elsev...|          29|21100803392|     ar|           Article|  9|\n",
       "|[{true, Egham, Un...|            0|          Minca C.|SCOPUS_ID:8516122...|Real Tourism: Pra...|2-s2.0-85161227558|         0|         false|                 Book|     2012-01-01|        1 January 2012|10.4324/978020318...|       NULL|      NULL|                 NULL|          1-266| Real Tourism: Pra...|https://api.elsev...|        NULL|21101156398|     bk|              Book| 10|\n",
       "|[{true, Beijing, ...|            4|           Chen G.|SCOPUS_ID:8517415...|Bibliometric Anal...|2-s2.0-85174154028|         1|          true|              Journal|     2023-10-01|          October 2023|  10.3390/rs15194695|   20724292|      NULL|                   19|           NULL|       Remote Sensing|https://api.elsev...|          15|      86430|     ar|           Article| 11|\n",
       "|[{true, Abu Dhabi...|            5|        Nobanee H.|SCOPUS_ID:8518035...|Analysis of insur...|2-s2.0-85180357769|         1|          true|              Journal|     2024-05-01|            1 May 2024|10.1016/j.stae.20...|   27730328|      NULL|                    2|           NULL| Sustainable Techn...|https://api.elsev...|           3|21101167218|     re|            Review| 12|\n",
       "|[{true, Guangzhou...|           99|         Bruton G.|SCOPUS_ID:8510136...|Economic inequali...|2-s2.0-85101365783|         0|         false|              Journal|     2021-05-01|              May 2021|10.1016/j.jbusven...|       NULL|  08839026|                    3|           NULL| Journal of Busine...|https://api.elsev...|          36|      23860|     ar|           Article| 13|\n",
       "|[{true, London, U...|            0|       Hamilton A.|SCOPUS_ID:8521169...|History and futur...|2-s2.0-85211691639|         0|         false|                 Book|     2024-11-15|      15 November 2024|10.1079/978178924...|       NULL|      NULL|                 NULL|          1-417| History and Futur...|https://api.elsev...|        NULL|21101263112|     bk|              Book| 14|\n",
       "|[{true, Madison, ...|           68|         Cleary J.|SCOPUS_ID:8488898...|Formulary availab...|2-s2.0-84888987926|         1|          true|              Journal|     2013-01-01|         December 2013|10.1093/annonc/md...|   15698041|  09237534|         SUPPLEMENT11|           NULL|   Annals of Oncology|https://api.elsev...|          24|      28711|     ar|           Article| 15|\n",
       "|[{true, Durham, U...|          127|       Koenig H.G.|SCOPUS_ID:8505438...|Religion and Ment...|2-s2.0-85054384486|         0|         false|                 Book|     2018-01-01|        1 January 2018|10.1016/C2016-0-0...|       NULL|      NULL|                 NULL|          1-363| Religion and Ment...|https://api.elsev...|        NULL|21101118173|     bk|              Book| 16|\n",
       "|[{true, Beirut, L...|            1|         Malaeb D.|SCOPUS_ID:8516127...|The use of intrav...|2-s2.0-85161271390|         0|         false|              Journal|     2023-08-01|           August 2023|10.1016/j.jstroke...|   15328511|  10523057|                    8|           NULL| Journal of Stroke...|https://api.elsev...|          32|      23884|     ar|           Article| 17|\n",
       "|[{true, Nairobi, ...|            7|       Kimani T.N.|SCOPUS_ID:8513471...|Infectious diseas...|2-s2.0-85134716322|         1|          true|              Journal|     2022-09-01|        September 2022|10.1016/j.epidem....|   18780067|  17554365|                 NULL|           NULL|            Epidemics|https://api.elsev...|          40|17300154924|     ar|           Article| 18|\n",
       "|[{true, Beirut, L...|            0|           Naim R.|SCOPUS_ID:8517934...|Correction to: Bu...|2-s2.0-85179344166|         1|          true|              Journal|     2024-02-01|         February 2024|10.1007/s10067-02...|   14349949|  07703198|                    2|            849| Clinical Rheumato...|https://api.elsev...|          43|      19187|     er|           Erratum| 19|\n",
       "+--------------------+-------------+------------------+--------------------+--------------------+------------------+----------+--------------+---------------------+---------------+----------------------+--------------------+-----------+----------+---------------------+---------------+---------------------+--------------------+------------+-----------+-------+------------------+---+\n",
       "only showing top 20 rows"
      ]
     },
     "execution_count": 25,
     "metadata": {},
     "output_type": "execute_result"
    }
   ],
   "source": [
    "folder_path = \"/home/jovyan/data/\"\n",
    "df = spark.read.json(folder_path)\n",
    "df.printSchema()\n",
    "df_with_id = df.withColumn(\"id\", monotonically_increasing_id())\n",
    "df_with_id"
   ]
  },
  {
   "cell_type": "code",
   "execution_count": 17,
   "id": "e91d143a-e941-4203-b2e9-bcfc3f2d545f",
   "metadata": {},
   "outputs": [
    {
     "data": {
      "text/html": [
       "<table border='1'>\n",
       "<tr><th>affiliation</th></tr>\n",
       "<tr><td>[{true, Versaille...</td></tr>\n",
       "<tr><td>[{true, Buenos Ai...</td></tr>\n",
       "<tr><td>[{true, London, U...</td></tr>\n",
       "<tr><td>[{true, Chiang Ra...</td></tr>\n",
       "<tr><td>[{true, Chicago, ...</td></tr>\n",
       "<tr><td>[{true, Ferrara, ...</td></tr>\n",
       "<tr><td>[{true, Exeter, U...</td></tr>\n",
       "<tr><td>[{true, Wuhan, Ch...</td></tr>\n",
       "<tr><td>[{true, Vienna, A...</td></tr>\n",
       "<tr><td>[{true, Varna, Bu...</td></tr>\n",
       "<tr><td>[{true, Egham, Un...</td></tr>\n",
       "<tr><td>[{true, Beijing, ...</td></tr>\n",
       "<tr><td>[{true, Abu Dhabi...</td></tr>\n",
       "<tr><td>[{true, Guangzhou...</td></tr>\n",
       "<tr><td>[{true, London, U...</td></tr>\n",
       "<tr><td>[{true, Madison, ...</td></tr>\n",
       "<tr><td>[{true, Durham, U...</td></tr>\n",
       "<tr><td>[{true, Beirut, L...</td></tr>\n",
       "<tr><td>[{true, Nairobi, ...</td></tr>\n",
       "<tr><td>[{true, Beirut, L...</td></tr>\n",
       "</table>\n",
       "only showing top 20 rows\n"
      ],
      "text/plain": [
       "+--------------------+\n",
       "|         affiliation|\n",
       "+--------------------+\n",
       "|[{true, Versaille...|\n",
       "|[{true, Buenos Ai...|\n",
       "|[{true, London, U...|\n",
       "|[{true, Chiang Ra...|\n",
       "|[{true, Chicago, ...|\n",
       "|[{true, Ferrara, ...|\n",
       "|[{true, Exeter, U...|\n",
       "|[{true, Wuhan, Ch...|\n",
       "|[{true, Vienna, A...|\n",
       "|[{true, Varna, Bu...|\n",
       "|[{true, Egham, Un...|\n",
       "|[{true, Beijing, ...|\n",
       "|[{true, Abu Dhabi...|\n",
       "|[{true, Guangzhou...|\n",
       "|[{true, London, U...|\n",
       "|[{true, Madison, ...|\n",
       "|[{true, Durham, U...|\n",
       "|[{true, Beirut, L...|\n",
       "|[{true, Nairobi, ...|\n",
       "|[{true, Beirut, L...|\n",
       "+--------------------+\n",
       "only showing top 20 rows"
      ]
     },
     "execution_count": 17,
     "metadata": {},
     "output_type": "execute_result"
    }
   ],
   "source": [
    "df.select(\"affiliation\")"
   ]
  },
  {
   "cell_type": "code",
   "execution_count": 23,
   "id": "806bd497-bf67-441a-94b5-fc737997a83f",
   "metadata": {},
   "outputs": [
    {
     "data": {
      "text/html": [
       "<table border='1'>\n",
       "<tr><th>affilname</th><th>affiliation-city</th><th>affiliation-country</th><th>id</th></tr>\n",
       "<tr><td>[Universit&eacute; de Ve...</td><td>[Versailles, Pari...</td><td>[France, France, ...</td><td>0</td></tr>\n",
       "<tr><td>[Instituto Nacion...</td><td>[Buenos Aires, Bu...</td><td>[Argentina, Argen...</td><td>1</td></tr>\n",
       "<tr><td>[European Bank fo...</td><td>[London, Sumy, NU...</td><td>[United Kingdom, ...</td><td>2</td></tr>\n",
       "<tr><td>[Mae Fah Luang Un...</td><td>[Chiang Rai, Kunm...</td><td>[Thailand, China,...</td><td>3</td></tr>\n",
       "<tr><td>[Population Resea...</td><td>[Chicago, Chicago...</td><td>[United States, U...</td><td>4</td></tr>\n",
       "<tr><td>[University of Fe...</td><td>[Ferrara, Forli, ...</td><td>[Italy, Italy, It...</td><td>5</td></tr>\n",
       "<tr><td>[University of Ex...</td><td>[Exeter, Jeddah, ...</td><td>[United Kingdom, ...</td><td>6</td></tr>\n",
       "<tr><td>[Hubei University...</td><td>[Wuhan, Wuhan, Wu...</td><td>[China, China, Ch...</td><td>7</td></tr>\n",
       "<tr><td>[Universit&auml;t Wien...</td><td>[Vienna, Innsbruc...</td><td>[Austria, Austria...</td><td>8</td></tr>\n",
       "<tr><td>[Varna University...</td><td>[Varna, Tartu, Mo...</td><td>[Bulgaria, Estoni...</td><td>9</td></tr>\n",
       "<tr><td>[Royal Holloway, ...</td><td>[Egham, Tokyo, Wa...</td><td>[United Kingdom, ...</td><td>10</td></tr>\n",
       "<tr><td>[Aerospace Inform...</td><td>[Beijing, Beijing...</td><td>[China, China, Ch...</td><td>11</td></tr>\n",
       "<tr><td>[Abu Dhabi Univer...</td><td>[Abu Dhabi, Oxfor...</td><td>[United Arab Emir...</td><td>12</td></tr>\n",
       "<tr><td>[Sun Yat-Sen Univ...</td><td>[Guangzhou, Fort ...</td><td>[China, United St...</td><td>13</td></tr>\n",
       "<tr><td>[The Linnean Soci...</td><td>[London, Kunming]</td><td>[United Kingdom, ...</td><td>14</td></tr>\n",
       "<tr><td>[University of Wi...</td><td>[Madison, Madison]</td><td>[United States, U...</td><td>15</td></tr>\n",
       "<tr><td>[Duke University ...</td><td>[Durham, Yinchuan...</td><td>[United States, C...</td><td>16</td></tr>\n",
       "<tr><td>[Lebanese Interna...</td><td>[Beirut, Ajman]</td><td>[Lebanon, United ...</td><td>17</td></tr>\n",
       "<tr><td>[University of Na...</td><td>[Nairobi, Allen, ...</td><td>[Kenya, United St...</td><td>18</td></tr>\n",
       "<tr><td>[H&ocirc;tel-Dieu de Fr...</td><td>[Beirut, Beirut]</td><td>[Lebanon, Lebanon]</td><td>19</td></tr>\n",
       "</table>\n",
       "only showing top 20 rows\n"
      ],
      "text/plain": [
       "+--------------------+--------------------+--------------------+---+\n",
       "|           affilname|    affiliation-city| affiliation-country| id|\n",
       "+--------------------+--------------------+--------------------+---+\n",
       "|[Université de Ve...|[Versailles, Pari...|[France, France, ...|  0|\n",
       "|[Instituto Nacion...|[Buenos Aires, Bu...|[Argentina, Argen...|  1|\n",
       "|[European Bank fo...|[London, Sumy, NU...|[United Kingdom, ...|  2|\n",
       "|[Mae Fah Luang Un...|[Chiang Rai, Kunm...|[Thailand, China,...|  3|\n",
       "|[Population Resea...|[Chicago, Chicago...|[United States, U...|  4|\n",
       "|[University of Fe...|[Ferrara, Forli, ...|[Italy, Italy, It...|  5|\n",
       "|[University of Ex...|[Exeter, Jeddah, ...|[United Kingdom, ...|  6|\n",
       "|[Hubei University...|[Wuhan, Wuhan, Wu...|[China, China, Ch...|  7|\n",
       "|[Universität Wien...|[Vienna, Innsbruc...|[Austria, Austria...|  8|\n",
       "|[Varna University...|[Varna, Tartu, Mo...|[Bulgaria, Estoni...|  9|\n",
       "|[Royal Holloway, ...|[Egham, Tokyo, Wa...|[United Kingdom, ...| 10|\n",
       "|[Aerospace Inform...|[Beijing, Beijing...|[China, China, Ch...| 11|\n",
       "|[Abu Dhabi Univer...|[Abu Dhabi, Oxfor...|[United Arab Emir...| 12|\n",
       "|[Sun Yat-Sen Univ...|[Guangzhou, Fort ...|[China, United St...| 13|\n",
       "|[The Linnean Soci...|   [London, Kunming]|[United Kingdom, ...| 14|\n",
       "|[University of Wi...|  [Madison, Madison]|[United States, U...| 15|\n",
       "|[Duke University ...|[Durham, Yinchuan...|[United States, C...| 16|\n",
       "|[Lebanese Interna...|     [Beirut, Ajman]|[Lebanon, United ...| 17|\n",
       "|[University of Na...|[Nairobi, Allen, ...|[Kenya, United St...| 18|\n",
       "|[Hôtel-Dieu de Fr...|    [Beirut, Beirut]|  [Lebanon, Lebanon]| 19|\n",
       "+--------------------+--------------------+--------------------+---+\n",
       "only showing top 20 rows"
      ]
     },
     "execution_count": 23,
     "metadata": {},
     "output_type": "execute_result"
    }
   ],
   "source": [
    "from pyspark.sql.functions import monotonically_increasing_id\n",
    "df_extracted = df.select(\n",
    "    \"affiliation.affilname\", \n",
    "    \"affiliation.affiliation-city\", \n",
    "    \"affiliation.affiliation-country\"  \n",
    ")\n",
    "df_with_id = df_extracted.withColumn(\"id\", monotonically_increasing_id())\n",
    "\n",
    "df_with_id"
   ]
  },
  {
   "cell_type": "code",
   "execution_count": 35,
   "id": "c5625242-3c0a-449c-b497-8b0254137b12",
   "metadata": {},
   "outputs": [
    {
     "data": {
      "text/html": [
       "<table border='1'>\n",
       "<tr><th>id</th><th>affilname</th><th>affiliation_city</th><th>affiliation_country</th></tr>\n",
       "<tr><td>0</td><td>Universit&eacute; de Ver...</td><td>[Versailles, Pari...</td><td>[France, France, ...</td></tr>\n",
       "<tr><td>1</td><td>Hopital Cochin AP-HP</td><td>[Versailles, Pari...</td><td>[France, France, ...</td></tr>\n",
       "<tr><td>2</td><td>University Sorbon...</td><td>[Versailles, Pari...</td><td>[France, France, ...</td></tr>\n",
       "<tr><td>3</td><td>University of Paris</td><td>[Versailles, Pari...</td><td>[France, France, ...</td></tr>\n",
       "<tr><td>4</td><td>Instituto Naciona...</td><td>[Buenos Aires, Bu...</td><td>[Argentina, Argen...</td></tr>\n",
       "<tr><td>5</td><td>Consejo Nacional ...</td><td>[Buenos Aires, Bu...</td><td>[Argentina, Argen...</td></tr>\n",
       "<tr><td>6</td><td>Universidad de Bu...</td><td>[Buenos Aires, Bu...</td><td>[Argentina, Argen...</td></tr>\n",
       "<tr><td>7</td><td>European Bank for...</td><td>[London, Sumy, NU...</td><td>[United Kingdom, ...</td></tr>\n",
       "<tr><td>8</td><td>Sumy State Univer...</td><td>[London, Sumy, NU...</td><td>[United Kingdom, ...</td></tr>\n",
       "<tr><td>9</td><td>Economics and Man...</td><td>[London, Sumy, NU...</td><td>[United Kingdom, ...</td></tr>\n",
       "<tr><td>10</td><td>NGO &ldquo;Council of Y...</td><td>[London, Sumy, NU...</td><td>[United Kingdom, ...</td></tr>\n",
       "<tr><td>11</td><td>Mae Fah Luang Uni...</td><td>[Chiang Rai, Kunm...</td><td>[Thailand, China,...</td></tr>\n",
       "<tr><td>12</td><td>Kunming Institute...</td><td>[Chiang Rai, Kunm...</td><td>[Thailand, China,...</td></tr>\n",
       "<tr><td>13</td><td>East and Central ...</td><td>[Chiang Rai, Kunm...</td><td>[Thailand, China,...</td></tr>\n",
       "<tr><td>14</td><td>Mushroom Research...</td><td>[Chiang Rai, Kunm...</td><td>[Thailand, China,...</td></tr>\n",
       "<tr><td>15</td><td>Population Resear...</td><td>[Chicago, Chicago...</td><td>[United States, U...</td></tr>\n",
       "<tr><td>16</td><td>University of Ill...</td><td>[Chicago, Chicago...</td><td>[United States, U...</td></tr>\n",
       "<tr><td>17</td><td>Forschungsinstitu...</td><td>[Chicago, Chicago...</td><td>[United States, U...</td></tr>\n",
       "<tr><td>18</td><td>University of Fer...</td><td>[Ferrara, Forli, ...</td><td>[Italy, Italy, It...</td></tr>\n",
       "<tr><td>19</td><td>Ospedali Privati ...</td><td>[Ferrara, Forli, ...</td><td>[Italy, Italy, It...</td></tr>\n",
       "</table>\n",
       "only showing top 20 rows\n"
      ],
      "text/plain": [
       "+---+--------------------+--------------------+--------------------+\n",
       "| id|           affilname|    affiliation_city| affiliation_country|\n",
       "+---+--------------------+--------------------+--------------------+\n",
       "|  0|Université de Ver...|[Versailles, Pari...|[France, France, ...|\n",
       "|  1|Hopital Cochin AP-HP|[Versailles, Pari...|[France, France, ...|\n",
       "|  2|University Sorbon...|[Versailles, Pari...|[France, France, ...|\n",
       "|  3| University of Paris|[Versailles, Pari...|[France, France, ...|\n",
       "|  4|Instituto Naciona...|[Buenos Aires, Bu...|[Argentina, Argen...|\n",
       "|  5|Consejo Nacional ...|[Buenos Aires, Bu...|[Argentina, Argen...|\n",
       "|  6|Universidad de Bu...|[Buenos Aires, Bu...|[Argentina, Argen...|\n",
       "|  7|European Bank for...|[London, Sumy, NU...|[United Kingdom, ...|\n",
       "|  8|Sumy State Univer...|[London, Sumy, NU...|[United Kingdom, ...|\n",
       "|  9|Economics and Man...|[London, Sumy, NU...|[United Kingdom, ...|\n",
       "| 10|NGO “Council of Y...|[London, Sumy, NU...|[United Kingdom, ...|\n",
       "| 11|Mae Fah Luang Uni...|[Chiang Rai, Kunm...|[Thailand, China,...|\n",
       "| 12|Kunming Institute...|[Chiang Rai, Kunm...|[Thailand, China,...|\n",
       "| 13|East and Central ...|[Chiang Rai, Kunm...|[Thailand, China,...|\n",
       "| 14|Mushroom Research...|[Chiang Rai, Kunm...|[Thailand, China,...|\n",
       "| 15|Population Resear...|[Chicago, Chicago...|[United States, U...|\n",
       "| 16|University of Ill...|[Chicago, Chicago...|[United States, U...|\n",
       "| 17|Forschungsinstitu...|[Chicago, Chicago...|[United States, U...|\n",
       "| 18|University of Fer...|[Ferrara, Forli, ...|[Italy, Italy, It...|\n",
       "| 19|Ospedali Privati ...|[Ferrara, Forli, ...|[Italy, Italy, It...|\n",
       "+---+--------------------+--------------------+--------------------+\n",
       "only showing top 20 rows"
      ]
     },
     "execution_count": 35,
     "metadata": {},
     "output_type": "execute_result"
    }
   ],
   "source": [
    "from pyspark.sql import SparkSession\n",
    "from pyspark.sql.functions import explode, monotonically_increasing_id, col\n",
    "\n",
    "df_exploded = df.withColumn(\"affilname\", explode(\"affiliation.affilname\"))\n",
    "\n",
    "df_with_id = df_exploded.withColumn(\"id\", monotonically_increasing_id())\n",
    "\n",
    "df_final = df_with_id.select(\n",
    "    \"id\",  \n",
    "    col(\"affilname\"), \n",
    "    \n",
    ")\n",
    "\n",
    "\n",
    "df_final\n"
   ]
  },
  {
   "cell_type": "code",
   "execution_count": 38,
   "id": "0780675b-44d4-4371-8098-6269c8b934e2",
   "metadata": {},
   "outputs": [],
   "source": [
    "from pyspark.sql import SparkSession\n",
    "from pyspark.sql.functions import explode, monotonically_increasing_id, col\n",
    "\n",
    "df_exploded = df.withColumn(\"affilname\", explode(\"affiliation.affilname\"))\\\n",
    "                .withColumn(\"affiliation_city\", explode(\"affiliation.affiliation-city\")) \\\n",
    "                .withColumn(\"affiliation_country\", explode(\"affiliation.affiliation-country\"))\n",
    "\n",
    "\n",
    "df_with_id = df_exploded.withColumn(\"id\", monotonically_increasing_id())\n",
    "\n",
    "\n",
    "df_final = df_with_id.select(\n",
    "    \"id\",  \n",
    "    \"affilname\",\n",
    "    \"affiliation_city\",  \n",
    "    \"affiliation_country\",\n",
    "    \n",
    ")\n"
   ]
  },
  {
   "cell_type": "code",
   "execution_count": 39,
   "id": "b3d95adf-0800-48e7-9474-05440367c6b7",
   "metadata": {},
   "outputs": [
    {
     "data": {
      "text/html": [
       "<table border='1'>\n",
       "<tr><th>id</th><th>affilname</th><th>affiliation_city</th><th>affiliation_country</th></tr>\n",
       "<tr><td>0</td><td>Universit&eacute; de Ver...</td><td>Versailles</td><td>France</td></tr>\n",
       "<tr><td>1</td><td>Universit&eacute; de Ver...</td><td>Versailles</td><td>France</td></tr>\n",
       "<tr><td>2</td><td>Universit&eacute; de Ver...</td><td>Versailles</td><td>France</td></tr>\n",
       "<tr><td>3</td><td>Universit&eacute; de Ver...</td><td>Versailles</td><td>France</td></tr>\n",
       "<tr><td>4</td><td>Universit&eacute; de Ver...</td><td>Paris</td><td>France</td></tr>\n",
       "<tr><td>5</td><td>Universit&eacute; de Ver...</td><td>Paris</td><td>France</td></tr>\n",
       "<tr><td>6</td><td>Universit&eacute; de Ver...</td><td>Paris</td><td>France</td></tr>\n",
       "<tr><td>7</td><td>Universit&eacute; de Ver...</td><td>Paris</td><td>France</td></tr>\n",
       "<tr><td>8</td><td>Universit&eacute; de Ver...</td><td>Villetaneuse</td><td>France</td></tr>\n",
       "<tr><td>9</td><td>Universit&eacute; de Ver...</td><td>Villetaneuse</td><td>France</td></tr>\n",
       "<tr><td>10</td><td>Universit&eacute; de Ver...</td><td>Villetaneuse</td><td>France</td></tr>\n",
       "<tr><td>11</td><td>Universit&eacute; de Ver...</td><td>Villetaneuse</td><td>France</td></tr>\n",
       "<tr><td>12</td><td>Universit&eacute; de Ver...</td><td>Boulogne-Billancourt</td><td>France</td></tr>\n",
       "<tr><td>13</td><td>Universit&eacute; de Ver...</td><td>Boulogne-Billancourt</td><td>France</td></tr>\n",
       "<tr><td>14</td><td>Universit&eacute; de Ver...</td><td>Boulogne-Billancourt</td><td>France</td></tr>\n",
       "<tr><td>15</td><td>Universit&eacute; de Ver...</td><td>Boulogne-Billancourt</td><td>France</td></tr>\n",
       "<tr><td>16</td><td>Hopital Cochin AP-HP</td><td>Versailles</td><td>France</td></tr>\n",
       "<tr><td>17</td><td>Hopital Cochin AP-HP</td><td>Versailles</td><td>France</td></tr>\n",
       "<tr><td>18</td><td>Hopital Cochin AP-HP</td><td>Versailles</td><td>France</td></tr>\n",
       "<tr><td>19</td><td>Hopital Cochin AP-HP</td><td>Versailles</td><td>France</td></tr>\n",
       "</table>\n",
       "only showing top 20 rows\n"
      ],
      "text/plain": [
       "+---+--------------------+--------------------+-------------------+\n",
       "| id|           affilname|    affiliation_city|affiliation_country|\n",
       "+---+--------------------+--------------------+-------------------+\n",
       "|  0|Université de Ver...|          Versailles|             France|\n",
       "|  1|Université de Ver...|          Versailles|             France|\n",
       "|  2|Université de Ver...|          Versailles|             France|\n",
       "|  3|Université de Ver...|          Versailles|             France|\n",
       "|  4|Université de Ver...|               Paris|             France|\n",
       "|  5|Université de Ver...|               Paris|             France|\n",
       "|  6|Université de Ver...|               Paris|             France|\n",
       "|  7|Université de Ver...|               Paris|             France|\n",
       "|  8|Université de Ver...|        Villetaneuse|             France|\n",
       "|  9|Université de Ver...|        Villetaneuse|             France|\n",
       "| 10|Université de Ver...|        Villetaneuse|             France|\n",
       "| 11|Université de Ver...|        Villetaneuse|             France|\n",
       "| 12|Université de Ver...|Boulogne-Billancourt|             France|\n",
       "| 13|Université de Ver...|Boulogne-Billancourt|             France|\n",
       "| 14|Université de Ver...|Boulogne-Billancourt|             France|\n",
       "| 15|Université de Ver...|Boulogne-Billancourt|             France|\n",
       "| 16|Hopital Cochin AP-HP|          Versailles|             France|\n",
       "| 17|Hopital Cochin AP-HP|          Versailles|             France|\n",
       "| 18|Hopital Cochin AP-HP|          Versailles|             France|\n",
       "| 19|Hopital Cochin AP-HP|          Versailles|             France|\n",
       "+---+--------------------+--------------------+-------------------+\n",
       "only showing top 20 rows"
      ]
     },
     "execution_count": 39,
     "metadata": {},
     "output_type": "execute_result"
    }
   ],
   "source": [
    "df_final"
   ]
  },
  {
   "cell_type": "code",
   "execution_count": 40,
   "id": "5498e934-789f-42cd-8392-bf97d9aaee0b",
   "metadata": {},
   "outputs": [],
   "source": [
    "df_with_id_cleaned = df_with_id.drop(\"affiliation\")"
   ]
  },
  {
   "cell_type": "code",
   "execution_count": 41,
   "id": "93ca653a-1610-4669-b5d2-fec65bb9f022",
   "metadata": {},
   "outputs": [
    {
     "data": {
      "text/html": [
       "<table border='1'>\n",
       "<tr><th>citedby-count</th><th>dc:creator</th><th>dc:identifier</th><th>dc:title</th><th>eid</th><th>openaccess</th><th>openaccessFlag</th><th>prism:aggregationType</th><th>prism:coverDate</th><th>prism:coverDisplayDate</th><th>prism:doi</th><th>prism:eIssn</th><th>prism:issn</th><th>prism:issueIdentifier</th><th>prism:pageRange</th><th>prism:publicationName</th><th>prism:url</th><th>prism:volume</th><th>source-id</th><th>subtype</th><th>subtypeDescription</th><th>affilname</th><th>affiliation_city</th><th>affiliation_country</th><th>id</th></tr>\n",
       "<tr><td>2</td><td>Guessoum S.B.</td><td>SCOPUS_ID:8510563...</td><td>Transcultural and...</td><td>2-s2.0-85105639053</td><td>0</td><td>false</td><td>Journal</td><td>2021-12-01</td><td>December 2021</td><td>10.1177/136346152...</td><td>14617471</td><td>13634615</td><td>6</td><td>804-816</td><td>Transcultural Psy...</td><td>https://api.elsev...</td><td>58</td><td>19928</td><td>ar</td><td>Article</td><td>Universit&eacute; de Ver...</td><td>Versailles</td><td>France</td><td>0</td></tr>\n",
       "<tr><td>2</td><td>Guessoum S.B.</td><td>SCOPUS_ID:8510563...</td><td>Transcultural and...</td><td>2-s2.0-85105639053</td><td>0</td><td>false</td><td>Journal</td><td>2021-12-01</td><td>December 2021</td><td>10.1177/136346152...</td><td>14617471</td><td>13634615</td><td>6</td><td>804-816</td><td>Transcultural Psy...</td><td>https://api.elsev...</td><td>58</td><td>19928</td><td>ar</td><td>Article</td><td>Universit&eacute; de Ver...</td><td>Versailles</td><td>France</td><td>1</td></tr>\n",
       "<tr><td>2</td><td>Guessoum S.B.</td><td>SCOPUS_ID:8510563...</td><td>Transcultural and...</td><td>2-s2.0-85105639053</td><td>0</td><td>false</td><td>Journal</td><td>2021-12-01</td><td>December 2021</td><td>10.1177/136346152...</td><td>14617471</td><td>13634615</td><td>6</td><td>804-816</td><td>Transcultural Psy...</td><td>https://api.elsev...</td><td>58</td><td>19928</td><td>ar</td><td>Article</td><td>Universit&eacute; de Ver...</td><td>Versailles</td><td>France</td><td>2</td></tr>\n",
       "<tr><td>2</td><td>Guessoum S.B.</td><td>SCOPUS_ID:8510563...</td><td>Transcultural and...</td><td>2-s2.0-85105639053</td><td>0</td><td>false</td><td>Journal</td><td>2021-12-01</td><td>December 2021</td><td>10.1177/136346152...</td><td>14617471</td><td>13634615</td><td>6</td><td>804-816</td><td>Transcultural Psy...</td><td>https://api.elsev...</td><td>58</td><td>19928</td><td>ar</td><td>Article</td><td>Universit&eacute; de Ver...</td><td>Versailles</td><td>France</td><td>3</td></tr>\n",
       "<tr><td>2</td><td>Guessoum S.B.</td><td>SCOPUS_ID:8510563...</td><td>Transcultural and...</td><td>2-s2.0-85105639053</td><td>0</td><td>false</td><td>Journal</td><td>2021-12-01</td><td>December 2021</td><td>10.1177/136346152...</td><td>14617471</td><td>13634615</td><td>6</td><td>804-816</td><td>Transcultural Psy...</td><td>https://api.elsev...</td><td>58</td><td>19928</td><td>ar</td><td>Article</td><td>Universit&eacute; de Ver...</td><td>Paris</td><td>France</td><td>4</td></tr>\n",
       "<tr><td>2</td><td>Guessoum S.B.</td><td>SCOPUS_ID:8510563...</td><td>Transcultural and...</td><td>2-s2.0-85105639053</td><td>0</td><td>false</td><td>Journal</td><td>2021-12-01</td><td>December 2021</td><td>10.1177/136346152...</td><td>14617471</td><td>13634615</td><td>6</td><td>804-816</td><td>Transcultural Psy...</td><td>https://api.elsev...</td><td>58</td><td>19928</td><td>ar</td><td>Article</td><td>Universit&eacute; de Ver...</td><td>Paris</td><td>France</td><td>5</td></tr>\n",
       "<tr><td>2</td><td>Guessoum S.B.</td><td>SCOPUS_ID:8510563...</td><td>Transcultural and...</td><td>2-s2.0-85105639053</td><td>0</td><td>false</td><td>Journal</td><td>2021-12-01</td><td>December 2021</td><td>10.1177/136346152...</td><td>14617471</td><td>13634615</td><td>6</td><td>804-816</td><td>Transcultural Psy...</td><td>https://api.elsev...</td><td>58</td><td>19928</td><td>ar</td><td>Article</td><td>Universit&eacute; de Ver...</td><td>Paris</td><td>France</td><td>6</td></tr>\n",
       "<tr><td>2</td><td>Guessoum S.B.</td><td>SCOPUS_ID:8510563...</td><td>Transcultural and...</td><td>2-s2.0-85105639053</td><td>0</td><td>false</td><td>Journal</td><td>2021-12-01</td><td>December 2021</td><td>10.1177/136346152...</td><td>14617471</td><td>13634615</td><td>6</td><td>804-816</td><td>Transcultural Psy...</td><td>https://api.elsev...</td><td>58</td><td>19928</td><td>ar</td><td>Article</td><td>Universit&eacute; de Ver...</td><td>Paris</td><td>France</td><td>7</td></tr>\n",
       "<tr><td>2</td><td>Guessoum S.B.</td><td>SCOPUS_ID:8510563...</td><td>Transcultural and...</td><td>2-s2.0-85105639053</td><td>0</td><td>false</td><td>Journal</td><td>2021-12-01</td><td>December 2021</td><td>10.1177/136346152...</td><td>14617471</td><td>13634615</td><td>6</td><td>804-816</td><td>Transcultural Psy...</td><td>https://api.elsev...</td><td>58</td><td>19928</td><td>ar</td><td>Article</td><td>Universit&eacute; de Ver...</td><td>Villetaneuse</td><td>France</td><td>8</td></tr>\n",
       "<tr><td>2</td><td>Guessoum S.B.</td><td>SCOPUS_ID:8510563...</td><td>Transcultural and...</td><td>2-s2.0-85105639053</td><td>0</td><td>false</td><td>Journal</td><td>2021-12-01</td><td>December 2021</td><td>10.1177/136346152...</td><td>14617471</td><td>13634615</td><td>6</td><td>804-816</td><td>Transcultural Psy...</td><td>https://api.elsev...</td><td>58</td><td>19928</td><td>ar</td><td>Article</td><td>Universit&eacute; de Ver...</td><td>Villetaneuse</td><td>France</td><td>9</td></tr>\n",
       "<tr><td>2</td><td>Guessoum S.B.</td><td>SCOPUS_ID:8510563...</td><td>Transcultural and...</td><td>2-s2.0-85105639053</td><td>0</td><td>false</td><td>Journal</td><td>2021-12-01</td><td>December 2021</td><td>10.1177/136346152...</td><td>14617471</td><td>13634615</td><td>6</td><td>804-816</td><td>Transcultural Psy...</td><td>https://api.elsev...</td><td>58</td><td>19928</td><td>ar</td><td>Article</td><td>Universit&eacute; de Ver...</td><td>Villetaneuse</td><td>France</td><td>10</td></tr>\n",
       "<tr><td>2</td><td>Guessoum S.B.</td><td>SCOPUS_ID:8510563...</td><td>Transcultural and...</td><td>2-s2.0-85105639053</td><td>0</td><td>false</td><td>Journal</td><td>2021-12-01</td><td>December 2021</td><td>10.1177/136346152...</td><td>14617471</td><td>13634615</td><td>6</td><td>804-816</td><td>Transcultural Psy...</td><td>https://api.elsev...</td><td>58</td><td>19928</td><td>ar</td><td>Article</td><td>Universit&eacute; de Ver...</td><td>Villetaneuse</td><td>France</td><td>11</td></tr>\n",
       "<tr><td>2</td><td>Guessoum S.B.</td><td>SCOPUS_ID:8510563...</td><td>Transcultural and...</td><td>2-s2.0-85105639053</td><td>0</td><td>false</td><td>Journal</td><td>2021-12-01</td><td>December 2021</td><td>10.1177/136346152...</td><td>14617471</td><td>13634615</td><td>6</td><td>804-816</td><td>Transcultural Psy...</td><td>https://api.elsev...</td><td>58</td><td>19928</td><td>ar</td><td>Article</td><td>Universit&eacute; de Ver...</td><td>Boulogne-Billancourt</td><td>France</td><td>12</td></tr>\n",
       "<tr><td>2</td><td>Guessoum S.B.</td><td>SCOPUS_ID:8510563...</td><td>Transcultural and...</td><td>2-s2.0-85105639053</td><td>0</td><td>false</td><td>Journal</td><td>2021-12-01</td><td>December 2021</td><td>10.1177/136346152...</td><td>14617471</td><td>13634615</td><td>6</td><td>804-816</td><td>Transcultural Psy...</td><td>https://api.elsev...</td><td>58</td><td>19928</td><td>ar</td><td>Article</td><td>Universit&eacute; de Ver...</td><td>Boulogne-Billancourt</td><td>France</td><td>13</td></tr>\n",
       "<tr><td>2</td><td>Guessoum S.B.</td><td>SCOPUS_ID:8510563...</td><td>Transcultural and...</td><td>2-s2.0-85105639053</td><td>0</td><td>false</td><td>Journal</td><td>2021-12-01</td><td>December 2021</td><td>10.1177/136346152...</td><td>14617471</td><td>13634615</td><td>6</td><td>804-816</td><td>Transcultural Psy...</td><td>https://api.elsev...</td><td>58</td><td>19928</td><td>ar</td><td>Article</td><td>Universit&eacute; de Ver...</td><td>Boulogne-Billancourt</td><td>France</td><td>14</td></tr>\n",
       "<tr><td>2</td><td>Guessoum S.B.</td><td>SCOPUS_ID:8510563...</td><td>Transcultural and...</td><td>2-s2.0-85105639053</td><td>0</td><td>false</td><td>Journal</td><td>2021-12-01</td><td>December 2021</td><td>10.1177/136346152...</td><td>14617471</td><td>13634615</td><td>6</td><td>804-816</td><td>Transcultural Psy...</td><td>https://api.elsev...</td><td>58</td><td>19928</td><td>ar</td><td>Article</td><td>Universit&eacute; de Ver...</td><td>Boulogne-Billancourt</td><td>France</td><td>15</td></tr>\n",
       "<tr><td>2</td><td>Guessoum S.B.</td><td>SCOPUS_ID:8510563...</td><td>Transcultural and...</td><td>2-s2.0-85105639053</td><td>0</td><td>false</td><td>Journal</td><td>2021-12-01</td><td>December 2021</td><td>10.1177/136346152...</td><td>14617471</td><td>13634615</td><td>6</td><td>804-816</td><td>Transcultural Psy...</td><td>https://api.elsev...</td><td>58</td><td>19928</td><td>ar</td><td>Article</td><td>Hopital Cochin AP-HP</td><td>Versailles</td><td>France</td><td>16</td></tr>\n",
       "<tr><td>2</td><td>Guessoum S.B.</td><td>SCOPUS_ID:8510563...</td><td>Transcultural and...</td><td>2-s2.0-85105639053</td><td>0</td><td>false</td><td>Journal</td><td>2021-12-01</td><td>December 2021</td><td>10.1177/136346152...</td><td>14617471</td><td>13634615</td><td>6</td><td>804-816</td><td>Transcultural Psy...</td><td>https://api.elsev...</td><td>58</td><td>19928</td><td>ar</td><td>Article</td><td>Hopital Cochin AP-HP</td><td>Versailles</td><td>France</td><td>17</td></tr>\n",
       "<tr><td>2</td><td>Guessoum S.B.</td><td>SCOPUS_ID:8510563...</td><td>Transcultural and...</td><td>2-s2.0-85105639053</td><td>0</td><td>false</td><td>Journal</td><td>2021-12-01</td><td>December 2021</td><td>10.1177/136346152...</td><td>14617471</td><td>13634615</td><td>6</td><td>804-816</td><td>Transcultural Psy...</td><td>https://api.elsev...</td><td>58</td><td>19928</td><td>ar</td><td>Article</td><td>Hopital Cochin AP-HP</td><td>Versailles</td><td>France</td><td>18</td></tr>\n",
       "<tr><td>2</td><td>Guessoum S.B.</td><td>SCOPUS_ID:8510563...</td><td>Transcultural and...</td><td>2-s2.0-85105639053</td><td>0</td><td>false</td><td>Journal</td><td>2021-12-01</td><td>December 2021</td><td>10.1177/136346152...</td><td>14617471</td><td>13634615</td><td>6</td><td>804-816</td><td>Transcultural Psy...</td><td>https://api.elsev...</td><td>58</td><td>19928</td><td>ar</td><td>Article</td><td>Hopital Cochin AP-HP</td><td>Versailles</td><td>France</td><td>19</td></tr>\n",
       "</table>\n",
       "only showing top 20 rows\n"
      ],
      "text/plain": [
       "+-------------+-------------+--------------------+--------------------+------------------+----------+--------------+---------------------+---------------+----------------------+--------------------+-----------+----------+---------------------+---------------+---------------------+--------------------+------------+---------+-------+------------------+--------------------+--------------------+-------------------+---+\n",
       "|citedby-count|   dc:creator|       dc:identifier|            dc:title|               eid|openaccess|openaccessFlag|prism:aggregationType|prism:coverDate|prism:coverDisplayDate|           prism:doi|prism:eIssn|prism:issn|prism:issueIdentifier|prism:pageRange|prism:publicationName|           prism:url|prism:volume|source-id|subtype|subtypeDescription|           affilname|    affiliation_city|affiliation_country| id|\n",
       "+-------------+-------------+--------------------+--------------------+------------------+----------+--------------+---------------------+---------------+----------------------+--------------------+-----------+----------+---------------------+---------------+---------------------+--------------------+------------+---------+-------+------------------+--------------------+--------------------+-------------------+---+\n",
       "|            2|Guessoum S.B.|SCOPUS_ID:8510563...|Transcultural and...|2-s2.0-85105639053|         0|         false|              Journal|     2021-12-01|         December 2021|10.1177/136346152...|   14617471|  13634615|                    6|        804-816| Transcultural Psy...|https://api.elsev...|          58|    19928|     ar|           Article|Université de Ver...|          Versailles|             France|  0|\n",
       "|            2|Guessoum S.B.|SCOPUS_ID:8510563...|Transcultural and...|2-s2.0-85105639053|         0|         false|              Journal|     2021-12-01|         December 2021|10.1177/136346152...|   14617471|  13634615|                    6|        804-816| Transcultural Psy...|https://api.elsev...|          58|    19928|     ar|           Article|Université de Ver...|          Versailles|             France|  1|\n",
       "|            2|Guessoum S.B.|SCOPUS_ID:8510563...|Transcultural and...|2-s2.0-85105639053|         0|         false|              Journal|     2021-12-01|         December 2021|10.1177/136346152...|   14617471|  13634615|                    6|        804-816| Transcultural Psy...|https://api.elsev...|          58|    19928|     ar|           Article|Université de Ver...|          Versailles|             France|  2|\n",
       "|            2|Guessoum S.B.|SCOPUS_ID:8510563...|Transcultural and...|2-s2.0-85105639053|         0|         false|              Journal|     2021-12-01|         December 2021|10.1177/136346152...|   14617471|  13634615|                    6|        804-816| Transcultural Psy...|https://api.elsev...|          58|    19928|     ar|           Article|Université de Ver...|          Versailles|             France|  3|\n",
       "|            2|Guessoum S.B.|SCOPUS_ID:8510563...|Transcultural and...|2-s2.0-85105639053|         0|         false|              Journal|     2021-12-01|         December 2021|10.1177/136346152...|   14617471|  13634615|                    6|        804-816| Transcultural Psy...|https://api.elsev...|          58|    19928|     ar|           Article|Université de Ver...|               Paris|             France|  4|\n",
       "|            2|Guessoum S.B.|SCOPUS_ID:8510563...|Transcultural and...|2-s2.0-85105639053|         0|         false|              Journal|     2021-12-01|         December 2021|10.1177/136346152...|   14617471|  13634615|                    6|        804-816| Transcultural Psy...|https://api.elsev...|          58|    19928|     ar|           Article|Université de Ver...|               Paris|             France|  5|\n",
       "|            2|Guessoum S.B.|SCOPUS_ID:8510563...|Transcultural and...|2-s2.0-85105639053|         0|         false|              Journal|     2021-12-01|         December 2021|10.1177/136346152...|   14617471|  13634615|                    6|        804-816| Transcultural Psy...|https://api.elsev...|          58|    19928|     ar|           Article|Université de Ver...|               Paris|             France|  6|\n",
       "|            2|Guessoum S.B.|SCOPUS_ID:8510563...|Transcultural and...|2-s2.0-85105639053|         0|         false|              Journal|     2021-12-01|         December 2021|10.1177/136346152...|   14617471|  13634615|                    6|        804-816| Transcultural Psy...|https://api.elsev...|          58|    19928|     ar|           Article|Université de Ver...|               Paris|             France|  7|\n",
       "|            2|Guessoum S.B.|SCOPUS_ID:8510563...|Transcultural and...|2-s2.0-85105639053|         0|         false|              Journal|     2021-12-01|         December 2021|10.1177/136346152...|   14617471|  13634615|                    6|        804-816| Transcultural Psy...|https://api.elsev...|          58|    19928|     ar|           Article|Université de Ver...|        Villetaneuse|             France|  8|\n",
       "|            2|Guessoum S.B.|SCOPUS_ID:8510563...|Transcultural and...|2-s2.0-85105639053|         0|         false|              Journal|     2021-12-01|         December 2021|10.1177/136346152...|   14617471|  13634615|                    6|        804-816| Transcultural Psy...|https://api.elsev...|          58|    19928|     ar|           Article|Université de Ver...|        Villetaneuse|             France|  9|\n",
       "|            2|Guessoum S.B.|SCOPUS_ID:8510563...|Transcultural and...|2-s2.0-85105639053|         0|         false|              Journal|     2021-12-01|         December 2021|10.1177/136346152...|   14617471|  13634615|                    6|        804-816| Transcultural Psy...|https://api.elsev...|          58|    19928|     ar|           Article|Université de Ver...|        Villetaneuse|             France| 10|\n",
       "|            2|Guessoum S.B.|SCOPUS_ID:8510563...|Transcultural and...|2-s2.0-85105639053|         0|         false|              Journal|     2021-12-01|         December 2021|10.1177/136346152...|   14617471|  13634615|                    6|        804-816| Transcultural Psy...|https://api.elsev...|          58|    19928|     ar|           Article|Université de Ver...|        Villetaneuse|             France| 11|\n",
       "|            2|Guessoum S.B.|SCOPUS_ID:8510563...|Transcultural and...|2-s2.0-85105639053|         0|         false|              Journal|     2021-12-01|         December 2021|10.1177/136346152...|   14617471|  13634615|                    6|        804-816| Transcultural Psy...|https://api.elsev...|          58|    19928|     ar|           Article|Université de Ver...|Boulogne-Billancourt|             France| 12|\n",
       "|            2|Guessoum S.B.|SCOPUS_ID:8510563...|Transcultural and...|2-s2.0-85105639053|         0|         false|              Journal|     2021-12-01|         December 2021|10.1177/136346152...|   14617471|  13634615|                    6|        804-816| Transcultural Psy...|https://api.elsev...|          58|    19928|     ar|           Article|Université de Ver...|Boulogne-Billancourt|             France| 13|\n",
       "|            2|Guessoum S.B.|SCOPUS_ID:8510563...|Transcultural and...|2-s2.0-85105639053|         0|         false|              Journal|     2021-12-01|         December 2021|10.1177/136346152...|   14617471|  13634615|                    6|        804-816| Transcultural Psy...|https://api.elsev...|          58|    19928|     ar|           Article|Université de Ver...|Boulogne-Billancourt|             France| 14|\n",
       "|            2|Guessoum S.B.|SCOPUS_ID:8510563...|Transcultural and...|2-s2.0-85105639053|         0|         false|              Journal|     2021-12-01|         December 2021|10.1177/136346152...|   14617471|  13634615|                    6|        804-816| Transcultural Psy...|https://api.elsev...|          58|    19928|     ar|           Article|Université de Ver...|Boulogne-Billancourt|             France| 15|\n",
       "|            2|Guessoum S.B.|SCOPUS_ID:8510563...|Transcultural and...|2-s2.0-85105639053|         0|         false|              Journal|     2021-12-01|         December 2021|10.1177/136346152...|   14617471|  13634615|                    6|        804-816| Transcultural Psy...|https://api.elsev...|          58|    19928|     ar|           Article|Hopital Cochin AP-HP|          Versailles|             France| 16|\n",
       "|            2|Guessoum S.B.|SCOPUS_ID:8510563...|Transcultural and...|2-s2.0-85105639053|         0|         false|              Journal|     2021-12-01|         December 2021|10.1177/136346152...|   14617471|  13634615|                    6|        804-816| Transcultural Psy...|https://api.elsev...|          58|    19928|     ar|           Article|Hopital Cochin AP-HP|          Versailles|             France| 17|\n",
       "|            2|Guessoum S.B.|SCOPUS_ID:8510563...|Transcultural and...|2-s2.0-85105639053|         0|         false|              Journal|     2021-12-01|         December 2021|10.1177/136346152...|   14617471|  13634615|                    6|        804-816| Transcultural Psy...|https://api.elsev...|          58|    19928|     ar|           Article|Hopital Cochin AP-HP|          Versailles|             France| 18|\n",
       "|            2|Guessoum S.B.|SCOPUS_ID:8510563...|Transcultural and...|2-s2.0-85105639053|         0|         false|              Journal|     2021-12-01|         December 2021|10.1177/136346152...|   14617471|  13634615|                    6|        804-816| Transcultural Psy...|https://api.elsev...|          58|    19928|     ar|           Article|Hopital Cochin AP-HP|          Versailles|             France| 19|\n",
       "+-------------+-------------+--------------------+--------------------+------------------+----------+--------------+---------------------+---------------+----------------------+--------------------+-----------+----------+---------------------+---------------+---------------------+--------------------+------------+---------+-------+------------------+--------------------+--------------------+-------------------+---+\n",
       "only showing top 20 rows"
      ]
     },
     "execution_count": 41,
     "metadata": {},
     "output_type": "execute_result"
    }
   ],
   "source": [
    "df_with_id_cleaned"
   ]
  },
  {
   "cell_type": "code",
   "execution_count": 42,
   "id": "c8cb5b89-1add-40c1-ae69-0140ab81123f",
   "metadata": {},
   "outputs": [],
   "source": [
    "merged_df = df_with_id_cleaned.join(df_final, on=\"id\", how=\"inner\")"
   ]
  },
  {
   "cell_type": "code",
   "execution_count": 43,
   "id": "e987746c-a9f2-4b4f-a010-2262026e7cd5",
   "metadata": {},
   "outputs": [
    {
     "data": {
      "text/html": [
       "<table border='1'>\n",
       "<tr><th>id</th><th>citedby-count</th><th>dc:creator</th><th>dc:identifier</th><th>dc:title</th><th>eid</th><th>openaccess</th><th>openaccessFlag</th><th>prism:aggregationType</th><th>prism:coverDate</th><th>prism:coverDisplayDate</th><th>prism:doi</th><th>prism:eIssn</th><th>prism:issn</th><th>prism:issueIdentifier</th><th>prism:pageRange</th><th>prism:publicationName</th><th>prism:url</th><th>prism:volume</th><th>source-id</th><th>subtype</th><th>subtypeDescription</th><th>affilname</th><th>affiliation_city</th><th>affiliation_country</th><th>affilname</th><th>affiliation_city</th><th>affiliation_country</th></tr>\n",
       "<tr><td>0</td><td>2</td><td>Guessoum S.B.</td><td>SCOPUS_ID:8510563...</td><td>Transcultural and...</td><td>2-s2.0-85105639053</td><td>0</td><td>false</td><td>Journal</td><td>2021-12-01</td><td>December 2021</td><td>10.1177/136346152...</td><td>14617471</td><td>13634615</td><td>6</td><td>804-816</td><td>Transcultural Psy...</td><td>https://api.elsev...</td><td>58</td><td>19928</td><td>ar</td><td>Article</td><td>Universit&eacute; de Ver...</td><td>Versailles</td><td>France</td><td>Universit&eacute; de Ver...</td><td>Versailles</td><td>France</td></tr>\n",
       "<tr><td>1</td><td>2</td><td>Guessoum S.B.</td><td>SCOPUS_ID:8510563...</td><td>Transcultural and...</td><td>2-s2.0-85105639053</td><td>0</td><td>false</td><td>Journal</td><td>2021-12-01</td><td>December 2021</td><td>10.1177/136346152...</td><td>14617471</td><td>13634615</td><td>6</td><td>804-816</td><td>Transcultural Psy...</td><td>https://api.elsev...</td><td>58</td><td>19928</td><td>ar</td><td>Article</td><td>Universit&eacute; de Ver...</td><td>Versailles</td><td>France</td><td>Universit&eacute; de Ver...</td><td>Versailles</td><td>France</td></tr>\n",
       "<tr><td>2</td><td>2</td><td>Guessoum S.B.</td><td>SCOPUS_ID:8510563...</td><td>Transcultural and...</td><td>2-s2.0-85105639053</td><td>0</td><td>false</td><td>Journal</td><td>2021-12-01</td><td>December 2021</td><td>10.1177/136346152...</td><td>14617471</td><td>13634615</td><td>6</td><td>804-816</td><td>Transcultural Psy...</td><td>https://api.elsev...</td><td>58</td><td>19928</td><td>ar</td><td>Article</td><td>Universit&eacute; de Ver...</td><td>Versailles</td><td>France</td><td>Universit&eacute; de Ver...</td><td>Versailles</td><td>France</td></tr>\n",
       "<tr><td>3</td><td>2</td><td>Guessoum S.B.</td><td>SCOPUS_ID:8510563...</td><td>Transcultural and...</td><td>2-s2.0-85105639053</td><td>0</td><td>false</td><td>Journal</td><td>2021-12-01</td><td>December 2021</td><td>10.1177/136346152...</td><td>14617471</td><td>13634615</td><td>6</td><td>804-816</td><td>Transcultural Psy...</td><td>https://api.elsev...</td><td>58</td><td>19928</td><td>ar</td><td>Article</td><td>Universit&eacute; de Ver...</td><td>Versailles</td><td>France</td><td>Universit&eacute; de Ver...</td><td>Versailles</td><td>France</td></tr>\n",
       "<tr><td>4</td><td>2</td><td>Guessoum S.B.</td><td>SCOPUS_ID:8510563...</td><td>Transcultural and...</td><td>2-s2.0-85105639053</td><td>0</td><td>false</td><td>Journal</td><td>2021-12-01</td><td>December 2021</td><td>10.1177/136346152...</td><td>14617471</td><td>13634615</td><td>6</td><td>804-816</td><td>Transcultural Psy...</td><td>https://api.elsev...</td><td>58</td><td>19928</td><td>ar</td><td>Article</td><td>Universit&eacute; de Ver...</td><td>Paris</td><td>France</td><td>Universit&eacute; de Ver...</td><td>Paris</td><td>France</td></tr>\n",
       "<tr><td>5</td><td>2</td><td>Guessoum S.B.</td><td>SCOPUS_ID:8510563...</td><td>Transcultural and...</td><td>2-s2.0-85105639053</td><td>0</td><td>false</td><td>Journal</td><td>2021-12-01</td><td>December 2021</td><td>10.1177/136346152...</td><td>14617471</td><td>13634615</td><td>6</td><td>804-816</td><td>Transcultural Psy...</td><td>https://api.elsev...</td><td>58</td><td>19928</td><td>ar</td><td>Article</td><td>Universit&eacute; de Ver...</td><td>Paris</td><td>France</td><td>Universit&eacute; de Ver...</td><td>Paris</td><td>France</td></tr>\n",
       "<tr><td>6</td><td>2</td><td>Guessoum S.B.</td><td>SCOPUS_ID:8510563...</td><td>Transcultural and...</td><td>2-s2.0-85105639053</td><td>0</td><td>false</td><td>Journal</td><td>2021-12-01</td><td>December 2021</td><td>10.1177/136346152...</td><td>14617471</td><td>13634615</td><td>6</td><td>804-816</td><td>Transcultural Psy...</td><td>https://api.elsev...</td><td>58</td><td>19928</td><td>ar</td><td>Article</td><td>Universit&eacute; de Ver...</td><td>Paris</td><td>France</td><td>Universit&eacute; de Ver...</td><td>Paris</td><td>France</td></tr>\n",
       "<tr><td>7</td><td>2</td><td>Guessoum S.B.</td><td>SCOPUS_ID:8510563...</td><td>Transcultural and...</td><td>2-s2.0-85105639053</td><td>0</td><td>false</td><td>Journal</td><td>2021-12-01</td><td>December 2021</td><td>10.1177/136346152...</td><td>14617471</td><td>13634615</td><td>6</td><td>804-816</td><td>Transcultural Psy...</td><td>https://api.elsev...</td><td>58</td><td>19928</td><td>ar</td><td>Article</td><td>Universit&eacute; de Ver...</td><td>Paris</td><td>France</td><td>Universit&eacute; de Ver...</td><td>Paris</td><td>France</td></tr>\n",
       "<tr><td>8</td><td>2</td><td>Guessoum S.B.</td><td>SCOPUS_ID:8510563...</td><td>Transcultural and...</td><td>2-s2.0-85105639053</td><td>0</td><td>false</td><td>Journal</td><td>2021-12-01</td><td>December 2021</td><td>10.1177/136346152...</td><td>14617471</td><td>13634615</td><td>6</td><td>804-816</td><td>Transcultural Psy...</td><td>https://api.elsev...</td><td>58</td><td>19928</td><td>ar</td><td>Article</td><td>Universit&eacute; de Ver...</td><td>Villetaneuse</td><td>France</td><td>Universit&eacute; de Ver...</td><td>Villetaneuse</td><td>France</td></tr>\n",
       "<tr><td>9</td><td>2</td><td>Guessoum S.B.</td><td>SCOPUS_ID:8510563...</td><td>Transcultural and...</td><td>2-s2.0-85105639053</td><td>0</td><td>false</td><td>Journal</td><td>2021-12-01</td><td>December 2021</td><td>10.1177/136346152...</td><td>14617471</td><td>13634615</td><td>6</td><td>804-816</td><td>Transcultural Psy...</td><td>https://api.elsev...</td><td>58</td><td>19928</td><td>ar</td><td>Article</td><td>Universit&eacute; de Ver...</td><td>Villetaneuse</td><td>France</td><td>Universit&eacute; de Ver...</td><td>Villetaneuse</td><td>France</td></tr>\n",
       "<tr><td>10</td><td>2</td><td>Guessoum S.B.</td><td>SCOPUS_ID:8510563...</td><td>Transcultural and...</td><td>2-s2.0-85105639053</td><td>0</td><td>false</td><td>Journal</td><td>2021-12-01</td><td>December 2021</td><td>10.1177/136346152...</td><td>14617471</td><td>13634615</td><td>6</td><td>804-816</td><td>Transcultural Psy...</td><td>https://api.elsev...</td><td>58</td><td>19928</td><td>ar</td><td>Article</td><td>Universit&eacute; de Ver...</td><td>Villetaneuse</td><td>France</td><td>Universit&eacute; de Ver...</td><td>Villetaneuse</td><td>France</td></tr>\n",
       "<tr><td>11</td><td>2</td><td>Guessoum S.B.</td><td>SCOPUS_ID:8510563...</td><td>Transcultural and...</td><td>2-s2.0-85105639053</td><td>0</td><td>false</td><td>Journal</td><td>2021-12-01</td><td>December 2021</td><td>10.1177/136346152...</td><td>14617471</td><td>13634615</td><td>6</td><td>804-816</td><td>Transcultural Psy...</td><td>https://api.elsev...</td><td>58</td><td>19928</td><td>ar</td><td>Article</td><td>Universit&eacute; de Ver...</td><td>Villetaneuse</td><td>France</td><td>Universit&eacute; de Ver...</td><td>Villetaneuse</td><td>France</td></tr>\n",
       "<tr><td>12</td><td>2</td><td>Guessoum S.B.</td><td>SCOPUS_ID:8510563...</td><td>Transcultural and...</td><td>2-s2.0-85105639053</td><td>0</td><td>false</td><td>Journal</td><td>2021-12-01</td><td>December 2021</td><td>10.1177/136346152...</td><td>14617471</td><td>13634615</td><td>6</td><td>804-816</td><td>Transcultural Psy...</td><td>https://api.elsev...</td><td>58</td><td>19928</td><td>ar</td><td>Article</td><td>Universit&eacute; de Ver...</td><td>Boulogne-Billancourt</td><td>France</td><td>Universit&eacute; de Ver...</td><td>Boulogne-Billancourt</td><td>France</td></tr>\n",
       "<tr><td>13</td><td>2</td><td>Guessoum S.B.</td><td>SCOPUS_ID:8510563...</td><td>Transcultural and...</td><td>2-s2.0-85105639053</td><td>0</td><td>false</td><td>Journal</td><td>2021-12-01</td><td>December 2021</td><td>10.1177/136346152...</td><td>14617471</td><td>13634615</td><td>6</td><td>804-816</td><td>Transcultural Psy...</td><td>https://api.elsev...</td><td>58</td><td>19928</td><td>ar</td><td>Article</td><td>Universit&eacute; de Ver...</td><td>Boulogne-Billancourt</td><td>France</td><td>Universit&eacute; de Ver...</td><td>Boulogne-Billancourt</td><td>France</td></tr>\n",
       "<tr><td>14</td><td>2</td><td>Guessoum S.B.</td><td>SCOPUS_ID:8510563...</td><td>Transcultural and...</td><td>2-s2.0-85105639053</td><td>0</td><td>false</td><td>Journal</td><td>2021-12-01</td><td>December 2021</td><td>10.1177/136346152...</td><td>14617471</td><td>13634615</td><td>6</td><td>804-816</td><td>Transcultural Psy...</td><td>https://api.elsev...</td><td>58</td><td>19928</td><td>ar</td><td>Article</td><td>Universit&eacute; de Ver...</td><td>Boulogne-Billancourt</td><td>France</td><td>Universit&eacute; de Ver...</td><td>Boulogne-Billancourt</td><td>France</td></tr>\n",
       "<tr><td>15</td><td>2</td><td>Guessoum S.B.</td><td>SCOPUS_ID:8510563...</td><td>Transcultural and...</td><td>2-s2.0-85105639053</td><td>0</td><td>false</td><td>Journal</td><td>2021-12-01</td><td>December 2021</td><td>10.1177/136346152...</td><td>14617471</td><td>13634615</td><td>6</td><td>804-816</td><td>Transcultural Psy...</td><td>https://api.elsev...</td><td>58</td><td>19928</td><td>ar</td><td>Article</td><td>Universit&eacute; de Ver...</td><td>Boulogne-Billancourt</td><td>France</td><td>Universit&eacute; de Ver...</td><td>Boulogne-Billancourt</td><td>France</td></tr>\n",
       "<tr><td>16</td><td>2</td><td>Guessoum S.B.</td><td>SCOPUS_ID:8510563...</td><td>Transcultural and...</td><td>2-s2.0-85105639053</td><td>0</td><td>false</td><td>Journal</td><td>2021-12-01</td><td>December 2021</td><td>10.1177/136346152...</td><td>14617471</td><td>13634615</td><td>6</td><td>804-816</td><td>Transcultural Psy...</td><td>https://api.elsev...</td><td>58</td><td>19928</td><td>ar</td><td>Article</td><td>Hopital Cochin AP-HP</td><td>Versailles</td><td>France</td><td>Hopital Cochin AP-HP</td><td>Versailles</td><td>France</td></tr>\n",
       "<tr><td>17</td><td>2</td><td>Guessoum S.B.</td><td>SCOPUS_ID:8510563...</td><td>Transcultural and...</td><td>2-s2.0-85105639053</td><td>0</td><td>false</td><td>Journal</td><td>2021-12-01</td><td>December 2021</td><td>10.1177/136346152...</td><td>14617471</td><td>13634615</td><td>6</td><td>804-816</td><td>Transcultural Psy...</td><td>https://api.elsev...</td><td>58</td><td>19928</td><td>ar</td><td>Article</td><td>Hopital Cochin AP-HP</td><td>Versailles</td><td>France</td><td>Hopital Cochin AP-HP</td><td>Versailles</td><td>France</td></tr>\n",
       "<tr><td>18</td><td>2</td><td>Guessoum S.B.</td><td>SCOPUS_ID:8510563...</td><td>Transcultural and...</td><td>2-s2.0-85105639053</td><td>0</td><td>false</td><td>Journal</td><td>2021-12-01</td><td>December 2021</td><td>10.1177/136346152...</td><td>14617471</td><td>13634615</td><td>6</td><td>804-816</td><td>Transcultural Psy...</td><td>https://api.elsev...</td><td>58</td><td>19928</td><td>ar</td><td>Article</td><td>Hopital Cochin AP-HP</td><td>Versailles</td><td>France</td><td>Hopital Cochin AP-HP</td><td>Versailles</td><td>France</td></tr>\n",
       "<tr><td>19</td><td>2</td><td>Guessoum S.B.</td><td>SCOPUS_ID:8510563...</td><td>Transcultural and...</td><td>2-s2.0-85105639053</td><td>0</td><td>false</td><td>Journal</td><td>2021-12-01</td><td>December 2021</td><td>10.1177/136346152...</td><td>14617471</td><td>13634615</td><td>6</td><td>804-816</td><td>Transcultural Psy...</td><td>https://api.elsev...</td><td>58</td><td>19928</td><td>ar</td><td>Article</td><td>Hopital Cochin AP-HP</td><td>Versailles</td><td>France</td><td>Hopital Cochin AP-HP</td><td>Versailles</td><td>France</td></tr>\n",
       "</table>\n",
       "only showing top 20 rows\n"
      ],
      "text/plain": [
       "+---+-------------+-------------+--------------------+--------------------+------------------+----------+--------------+---------------------+---------------+----------------------+--------------------+-----------+----------+---------------------+---------------+---------------------+--------------------+------------+---------+-------+------------------+--------------------+--------------------+-------------------+--------------------+--------------------+-------------------+\n",
       "| id|citedby-count|   dc:creator|       dc:identifier|            dc:title|               eid|openaccess|openaccessFlag|prism:aggregationType|prism:coverDate|prism:coverDisplayDate|           prism:doi|prism:eIssn|prism:issn|prism:issueIdentifier|prism:pageRange|prism:publicationName|           prism:url|prism:volume|source-id|subtype|subtypeDescription|           affilname|    affiliation_city|affiliation_country|           affilname|    affiliation_city|affiliation_country|\n",
       "+---+-------------+-------------+--------------------+--------------------+------------------+----------+--------------+---------------------+---------------+----------------------+--------------------+-----------+----------+---------------------+---------------+---------------------+--------------------+------------+---------+-------+------------------+--------------------+--------------------+-------------------+--------------------+--------------------+-------------------+\n",
       "|  0|            2|Guessoum S.B.|SCOPUS_ID:8510563...|Transcultural and...|2-s2.0-85105639053|         0|         false|              Journal|     2021-12-01|         December 2021|10.1177/136346152...|   14617471|  13634615|                    6|        804-816| Transcultural Psy...|https://api.elsev...|          58|    19928|     ar|           Article|Université de Ver...|          Versailles|             France|Université de Ver...|          Versailles|             France|\n",
       "|  1|            2|Guessoum S.B.|SCOPUS_ID:8510563...|Transcultural and...|2-s2.0-85105639053|         0|         false|              Journal|     2021-12-01|         December 2021|10.1177/136346152...|   14617471|  13634615|                    6|        804-816| Transcultural Psy...|https://api.elsev...|          58|    19928|     ar|           Article|Université de Ver...|          Versailles|             France|Université de Ver...|          Versailles|             France|\n",
       "|  2|            2|Guessoum S.B.|SCOPUS_ID:8510563...|Transcultural and...|2-s2.0-85105639053|         0|         false|              Journal|     2021-12-01|         December 2021|10.1177/136346152...|   14617471|  13634615|                    6|        804-816| Transcultural Psy...|https://api.elsev...|          58|    19928|     ar|           Article|Université de Ver...|          Versailles|             France|Université de Ver...|          Versailles|             France|\n",
       "|  3|            2|Guessoum S.B.|SCOPUS_ID:8510563...|Transcultural and...|2-s2.0-85105639053|         0|         false|              Journal|     2021-12-01|         December 2021|10.1177/136346152...|   14617471|  13634615|                    6|        804-816| Transcultural Psy...|https://api.elsev...|          58|    19928|     ar|           Article|Université de Ver...|          Versailles|             France|Université de Ver...|          Versailles|             France|\n",
       "|  4|            2|Guessoum S.B.|SCOPUS_ID:8510563...|Transcultural and...|2-s2.0-85105639053|         0|         false|              Journal|     2021-12-01|         December 2021|10.1177/136346152...|   14617471|  13634615|                    6|        804-816| Transcultural Psy...|https://api.elsev...|          58|    19928|     ar|           Article|Université de Ver...|               Paris|             France|Université de Ver...|               Paris|             France|\n",
       "|  5|            2|Guessoum S.B.|SCOPUS_ID:8510563...|Transcultural and...|2-s2.0-85105639053|         0|         false|              Journal|     2021-12-01|         December 2021|10.1177/136346152...|   14617471|  13634615|                    6|        804-816| Transcultural Psy...|https://api.elsev...|          58|    19928|     ar|           Article|Université de Ver...|               Paris|             France|Université de Ver...|               Paris|             France|\n",
       "|  6|            2|Guessoum S.B.|SCOPUS_ID:8510563...|Transcultural and...|2-s2.0-85105639053|         0|         false|              Journal|     2021-12-01|         December 2021|10.1177/136346152...|   14617471|  13634615|                    6|        804-816| Transcultural Psy...|https://api.elsev...|          58|    19928|     ar|           Article|Université de Ver...|               Paris|             France|Université de Ver...|               Paris|             France|\n",
       "|  7|            2|Guessoum S.B.|SCOPUS_ID:8510563...|Transcultural and...|2-s2.0-85105639053|         0|         false|              Journal|     2021-12-01|         December 2021|10.1177/136346152...|   14617471|  13634615|                    6|        804-816| Transcultural Psy...|https://api.elsev...|          58|    19928|     ar|           Article|Université de Ver...|               Paris|             France|Université de Ver...|               Paris|             France|\n",
       "|  8|            2|Guessoum S.B.|SCOPUS_ID:8510563...|Transcultural and...|2-s2.0-85105639053|         0|         false|              Journal|     2021-12-01|         December 2021|10.1177/136346152...|   14617471|  13634615|                    6|        804-816| Transcultural Psy...|https://api.elsev...|          58|    19928|     ar|           Article|Université de Ver...|        Villetaneuse|             France|Université de Ver...|        Villetaneuse|             France|\n",
       "|  9|            2|Guessoum S.B.|SCOPUS_ID:8510563...|Transcultural and...|2-s2.0-85105639053|         0|         false|              Journal|     2021-12-01|         December 2021|10.1177/136346152...|   14617471|  13634615|                    6|        804-816| Transcultural Psy...|https://api.elsev...|          58|    19928|     ar|           Article|Université de Ver...|        Villetaneuse|             France|Université de Ver...|        Villetaneuse|             France|\n",
       "| 10|            2|Guessoum S.B.|SCOPUS_ID:8510563...|Transcultural and...|2-s2.0-85105639053|         0|         false|              Journal|     2021-12-01|         December 2021|10.1177/136346152...|   14617471|  13634615|                    6|        804-816| Transcultural Psy...|https://api.elsev...|          58|    19928|     ar|           Article|Université de Ver...|        Villetaneuse|             France|Université de Ver...|        Villetaneuse|             France|\n",
       "| 11|            2|Guessoum S.B.|SCOPUS_ID:8510563...|Transcultural and...|2-s2.0-85105639053|         0|         false|              Journal|     2021-12-01|         December 2021|10.1177/136346152...|   14617471|  13634615|                    6|        804-816| Transcultural Psy...|https://api.elsev...|          58|    19928|     ar|           Article|Université de Ver...|        Villetaneuse|             France|Université de Ver...|        Villetaneuse|             France|\n",
       "| 12|            2|Guessoum S.B.|SCOPUS_ID:8510563...|Transcultural and...|2-s2.0-85105639053|         0|         false|              Journal|     2021-12-01|         December 2021|10.1177/136346152...|   14617471|  13634615|                    6|        804-816| Transcultural Psy...|https://api.elsev...|          58|    19928|     ar|           Article|Université de Ver...|Boulogne-Billancourt|             France|Université de Ver...|Boulogne-Billancourt|             France|\n",
       "| 13|            2|Guessoum S.B.|SCOPUS_ID:8510563...|Transcultural and...|2-s2.0-85105639053|         0|         false|              Journal|     2021-12-01|         December 2021|10.1177/136346152...|   14617471|  13634615|                    6|        804-816| Transcultural Psy...|https://api.elsev...|          58|    19928|     ar|           Article|Université de Ver...|Boulogne-Billancourt|             France|Université de Ver...|Boulogne-Billancourt|             France|\n",
       "| 14|            2|Guessoum S.B.|SCOPUS_ID:8510563...|Transcultural and...|2-s2.0-85105639053|         0|         false|              Journal|     2021-12-01|         December 2021|10.1177/136346152...|   14617471|  13634615|                    6|        804-816| Transcultural Psy...|https://api.elsev...|          58|    19928|     ar|           Article|Université de Ver...|Boulogne-Billancourt|             France|Université de Ver...|Boulogne-Billancourt|             France|\n",
       "| 15|            2|Guessoum S.B.|SCOPUS_ID:8510563...|Transcultural and...|2-s2.0-85105639053|         0|         false|              Journal|     2021-12-01|         December 2021|10.1177/136346152...|   14617471|  13634615|                    6|        804-816| Transcultural Psy...|https://api.elsev...|          58|    19928|     ar|           Article|Université de Ver...|Boulogne-Billancourt|             France|Université de Ver...|Boulogne-Billancourt|             France|\n",
       "| 16|            2|Guessoum S.B.|SCOPUS_ID:8510563...|Transcultural and...|2-s2.0-85105639053|         0|         false|              Journal|     2021-12-01|         December 2021|10.1177/136346152...|   14617471|  13634615|                    6|        804-816| Transcultural Psy...|https://api.elsev...|          58|    19928|     ar|           Article|Hopital Cochin AP-HP|          Versailles|             France|Hopital Cochin AP-HP|          Versailles|             France|\n",
       "| 17|            2|Guessoum S.B.|SCOPUS_ID:8510563...|Transcultural and...|2-s2.0-85105639053|         0|         false|              Journal|     2021-12-01|         December 2021|10.1177/136346152...|   14617471|  13634615|                    6|        804-816| Transcultural Psy...|https://api.elsev...|          58|    19928|     ar|           Article|Hopital Cochin AP-HP|          Versailles|             France|Hopital Cochin AP-HP|          Versailles|             France|\n",
       "| 18|            2|Guessoum S.B.|SCOPUS_ID:8510563...|Transcultural and...|2-s2.0-85105639053|         0|         false|              Journal|     2021-12-01|         December 2021|10.1177/136346152...|   14617471|  13634615|                    6|        804-816| Transcultural Psy...|https://api.elsev...|          58|    19928|     ar|           Article|Hopital Cochin AP-HP|          Versailles|             France|Hopital Cochin AP-HP|          Versailles|             France|\n",
       "| 19|            2|Guessoum S.B.|SCOPUS_ID:8510563...|Transcultural and...|2-s2.0-85105639053|         0|         false|              Journal|     2021-12-01|         December 2021|10.1177/136346152...|   14617471|  13634615|                    6|        804-816| Transcultural Psy...|https://api.elsev...|          58|    19928|     ar|           Article|Hopital Cochin AP-HP|          Versailles|             France|Hopital Cochin AP-HP|          Versailles|             France|\n",
       "+---+-------------+-------------+--------------------+--------------------+------------------+----------+--------------+---------------------+---------------+----------------------+--------------------+-----------+----------+---------------------+---------------+---------------------+--------------------+------------+---------+-------+------------------+--------------------+--------------------+-------------------+--------------------+--------------------+-------------------+\n",
       "only showing top 20 rows"
      ]
     },
     "execution_count": 43,
     "metadata": {},
     "output_type": "execute_result"
    }
   ],
   "source": [
    "merged_df"
   ]
  },
  {
   "cell_type": "code",
   "execution_count": null,
   "id": "57350efa-95bf-4bb2-8238-0a5fea7cdd8c",
   "metadata": {},
   "outputs": [],
   "source": []
  }
 ],
 "metadata": {
  "kernelspec": {
   "display_name": "Python 3 (ipykernel)",
   "language": "python",
   "name": "python3"
  },
  "language_info": {
   "codemirror_mode": {
    "name": "ipython",
    "version": 3
   },
   "file_extension": ".py",
   "mimetype": "text/x-python",
   "name": "python",
   "nbconvert_exporter": "python",
   "pygments_lexer": "ipython3",
   "version": "3.11.6"
  }
 },
 "nbformat": 4,
 "nbformat_minor": 5
}
