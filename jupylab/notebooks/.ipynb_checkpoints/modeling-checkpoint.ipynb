{
 "cells": [
  {
   "cell_type": "code",
   "execution_count": 87,
   "id": "49165c1d-a7db-4686-885a-8d0da855a600",
   "metadata": {},
   "outputs": [
    {
     "data": {
      "text/html": [
       "\n",
       "            <div>\n",
       "                <p><b>SparkSession - in-memory</b></p>\n",
       "                \n",
       "        <div>\n",
       "            <p><b>SparkContext</b></p>\n",
       "\n",
       "            <p><a href=\"http://c54288f4cff2:4040\">Spark UI</a></p>\n",
       "\n",
       "            <dl>\n",
       "              <dt>Version</dt>\n",
       "                <dd><code>v3.5.0</code></dd>\n",
       "              <dt>Master</dt>\n",
       "                <dd><code>spark://172.21.0.3:7077</code></dd>\n",
       "              <dt>AppName</dt>\n",
       "                <dd><code>pyspark-shell</code></dd>\n",
       "            </dl>\n",
       "        </div>\n",
       "        \n",
       "            </div>\n",
       "        "
      ],
      "text/plain": [
       "<pyspark.sql.session.SparkSession at 0x7f741054f910>"
      ]
     },
     "execution_count": 87,
     "metadata": {},
     "output_type": "execute_result"
    }
   ],
   "source": [
    "\n",
    "from pyspark.sql import SparkSession\n",
    "spark = SparkSession.builder.master(\"spark://172.21.0.3:7077\").getOrCreate()\n",
    "spark.conf.set(\"spark.sql.repl.eagerEval.enabled\", True) # Property used to format output tables better\n",
    "spark"
   ]
  },
  {
   "cell_type": "code",
   "execution_count": 14,
   "id": "b82b0077-f0f3-4c9d-86ef-b125108825cc",
   "metadata": {},
   "outputs": [
    {
     "data": {
      "text/html": [
       "<table border='1'>\n",
       "<tr><th>affiliation</th><th>citedby-count</th><th>dc:creator</th><th>dc:identifier</th><th>dc:title</th><th>eid</th><th>openaccess</th><th>openaccessFlag</th><th>prism:aggregationType</th><th>prism:coverDate</th><th>prism:coverDisplayDate</th><th>prism:doi</th><th>prism:eIssn</th><th>prism:issn</th><th>prism:issueIdentifier</th><th>prism:pageRange</th><th>prism:publicationName</th><th>prism:url</th><th>prism:volume</th><th>source-id</th><th>subtype</th><th>subtypeDescription</th></tr>\n",
       "<tr><td>[{true, Abu Dhabi...</td><td>5</td><td>Nobanee H.</td><td>SCOPUS_ID:8518035...</td><td>Analysis of insur...</td><td>2-s2.0-85180357769</td><td>1</td><td>true</td><td>Journal</td><td>2024-05-01</td><td>1 May 2024</td><td>10.1016/j.stae.20...</td><td>27730328</td><td>NULL</td><td>2</td><td>NULL</td><td>Sustainable Techn...</td><td>https://api.elsev...</td><td>3</td><td>21101167218</td><td>re</td><td>Review</td></tr>\n",
       "</table>\n"
      ],
      "text/plain": [
       "+--------------------+-------------+----------+--------------------+--------------------+------------------+----------+--------------+---------------------+---------------+----------------------+--------------------+-----------+----------+---------------------+---------------+---------------------+--------------------+------------+-----------+-------+------------------+\n",
       "|         affiliation|citedby-count|dc:creator|       dc:identifier|            dc:title|               eid|openaccess|openaccessFlag|prism:aggregationType|prism:coverDate|prism:coverDisplayDate|           prism:doi|prism:eIssn|prism:issn|prism:issueIdentifier|prism:pageRange|prism:publicationName|           prism:url|prism:volume|  source-id|subtype|subtypeDescription|\n",
       "+--------------------+-------------+----------+--------------------+--------------------+------------------+----------+--------------+---------------------+---------------+----------------------+--------------------+-----------+----------+---------------------+---------------+---------------------+--------------------+------------+-----------+-------+------------------+\n",
       "|[{true, Abu Dhabi...|            5|Nobanee H.|SCOPUS_ID:8518035...|Analysis of insur...|2-s2.0-85180357769|         1|          true|              Journal|     2024-05-01|            1 May 2024|10.1016/j.stae.20...|   27730328|      NULL|                    2|           NULL| Sustainable Techn...|https://api.elsev...|           3|21101167218|     re|            Review|\n",
       "+--------------------+-------------+----------+--------------------+--------------------+------------------+----------+--------------+---------------------+---------------+----------------------+--------------------+-----------+----------+---------------------+---------------+---------------------+--------------------+------------+-----------+-------+------------------+"
      ]
     },
     "execution_count": 14,
     "metadata": {},
     "output_type": "execute_result"
    }
   ],
   "source": [
    "file_path = \"/home/jovyan/data/fae796ab-45c9-4f14-9498-4a4f2d52d2ad\"\n",
    "df = spark.read.json(file_path)\n",
    "df"
   ]
  },
  {
   "cell_type": "code",
   "execution_count": 8,
   "id": "2e22a93d-64a6-4ad4-8977-c374b6ea45ef",
   "metadata": {},
   "outputs": [
    {
     "name": "stdout",
     "output_type": "stream",
     "text": [
      "root\n",
      " |-- affiliation: array (nullable = true)\n",
      " |    |-- element: struct (containsNull = true)\n",
      " |    |    |-- @_fa: string (nullable = true)\n",
      " |    |    |-- affiliation-city: string (nullable = true)\n",
      " |    |    |-- affiliation-country: string (nullable = true)\n",
      " |    |    |-- affilname: string (nullable = true)\n",
      " |-- citedby-count: string (nullable = true)\n",
      " |-- dc:creator: string (nullable = true)\n",
      " |-- dc:identifier: string (nullable = true)\n",
      " |-- dc:title: string (nullable = true)\n",
      " |-- eid: string (nullable = true)\n",
      " |-- openaccess: string (nullable = true)\n",
      " |-- openaccessFlag: boolean (nullable = true)\n",
      " |-- prism:aggregationType: string (nullable = true)\n",
      " |-- prism:coverDate: string (nullable = true)\n",
      " |-- prism:coverDisplayDate: string (nullable = true)\n",
      " |-- prism:doi: string (nullable = true)\n",
      " |-- prism:eIssn: string (nullable = true)\n",
      " |-- prism:issn: string (nullable = true)\n",
      " |-- prism:issueIdentifier: string (nullable = true)\n",
      " |-- prism:pageRange: string (nullable = true)\n",
      " |-- prism:publicationName: string (nullable = true)\n",
      " |-- prism:url: string (nullable = true)\n",
      " |-- prism:volume: string (nullable = true)\n",
      " |-- source-id: string (nullable = true)\n",
      " |-- subtype: string (nullable = true)\n",
      " |-- subtypeDescription: string (nullable = true)\n",
      "\n"
     ]
    }
   ],
   "source": [
    "df.printSchema()"
   ]
  },
  {
   "cell_type": "code",
   "execution_count": 12,
   "id": "f5042a1b-fdd8-4fc3-b172-b2220806998c",
   "metadata": {},
   "outputs": [],
   "source": [
    "spark.stop()"
   ]
  },
  {
   "cell_type": "code",
   "execution_count": 28,
   "id": "dd303d78-15b5-4847-af60-71ad25f69d55",
   "metadata": {},
   "outputs": [
    {
     "name": "stdout",
     "output_type": "stream",
     "text": [
      "root\n",
      " |-- affiliation: array (nullable = true)\n",
      " |    |-- element: struct (containsNull = true)\n",
      " |    |    |-- @_fa: string (nullable = true)\n",
      " |    |    |-- affiliation-city: string (nullable = true)\n",
      " |    |    |-- affiliation-country: string (nullable = true)\n",
      " |    |    |-- affilname: string (nullable = true)\n",
      " |-- citedby-count: string (nullable = true)\n",
      " |-- dc:creator: string (nullable = true)\n",
      " |-- dc:identifier: string (nullable = true)\n",
      " |-- dc:title: string (nullable = true)\n",
      " |-- eid: string (nullable = true)\n",
      " |-- openaccess: string (nullable = true)\n",
      " |-- openaccessFlag: boolean (nullable = true)\n",
      " |-- prism:aggregationType: string (nullable = true)\n",
      " |-- prism:coverDate: string (nullable = true)\n",
      " |-- prism:coverDisplayDate: string (nullable = true)\n",
      " |-- prism:doi: string (nullable = true)\n",
      " |-- prism:eIssn: string (nullable = true)\n",
      " |-- prism:issn: string (nullable = true)\n",
      " |-- prism:issueIdentifier: string (nullable = true)\n",
      " |-- prism:pageRange: string (nullable = true)\n",
      " |-- prism:publicationName: string (nullable = true)\n",
      " |-- prism:url: string (nullable = true)\n",
      " |-- prism:volume: string (nullable = true)\n",
      " |-- source-id: string (nullable = true)\n",
      " |-- subtype: string (nullable = true)\n",
      " |-- subtypeDescription: string (nullable = true)\n",
      "\n"
     ]
    },
    {
     "data": {
      "text/html": [
       "<table border='1'>\n",
       "<tr><th>affiliation</th><th>citedby-count</th><th>dc:creator</th><th>dc:identifier</th><th>dc:title</th><th>eid</th><th>openaccess</th><th>openaccessFlag</th><th>prism:aggregationType</th><th>prism:coverDate</th><th>prism:coverDisplayDate</th><th>prism:doi</th><th>prism:eIssn</th><th>prism:issn</th><th>prism:issueIdentifier</th><th>prism:pageRange</th><th>prism:publicationName</th><th>prism:url</th><th>prism:volume</th><th>source-id</th><th>subtype</th><th>subtypeDescription</th><th>id</th></tr>\n",
       "<tr><td>[{true, Versaille...</td><td>2</td><td>Guessoum S.B.</td><td>SCOPUS_ID:8510563...</td><td>Transcultural and...</td><td>2-s2.0-85105639053</td><td>0</td><td>false</td><td>Journal</td><td>2021-12-01</td><td>December 2021</td><td>10.1177/136346152...</td><td>14617471</td><td>13634615</td><td>6</td><td>804-816</td><td>Transcultural Psy...</td><td>https://api.elsev...</td><td>58</td><td>19928</td><td>ar</td><td>Article</td><td>0</td></tr>\n",
       "<tr><td>[{true, Buenos Ai...</td><td>43</td><td>Lia V.V.</td><td>SCOPUS_ID:7034967...</td><td>Microsatellite va...</td><td>2-s2.0-70349675763</td><td>0</td><td>false</td><td>Journal</td><td>2009-10-01</td><td>October 2009</td><td>10.1007/s00122-00...</td><td>NULL</td><td>00405752</td><td>6</td><td>1053-1067</td><td>Theoretical and A...</td><td>https://api.elsev...</td><td>119</td><td>19046</td><td>ar</td><td>Article</td><td>1</td></tr>\n",
       "<tr><td>[{true, London, U...</td><td>0</td><td>Vasilyeva T.</td><td>SCOPUS_ID:8515943...</td><td>Behavioral View o...</td><td>2-s2.0-85159434767</td><td>0</td><td>false</td><td>Book</td><td>2021-01-01</td><td>1 January 2021</td><td>NULL</td><td>NULL</td><td>NULL</td><td>NULL</td><td>71-87</td><td>Social Inequality...</td><td>https://api.elsev...</td><td>NULL</td><td>21101152010</td><td>ch</td><td>Book Chapter</td><td>2</td></tr>\n",
       "<tr><td>[{true, Chiang Ra...</td><td>369</td><td>Wijayawardene N.N.</td><td>SCOPUS_ID:8503237...</td><td>Notes for genera:...</td><td>2-s2.0-85032377652</td><td>0</td><td>false</td><td>Journal</td><td>2017-09-01</td><td>September 2017</td><td>10.1007/s13225-01...</td><td>18789129</td><td>15602745</td><td>1</td><td>1-594</td><td>Fungal Diversity</td><td>https://api.elsev...</td><td>86</td><td>18567</td><td>ar</td><td>Article</td><td>3</td></tr>\n",
       "<tr><td>[{true, Chicago, ...</td><td>62</td><td>Adsera A.</td><td>SCOPUS_ID:3364573...</td><td>An economic analy...</td><td>2-s2.0-33645737475</td><td>0</td><td>false</td><td>Journal</td><td>2006-03-01</td><td>March 2006</td><td>10.1007/s11150-00...</td><td>15737152</td><td>15695239</td><td>1</td><td>75-95</td><td>Review of Economi...</td><td>https://api.elsev...</td><td>4</td><td>144933</td><td>ar</td><td>Article</td><td>4</td></tr>\n",
       "<tr><td>[{true, Ferrara, ...</td><td>0</td><td>Yu A.C.</td><td>SCOPUS_ID:8518356...</td><td>Bibliometric Anal...</td><td>2-s2.0-85183566743</td><td>0</td><td>false</td><td>Journal</td><td>2023-01-01</td><td>2023</td><td>10.4103/meajo.mea...</td><td>09751599</td><td>09749233</td><td>1</td><td>1-5</td><td>Middle East Afric...</td><td>https://api.elsev...</td><td>30</td><td>19700201212</td><td>ar</td><td>Article</td><td>5</td></tr>\n",
       "<tr><td>[{true, Exeter, U...</td><td>0</td><td>Agius D.A.</td><td>SCOPUS_ID:8514109...</td><td>Human Interaction...</td><td>2-s2.0-85141091868</td><td>0</td><td>false</td><td>Book</td><td>2017-01-01</td><td>1 January 2017</td><td>10.1163/978900433...</td><td>NULL</td><td>NULL</td><td>NULL</td><td>1-442</td><td>Human Interaction...</td><td>https://api.elsev...</td><td>NULL</td><td>21101117983</td><td>bk</td><td>Book</td><td>6</td></tr>\n",
       "<tr><td>[{true, Wuhan, Ch...</td><td>0</td><td>Xu R.</td><td>SCOPUS_ID:8520502...</td><td>Institutional ope...</td><td>2-s2.0-85205024918</td><td>0</td><td>false</td><td>Journal</td><td>2024-12-01</td><td>December 2024</td><td>10.1016/j.econmod...</td><td>NULL</td><td>02649993</td><td>NULL</td><td>NULL</td><td>Economic Modelling</td><td>https://api.elsev...</td><td>141</td><td>28467</td><td>ar</td><td>Article</td><td>7</td></tr>\n",
       "<tr><td>[{true, Vienna, A...</td><td>25</td><td>Tausch A.</td><td>SCOPUS_ID:8495278...</td><td>The political alg...</td><td>2-s2.0-84952781328</td><td>0</td><td>false</td><td>Book</td><td>2014-10-01</td><td>October 01, 2014</td><td>NULL</td><td>NULL</td><td>NULL</td><td>NULL</td><td>1-520</td><td>The Political Alg...</td><td>https://api.elsev...</td><td>NULL</td><td>21100433982</td><td>bk</td><td>Book</td><td>8</td></tr>\n",
       "<tr><td>[{true, Varna, Bu...</td><td>4</td><td>Minkov M.</td><td>SCOPUS_ID:8513586...</td><td>Do religions acco...</td><td>2-s2.0-85135863031</td><td>0</td><td>false</td><td>Journal</td><td>2022-09-20</td><td>20 September 2022</td><td>10.1108/CCSM-09-2...</td><td>NULL</td><td>20595794</td><td>4</td><td>938-962</td><td>Cross Cultural an...</td><td>https://api.elsev...</td><td>29</td><td>21100803392</td><td>ar</td><td>Article</td><td>9</td></tr>\n",
       "<tr><td>[{true, Egham, Un...</td><td>0</td><td>Minca C.</td><td>SCOPUS_ID:8516122...</td><td>Real Tourism: Pra...</td><td>2-s2.0-85161227558</td><td>0</td><td>false</td><td>Book</td><td>2012-01-01</td><td>1 January 2012</td><td>10.4324/978020318...</td><td>NULL</td><td>NULL</td><td>NULL</td><td>1-266</td><td>Real Tourism: Pra...</td><td>https://api.elsev...</td><td>NULL</td><td>21101156398</td><td>bk</td><td>Book</td><td>10</td></tr>\n",
       "<tr><td>[{true, Beijing, ...</td><td>4</td><td>Chen G.</td><td>SCOPUS_ID:8517415...</td><td>Bibliometric Anal...</td><td>2-s2.0-85174154028</td><td>1</td><td>true</td><td>Journal</td><td>2023-10-01</td><td>October 2023</td><td>10.3390/rs15194695</td><td>20724292</td><td>NULL</td><td>19</td><td>NULL</td><td>Remote Sensing</td><td>https://api.elsev...</td><td>15</td><td>86430</td><td>ar</td><td>Article</td><td>11</td></tr>\n",
       "<tr><td>[{true, Abu Dhabi...</td><td>5</td><td>Nobanee H.</td><td>SCOPUS_ID:8518035...</td><td>Analysis of insur...</td><td>2-s2.0-85180357769</td><td>1</td><td>true</td><td>Journal</td><td>2024-05-01</td><td>1 May 2024</td><td>10.1016/j.stae.20...</td><td>27730328</td><td>NULL</td><td>2</td><td>NULL</td><td>Sustainable Techn...</td><td>https://api.elsev...</td><td>3</td><td>21101167218</td><td>re</td><td>Review</td><td>12</td></tr>\n",
       "<tr><td>[{true, Guangzhou...</td><td>99</td><td>Bruton G.</td><td>SCOPUS_ID:8510136...</td><td>Economic inequali...</td><td>2-s2.0-85101365783</td><td>0</td><td>false</td><td>Journal</td><td>2021-05-01</td><td>May 2021</td><td>10.1016/j.jbusven...</td><td>NULL</td><td>08839026</td><td>3</td><td>NULL</td><td>Journal of Busine...</td><td>https://api.elsev...</td><td>36</td><td>23860</td><td>ar</td><td>Article</td><td>13</td></tr>\n",
       "<tr><td>[{true, London, U...</td><td>0</td><td>Hamilton A.</td><td>SCOPUS_ID:8521169...</td><td>History and futur...</td><td>2-s2.0-85211691639</td><td>0</td><td>false</td><td>Book</td><td>2024-11-15</td><td>15 November 2024</td><td>10.1079/978178924...</td><td>NULL</td><td>NULL</td><td>NULL</td><td>1-417</td><td>History and Futur...</td><td>https://api.elsev...</td><td>NULL</td><td>21101263112</td><td>bk</td><td>Book</td><td>14</td></tr>\n",
       "<tr><td>[{true, Madison, ...</td><td>68</td><td>Cleary J.</td><td>SCOPUS_ID:8488898...</td><td>Formulary availab...</td><td>2-s2.0-84888987926</td><td>1</td><td>true</td><td>Journal</td><td>2013-01-01</td><td>December 2013</td><td>10.1093/annonc/md...</td><td>15698041</td><td>09237534</td><td>SUPPLEMENT11</td><td>NULL</td><td>Annals of Oncology</td><td>https://api.elsev...</td><td>24</td><td>28711</td><td>ar</td><td>Article</td><td>15</td></tr>\n",
       "<tr><td>[{true, Durham, U...</td><td>127</td><td>Koenig H.G.</td><td>SCOPUS_ID:8505438...</td><td>Religion and Ment...</td><td>2-s2.0-85054384486</td><td>0</td><td>false</td><td>Book</td><td>2018-01-01</td><td>1 January 2018</td><td>10.1016/C2016-0-0...</td><td>NULL</td><td>NULL</td><td>NULL</td><td>1-363</td><td>Religion and Ment...</td><td>https://api.elsev...</td><td>NULL</td><td>21101118173</td><td>bk</td><td>Book</td><td>16</td></tr>\n",
       "<tr><td>[{true, Beirut, L...</td><td>1</td><td>Malaeb D.</td><td>SCOPUS_ID:8516127...</td><td>The use of intrav...</td><td>2-s2.0-85161271390</td><td>0</td><td>false</td><td>Journal</td><td>2023-08-01</td><td>August 2023</td><td>10.1016/j.jstroke...</td><td>15328511</td><td>10523057</td><td>8</td><td>NULL</td><td>Journal of Stroke...</td><td>https://api.elsev...</td><td>32</td><td>23884</td><td>ar</td><td>Article</td><td>17</td></tr>\n",
       "<tr><td>[{true, Nairobi, ...</td><td>7</td><td>Kimani T.N.</td><td>SCOPUS_ID:8513471...</td><td>Infectious diseas...</td><td>2-s2.0-85134716322</td><td>1</td><td>true</td><td>Journal</td><td>2022-09-01</td><td>September 2022</td><td>10.1016/j.epidem....</td><td>18780067</td><td>17554365</td><td>NULL</td><td>NULL</td><td>Epidemics</td><td>https://api.elsev...</td><td>40</td><td>17300154924</td><td>ar</td><td>Article</td><td>18</td></tr>\n",
       "<tr><td>[{true, Beirut, L...</td><td>0</td><td>Naim R.</td><td>SCOPUS_ID:8517934...</td><td>Correction to: Bu...</td><td>2-s2.0-85179344166</td><td>1</td><td>true</td><td>Journal</td><td>2024-02-01</td><td>February 2024</td><td>10.1007/s10067-02...</td><td>14349949</td><td>07703198</td><td>2</td><td>849</td><td>Clinical Rheumato...</td><td>https://api.elsev...</td><td>43</td><td>19187</td><td>er</td><td>Erratum</td><td>19</td></tr>\n",
       "</table>\n",
       "only showing top 20 rows\n"
      ],
      "text/plain": [
       "+--------------------+-------------+------------------+--------------------+--------------------+------------------+----------+--------------+---------------------+---------------+----------------------+--------------------+-----------+----------+---------------------+---------------+---------------------+--------------------+------------+-----------+-------+------------------+---+\n",
       "|         affiliation|citedby-count|        dc:creator|       dc:identifier|            dc:title|               eid|openaccess|openaccessFlag|prism:aggregationType|prism:coverDate|prism:coverDisplayDate|           prism:doi|prism:eIssn|prism:issn|prism:issueIdentifier|prism:pageRange|prism:publicationName|           prism:url|prism:volume|  source-id|subtype|subtypeDescription| id|\n",
       "+--------------------+-------------+------------------+--------------------+--------------------+------------------+----------+--------------+---------------------+---------------+----------------------+--------------------+-----------+----------+---------------------+---------------+---------------------+--------------------+------------+-----------+-------+------------------+---+\n",
       "|[{true, Versaille...|            2|     Guessoum S.B.|SCOPUS_ID:8510563...|Transcultural and...|2-s2.0-85105639053|         0|         false|              Journal|     2021-12-01|         December 2021|10.1177/136346152...|   14617471|  13634615|                    6|        804-816| Transcultural Psy...|https://api.elsev...|          58|      19928|     ar|           Article|  0|\n",
       "|[{true, Buenos Ai...|           43|          Lia V.V.|SCOPUS_ID:7034967...|Microsatellite va...|2-s2.0-70349675763|         0|         false|              Journal|     2009-10-01|          October 2009|10.1007/s00122-00...|       NULL|  00405752|                    6|      1053-1067| Theoretical and A...|https://api.elsev...|         119|      19046|     ar|           Article|  1|\n",
       "|[{true, London, U...|            0|      Vasilyeva T.|SCOPUS_ID:8515943...|Behavioral View o...|2-s2.0-85159434767|         0|         false|                 Book|     2021-01-01|        1 January 2021|                NULL|       NULL|      NULL|                 NULL|          71-87| Social Inequality...|https://api.elsev...|        NULL|21101152010|     ch|      Book Chapter|  2|\n",
       "|[{true, Chiang Ra...|          369|Wijayawardene N.N.|SCOPUS_ID:8503237...|Notes for genera:...|2-s2.0-85032377652|         0|         false|              Journal|     2017-09-01|        September 2017|10.1007/s13225-01...|   18789129|  15602745|                    1|          1-594|     Fungal Diversity|https://api.elsev...|          86|      18567|     ar|           Article|  3|\n",
       "|[{true, Chicago, ...|           62|         Adsera A.|SCOPUS_ID:3364573...|An economic analy...|2-s2.0-33645737475|         0|         false|              Journal|     2006-03-01|            March 2006|10.1007/s11150-00...|   15737152|  15695239|                    1|          75-95| Review of Economi...|https://api.elsev...|           4|     144933|     ar|           Article|  4|\n",
       "|[{true, Ferrara, ...|            0|           Yu A.C.|SCOPUS_ID:8518356...|Bibliometric Anal...|2-s2.0-85183566743|         0|         false|              Journal|     2023-01-01|                  2023|10.4103/meajo.mea...|   09751599|  09749233|                    1|            1-5| Middle East Afric...|https://api.elsev...|          30|19700201212|     ar|           Article|  5|\n",
       "|[{true, Exeter, U...|            0|        Agius D.A.|SCOPUS_ID:8514109...|Human Interaction...|2-s2.0-85141091868|         0|         false|                 Book|     2017-01-01|        1 January 2017|10.1163/978900433...|       NULL|      NULL|                 NULL|          1-442| Human Interaction...|https://api.elsev...|        NULL|21101117983|     bk|              Book|  6|\n",
       "|[{true, Wuhan, Ch...|            0|             Xu R.|SCOPUS_ID:8520502...|Institutional ope...|2-s2.0-85205024918|         0|         false|              Journal|     2024-12-01|         December 2024|10.1016/j.econmod...|       NULL|  02649993|                 NULL|           NULL|   Economic Modelling|https://api.elsev...|         141|      28467|     ar|           Article|  7|\n",
       "|[{true, Vienna, A...|           25|         Tausch A.|SCOPUS_ID:8495278...|The political alg...|2-s2.0-84952781328|         0|         false|                 Book|     2014-10-01|      October 01, 2014|                NULL|       NULL|      NULL|                 NULL|          1-520| The Political Alg...|https://api.elsev...|        NULL|21100433982|     bk|              Book|  8|\n",
       "|[{true, Varna, Bu...|            4|         Minkov M.|SCOPUS_ID:8513586...|Do religions acco...|2-s2.0-85135863031|         0|         false|              Journal|     2022-09-20|     20 September 2022|10.1108/CCSM-09-2...|       NULL|  20595794|                    4|        938-962| Cross Cultural an...|https://api.elsev...|          29|21100803392|     ar|           Article|  9|\n",
       "|[{true, Egham, Un...|            0|          Minca C.|SCOPUS_ID:8516122...|Real Tourism: Pra...|2-s2.0-85161227558|         0|         false|                 Book|     2012-01-01|        1 January 2012|10.4324/978020318...|       NULL|      NULL|                 NULL|          1-266| Real Tourism: Pra...|https://api.elsev...|        NULL|21101156398|     bk|              Book| 10|\n",
       "|[{true, Beijing, ...|            4|           Chen G.|SCOPUS_ID:8517415...|Bibliometric Anal...|2-s2.0-85174154028|         1|          true|              Journal|     2023-10-01|          October 2023|  10.3390/rs15194695|   20724292|      NULL|                   19|           NULL|       Remote Sensing|https://api.elsev...|          15|      86430|     ar|           Article| 11|\n",
       "|[{true, Abu Dhabi...|            5|        Nobanee H.|SCOPUS_ID:8518035...|Analysis of insur...|2-s2.0-85180357769|         1|          true|              Journal|     2024-05-01|            1 May 2024|10.1016/j.stae.20...|   27730328|      NULL|                    2|           NULL| Sustainable Techn...|https://api.elsev...|           3|21101167218|     re|            Review| 12|\n",
       "|[{true, Guangzhou...|           99|         Bruton G.|SCOPUS_ID:8510136...|Economic inequali...|2-s2.0-85101365783|         0|         false|              Journal|     2021-05-01|              May 2021|10.1016/j.jbusven...|       NULL|  08839026|                    3|           NULL| Journal of Busine...|https://api.elsev...|          36|      23860|     ar|           Article| 13|\n",
       "|[{true, London, U...|            0|       Hamilton A.|SCOPUS_ID:8521169...|History and futur...|2-s2.0-85211691639|         0|         false|                 Book|     2024-11-15|      15 November 2024|10.1079/978178924...|       NULL|      NULL|                 NULL|          1-417| History and Futur...|https://api.elsev...|        NULL|21101263112|     bk|              Book| 14|\n",
       "|[{true, Madison, ...|           68|         Cleary J.|SCOPUS_ID:8488898...|Formulary availab...|2-s2.0-84888987926|         1|          true|              Journal|     2013-01-01|         December 2013|10.1093/annonc/md...|   15698041|  09237534|         SUPPLEMENT11|           NULL|   Annals of Oncology|https://api.elsev...|          24|      28711|     ar|           Article| 15|\n",
       "|[{true, Durham, U...|          127|       Koenig H.G.|SCOPUS_ID:8505438...|Religion and Ment...|2-s2.0-85054384486|         0|         false|                 Book|     2018-01-01|        1 January 2018|10.1016/C2016-0-0...|       NULL|      NULL|                 NULL|          1-363| Religion and Ment...|https://api.elsev...|        NULL|21101118173|     bk|              Book| 16|\n",
       "|[{true, Beirut, L...|            1|         Malaeb D.|SCOPUS_ID:8516127...|The use of intrav...|2-s2.0-85161271390|         0|         false|              Journal|     2023-08-01|           August 2023|10.1016/j.jstroke...|   15328511|  10523057|                    8|           NULL| Journal of Stroke...|https://api.elsev...|          32|      23884|     ar|           Article| 17|\n",
       "|[{true, Nairobi, ...|            7|       Kimani T.N.|SCOPUS_ID:8513471...|Infectious diseas...|2-s2.0-85134716322|         1|          true|              Journal|     2022-09-01|        September 2022|10.1016/j.epidem....|   18780067|  17554365|                 NULL|           NULL|            Epidemics|https://api.elsev...|          40|17300154924|     ar|           Article| 18|\n",
       "|[{true, Beirut, L...|            0|           Naim R.|SCOPUS_ID:8517934...|Correction to: Bu...|2-s2.0-85179344166|         1|          true|              Journal|     2024-02-01|         February 2024|10.1007/s10067-02...|   14349949|  07703198|                    2|            849| Clinical Rheumato...|https://api.elsev...|          43|      19187|     er|           Erratum| 19|\n",
       "+--------------------+-------------+------------------+--------------------+--------------------+------------------+----------+--------------+---------------------+---------------+----------------------+--------------------+-----------+----------+---------------------+---------------+---------------------+--------------------+------------+-----------+-------+------------------+---+\n",
       "only showing top 20 rows"
      ]
     },
     "execution_count": 28,
     "metadata": {},
     "output_type": "execute_result"
    }
   ],
   "source": [
    "from pyspark.sql.functions import monotonically_increasing_id\n",
    "folder_path = \"/home/jovyan/data/\"\n",
    "df = spark.read.json(folder_path)\n",
    "df.printSchema()\n",
    "df_with_id = df.withColumn(\"id\", monotonically_increasing_id())\n",
    "df_with_id"
   ]
  },
  {
   "cell_type": "code",
   "execution_count": 29,
   "id": "5a0177f9-d29b-46f9-9501-e6f4631d1fda",
   "metadata": {},
   "outputs": [
    {
     "name": "stdout",
     "output_type": "stream",
     "text": [
      "658\n"
     ]
    }
   ],
   "source": [
    "nombre_de_lignes = df_with_id.count()\n",
    "print(nombre_de_lignes)"
   ]
  },
  {
   "cell_type": "code",
   "execution_count": 30,
   "id": "e91d143a-e941-4203-b2e9-bcfc3f2d545f",
   "metadata": {},
   "outputs": [
    {
     "data": {
      "text/html": [
       "<table border='1'>\n",
       "<tr><th>affiliation</th></tr>\n",
       "<tr><td>[{true, Versaille...</td></tr>\n",
       "<tr><td>[{true, Buenos Ai...</td></tr>\n",
       "<tr><td>[{true, London, U...</td></tr>\n",
       "<tr><td>[{true, Chiang Ra...</td></tr>\n",
       "<tr><td>[{true, Chicago, ...</td></tr>\n",
       "<tr><td>[{true, Ferrara, ...</td></tr>\n",
       "<tr><td>[{true, Exeter, U...</td></tr>\n",
       "<tr><td>[{true, Wuhan, Ch...</td></tr>\n",
       "<tr><td>[{true, Vienna, A...</td></tr>\n",
       "<tr><td>[{true, Varna, Bu...</td></tr>\n",
       "<tr><td>[{true, Egham, Un...</td></tr>\n",
       "<tr><td>[{true, Beijing, ...</td></tr>\n",
       "<tr><td>[{true, Abu Dhabi...</td></tr>\n",
       "<tr><td>[{true, Guangzhou...</td></tr>\n",
       "<tr><td>[{true, London, U...</td></tr>\n",
       "<tr><td>[{true, Madison, ...</td></tr>\n",
       "<tr><td>[{true, Durham, U...</td></tr>\n",
       "<tr><td>[{true, Beirut, L...</td></tr>\n",
       "<tr><td>[{true, Nairobi, ...</td></tr>\n",
       "<tr><td>[{true, Beirut, L...</td></tr>\n",
       "</table>\n",
       "only showing top 20 rows\n"
      ],
      "text/plain": [
       "+--------------------+\n",
       "|         affiliation|\n",
       "+--------------------+\n",
       "|[{true, Versaille...|\n",
       "|[{true, Buenos Ai...|\n",
       "|[{true, London, U...|\n",
       "|[{true, Chiang Ra...|\n",
       "|[{true, Chicago, ...|\n",
       "|[{true, Ferrara, ...|\n",
       "|[{true, Exeter, U...|\n",
       "|[{true, Wuhan, Ch...|\n",
       "|[{true, Vienna, A...|\n",
       "|[{true, Varna, Bu...|\n",
       "|[{true, Egham, Un...|\n",
       "|[{true, Beijing, ...|\n",
       "|[{true, Abu Dhabi...|\n",
       "|[{true, Guangzhou...|\n",
       "|[{true, London, U...|\n",
       "|[{true, Madison, ...|\n",
       "|[{true, Durham, U...|\n",
       "|[{true, Beirut, L...|\n",
       "|[{true, Nairobi, ...|\n",
       "|[{true, Beirut, L...|\n",
       "+--------------------+\n",
       "only showing top 20 rows"
      ]
     },
     "execution_count": 30,
     "metadata": {},
     "output_type": "execute_result"
    }
   ],
   "source": [
    "df_with_id.select(\"affiliation\")"
   ]
  },
  {
   "cell_type": "code",
   "execution_count": 31,
   "id": "05596879-a797-4a65-90b5-c2cb9a6b8ef5",
   "metadata": {},
   "outputs": [
    {
     "data": {
      "text/html": [
       "<table border='1'>\n",
       "<tr><th>affiliation</th><th>citedby-count</th><th>dc:creator</th><th>dc:identifier</th><th>dc:title</th><th>eid</th><th>openaccess</th><th>openaccessFlag</th><th>prism:aggregationType</th><th>prism:coverDate</th><th>prism:coverDisplayDate</th><th>prism:doi</th><th>prism:eIssn</th><th>prism:issn</th><th>prism:issueIdentifier</th><th>prism:pageRange</th><th>prism:publicationName</th><th>prism:url</th><th>prism:volume</th><th>source-id</th><th>subtype</th><th>subtypeDescription</th><th>id</th></tr>\n",
       "<tr><td>[{true, Chiang Ra...</td><td>369</td><td>Wijayawardene N.N.</td><td>SCOPUS_ID:8503237...</td><td>Notes for genera:...</td><td>2-s2.0-85032377652</td><td>0</td><td>false</td><td>Journal</td><td>2017-09-01</td><td>September 2017</td><td>10.1007/s13225-01...</td><td>18789129</td><td>15602745</td><td>1</td><td>1-594</td><td>Fungal Diversity</td><td>https://api.elsev...</td><td>86</td><td>18567</td><td>ar</td><td>Article</td><td>3</td></tr>\n",
       "<tr><td>[{true, London, U...</td><td>0</td><td>Hamilton A.</td><td>SCOPUS_ID:8521169...</td><td>History and futur...</td><td>2-s2.0-85211691639</td><td>0</td><td>false</td><td>Book</td><td>2024-11-15</td><td>15 November 2024</td><td>10.1079/978178924...</td><td>NULL</td><td>NULL</td><td>NULL</td><td>1-417</td><td>History and Futur...</td><td>https://api.elsev...</td><td>NULL</td><td>21101263112</td><td>bk</td><td>Book</td><td>14</td></tr>\n",
       "<tr><td>[{true, Kunming, ...</td><td>8</td><td>JinRu L.</td><td>SCOPUS_ID:8514506...</td><td>Do environmental ...</td><td>2-s2.0-85145062123</td><td>1</td><td>true</td><td>Journal</td><td>2022-12-14</td><td>14 December 2022</td><td>10.3389/fenvs.202...</td><td>2296665X</td><td>NULL</td><td>NULL</td><td>NULL</td><td>Frontiers in Envi...</td><td>https://api.elsev...</td><td>10</td><td>21100826280</td><td>ar</td><td>Article</td><td>17179869211</td></tr>\n",
       "<tr><td>[{true, Khon Kaen...</td><td>0</td><td>Nguyen L.T.</td><td>SCOPUS_ID:8520880...</td><td>Perceptions of Re...</td><td>2-s2.0-85208800123</td><td>0</td><td>false</td><td>Journal</td><td>2024-01-01</td><td>2024</td><td>10.1007/s10805-02...</td><td>15728544</td><td>15701727</td><td>NULL</td><td>NULL</td><td>Journal of Academ...</td><td>https://api.elsev...</td><td>NULL</td><td>1000147118</td><td>ar</td><td>Article</td><td>94489280523</td></tr>\n",
       "</table>\n"
      ],
      "text/plain": [
       "+--------------------+-------------+------------------+--------------------+--------------------+------------------+----------+--------------+---------------------+---------------+----------------------+--------------------+-----------+----------+---------------------+---------------+---------------------+--------------------+------------+-----------+-------+------------------+-----------+\n",
       "|         affiliation|citedby-count|        dc:creator|       dc:identifier|            dc:title|               eid|openaccess|openaccessFlag|prism:aggregationType|prism:coverDate|prism:coverDisplayDate|           prism:doi|prism:eIssn|prism:issn|prism:issueIdentifier|prism:pageRange|prism:publicationName|           prism:url|prism:volume|  source-id|subtype|subtypeDescription|         id|\n",
       "+--------------------+-------------+------------------+--------------------+--------------------+------------------+----------+--------------+---------------------+---------------+----------------------+--------------------+-----------+----------+---------------------+---------------+---------------------+--------------------+------------+-----------+-------+------------------+-----------+\n",
       "|[{true, Chiang Ra...|          369|Wijayawardene N.N.|SCOPUS_ID:8503237...|Notes for genera:...|2-s2.0-85032377652|         0|         false|              Journal|     2017-09-01|        September 2017|10.1007/s13225-01...|   18789129|  15602745|                    1|          1-594|     Fungal Diversity|https://api.elsev...|          86|      18567|     ar|           Article|          3|\n",
       "|[{true, London, U...|            0|       Hamilton A.|SCOPUS_ID:8521169...|History and futur...|2-s2.0-85211691639|         0|         false|                 Book|     2024-11-15|      15 November 2024|10.1079/978178924...|       NULL|      NULL|                 NULL|          1-417| History and Futur...|https://api.elsev...|        NULL|21101263112|     bk|              Book|         14|\n",
       "|[{true, Kunming, ...|            8|          JinRu L.|SCOPUS_ID:8514506...|Do environmental ...|2-s2.0-85145062123|         1|          true|              Journal|     2022-12-14|      14 December 2022|10.3389/fenvs.202...|   2296665X|      NULL|                 NULL|           NULL| Frontiers in Envi...|https://api.elsev...|          10|21100826280|     ar|           Article|17179869211|\n",
       "|[{true, Khon Kaen...|            0|       Nguyen L.T.|SCOPUS_ID:8520880...|Perceptions of Re...|2-s2.0-85208800123|         0|         false|              Journal|     2024-01-01|                  2024|10.1007/s10805-02...|   15728544|  15701727|                 NULL|           NULL| Journal of Academ...|https://api.elsev...|        NULL| 1000147118|     ar|           Article|94489280523|\n",
       "+--------------------+-------------+------------------+--------------------+--------------------+------------------+----------+--------------+---------------------+---------------+----------------------+--------------------+-----------+----------+---------------------+---------------+---------------------+--------------------+------------+-----------+-------+------------------+-----------+"
      ]
     },
     "execution_count": 31,
     "metadata": {},
     "output_type": "execute_result"
    }
   ],
   "source": [
    "from pyspark.sql.functions import col, array_contains\n",
    "\n",
    "filtered_df = df_with_id.filter(\n",
    "    (array_contains(col(\"affiliation.affilname\"), \"East and Central Asia \")) |\n",
    "    (array_contains(col(\"affiliation.affiliation-city\"), \"Kunming\")) |\n",
    "    (array_contains(col(\"affiliation.affiliation-country\"), \"Thailand\"))\n",
    ")\n",
    "\n",
    "filtered_df\n"
   ]
  },
  {
   "cell_type": "code",
   "execution_count": 26,
   "id": "91b856a1-05eb-4e1c-9c2a-6c484056665a",
   "metadata": {},
   "outputs": [
    {
     "name": "stdout",
     "output_type": "stream",
     "text": [
      "+------------------------------------------------------------------------------------------------------------------------------------------------------------------------------------------------------------------------+\n",
      "|affiliation                                                                                                                                                                                                             |\n",
      "+------------------------------------------------------------------------------------------------------------------------------------------------------------------------------------------------------------------------+\n",
      "|[{true, Chiang Rai, Thailand, Mae Fah Luang University}, {true, Kunming, China, Kunming Institute of Botany}, {true, Kunming, China, East and Central Asia}, {true, Chaing Mai, Thailand, Mushroom Research Foundation}]|\n",
      "|[{true, London, United Kingdom, The Linnean Society of London}, {true, Kunming, China, Kunming Institute of Botany}]                                                                                                    |\n",
      "|[{true, Kunming, China, Yunnan University of Finance and Economics}]                                                                                                                                                    |\n",
      "|[{true, Khon Kaen, Thailand, Khon Kaen University}]                                                                                                                                                                     |\n",
      "+------------------------------------------------------------------------------------------------------------------------------------------------------------------------------------------------------------------------+\n",
      "\n"
     ]
    }
   ],
   "source": [
    "from pyspark.sql.functions import col\n",
    "filtered_df.select(\"affiliation\").show(truncate=False)"
   ]
  },
  {
   "cell_type": "code",
   "execution_count": 50,
   "id": "806bd497-bf67-441a-94b5-fc737997a83f",
   "metadata": {},
   "outputs": [
    {
     "name": "stdout",
     "output_type": "stream",
     "text": [
      "+---+-----------------------------------------------------------------------------------------------------------------------------------------------------+-------------------------------------------------------+------------------------------------------------------+\n",
      "|id |affilnames                                                                                                                                           |cities                                                 |countries                                             |\n",
      "+---+-----------------------------------------------------------------------------------------------------------------------------------------------------+-------------------------------------------------------+------------------------------------------------------+\n",
      "|0  |[Université de Versailles Saint-Quentin-en-Yvelines, Hopital Cochin AP-HP, University Sorbonne Paris Nord, University of Paris]                      |[Versailles, Paris, Villetaneuse, Boulogne-Billancourt]|[France, France, France, France]                      |\n",
      "|1  |[Instituto Nacional de Tecnología Agropecuaria Buenos Aires, Consejo Nacional de Investigaciones Científicas y Técnicas, Universidad de Buenos Aires]|[Buenos Aires, Buenos Aires, Buenos Aires]             |[Argentina, Argentina, Argentina]                     |\n",
      "|2  |[European Bank for Reconstruction and Development, Sumy State University, Economics and Management, NGO “Council of Young Scientists”]               |[London, Sumy]                                         |[United Kingdom, Ukraine, Ukraine, Ukraine]           |\n",
      "|3  |[Mae Fah Luang University, Kunming Institute of Botany, East and Central Asia, Mushroom Research Foundation]                                         |[Chiang Rai, Kunming, Kunming, Chaing Mai]             |[Thailand, China, China, Thailand]                    |\n",
      "|4  |[Population Research Center, The University of Chicago, University of Illinois at Chicago, Forschungsinstitut zur Zukunft der Arbeit]                |[Chicago, Chicago, Bonn]                               |[United States, United States, Germany]               |\n",
      "|5  |[University of Ferrara, Ospedali Privati Forlì “Villa Igea”, Istituto Internazionale per la Ricerca e Formazione in Oftalmologia (IRFO)]             |[Ferrara, Forli, Forli]                                |[Italy, Italy, Italy]                                 |\n",
      "|6  |[University of Exeter, King Abdulaziz University, British Academy]                                                                                   |[Exeter, Jeddah, Ankara]                               |[United Kingdom, Saudi Arabia, United Kingdom]        |\n",
      "|7  |[Hubei University of Technology, Zhongnan University of Economics and Law, Hubei Circular Economy Development Research Center]                       |[Wuhan, Wuhan, Wuhan]                                  |[China, China, China]                                 |\n",
      "|8  |[Universität Wien, Universität Innsbruck, Budapesti Corvinus Egyetem]                                                                                |[Vienna, Innsbruck, Budapest]                          |[Austria, Austria, Hungary]                           |\n",
      "|9  |[Varna University of Management, Tartu Ülikool, HSE University]                                                                                      |[Varna, Tartu, Moscow]                                 |[Bulgaria, Estonia, Russian Federation]               |\n",
      "|10 |[Royal Holloway, University of London, Rikkyo University, Wageningen University &amp; Research]                                                      |[Egham, Tokyo, Wageningen]                             |[United Kingdom, Japan, Netherlands]                  |\n",
      "|11 |[Aerospace Information Research Institute, Peking University, International Research Center of Big Data for Sustainable Development Goals]           |[Beijing, Beijing, Beijing]                            |[China, China, China]                                 |\n",
      "|12 |[Abu Dhabi University, University of Oxford, University of Liverpool]                                                                                |[Abu Dhabi, Oxford, Liverpool]                         |[United Arab Emirates, United Kingdom, United Kingdom]|\n",
      "|13 |[Sun Yat-Sen University, Texas Christian University, Jilin University]                                                                               |[Guangzhou, Fort Worth, Changchun]                     |[China, United States, China]                         |\n",
      "|14 |[The Linnean Society of London, Kunming Institute of Botany]                                                                                         |[London, Kunming]                                      |[United Kingdom, China]                               |\n",
      "|15 |[University of Wisconsin School of Medicine and Public Health, University of Wisconsin Carbone Cancer Center]                                        |[Madison, Madison]                                     |[United States, United States]                        |\n",
      "|16 |[Duke University Medical Center, Ningxia Medical University, King Abdulaziz University]                                                              |[Durham, Yinchuan, Jeddah]                             |[United States, China, Saudi Arabia]                  |\n",
      "|17 |[Lebanese International University, Gulf Medical University]                                                                                         |[Beirut, Ajman]                                        |[Lebanon, United Arab Emirates]                       |\n",
      "|18 |[University of Nairobi, Washington State University, Ministry of Health Kenya]                                                                       |[Nairobi, Allen, Kiambu County]                        |[Kenya, United States, Kenya]                         |\n",
      "|19 |[Hôtel-Dieu de France Hospital, Université Saint-Joseph de Beyrouth]                                                                                 |[Beirut, Beirut]                                       |[Lebanon, Lebanon]                                    |\n",
      "+---+-----------------------------------------------------------------------------------------------------------------------------------------------------+-------------------------------------------------------+------------------------------------------------------+\n",
      "only showing top 20 rows\n",
      "\n"
     ]
    }
   ],
   "source": [
    "from pyspark.sql import functions as F\n",
    "from pyspark.sql.functions import col\n",
    "exploded_df = df_with_id.withColumn(\"affiliation\", F.explode(col(\"affiliation\")))\n",
    "\n",
    "exploded_df = exploded_df.withColumn(\"affilname\", col(\"affiliation\").getItem(\"affilname\")) \\\n",
    "                         .withColumn(\"affiliation-city\", col(\"affiliation\").getItem(\"affiliation-city\")) \\\n",
    "                         .withColumn(\"affiliation-country\", col(\"affiliation\").getItem(\"affiliation-country\"))\n",
    "\n",
    "result_df = exploded_df.select(\"id\", \"affilname\", \"affiliation-city\", \"affiliation-country\")\n",
    "\n",
    "result_df = result_df.groupBy(\"id\").agg(\n",
    "    F.collect_list(\"affilname\").alias(\"affilnames\"),\n",
    "    F.collect_list(\"affiliation-city\").alias(\"cities\"),\n",
    "    F.collect_list(\"affiliation-country\").alias(\"countries\")\n",
    ")\n",
    "\n",
    "result_df.show(truncate=False)\n"
   ]
  },
  {
   "cell_type": "code",
   "execution_count": 51,
   "id": "da765b12-c226-4efb-89d0-7d6dcb88bb52",
   "metadata": {},
   "outputs": [
    {
     "name": "stdout",
     "output_type": "stream",
     "text": [
      "+---+--------------------------------------------------------------------------+--------------------+--------------+\n",
      "|id |affilname                                                                 |city                |country       |\n",
      "+---+--------------------------------------------------------------------------+--------------------+--------------+\n",
      "|0  |Université de Versailles Saint-Quentin-en-Yvelines                        |Versailles          |France        |\n",
      "|0  |Hopital Cochin AP-HP                                                      |Paris               |France        |\n",
      "|0  |University Sorbonne Paris Nord                                            |Villetaneuse        |France        |\n",
      "|0  |University of Paris                                                       |Boulogne-Billancourt|France        |\n",
      "|1  |Instituto Nacional de Tecnología Agropecuaria Buenos Aires                |Buenos Aires        |Argentina     |\n",
      "|1  |Consejo Nacional de Investigaciones Científicas y Técnicas                |Buenos Aires        |Argentina     |\n",
      "|1  |Universidad de Buenos Aires                                               |Buenos Aires        |Argentina     |\n",
      "|2  |European Bank for Reconstruction and Development                          |London              |United Kingdom|\n",
      "|2  |Sumy State University                                                     |Sumy                |Ukraine       |\n",
      "|3  |Mae Fah Luang University                                                  |Chiang Rai          |Thailand      |\n",
      "|3  |Kunming Institute of Botany                                               |Kunming             |China         |\n",
      "|3  |East and Central Asia                                                     |Kunming             |China         |\n",
      "|3  |Mushroom Research Foundation                                              |Chaing Mai          |Thailand      |\n",
      "|4  |Population Research Center, The University of Chicago                     |Chicago             |United States |\n",
      "|4  |University of Illinois at Chicago                                         |Chicago             |United States |\n",
      "|4  |Forschungsinstitut zur Zukunft der Arbeit                                 |Bonn                |Germany       |\n",
      "|5  |University of Ferrara                                                     |Ferrara             |Italy         |\n",
      "|5  |Ospedali Privati Forlì “Villa Igea”                                       |Forli               |Italy         |\n",
      "|5  |Istituto Internazionale per la Ricerca e Formazione in Oftalmologia (IRFO)|Forli               |Italy         |\n",
      "|6  |University of Exeter                                                      |Exeter              |United Kingdom|\n",
      "+---+--------------------------------------------------------------------------+--------------------+--------------+\n",
      "only showing top 20 rows\n",
      "\n"
     ]
    }
   ],
   "source": [
    "from pyspark.sql import functions as F\n",
    "\n",
    "affilnames_exploded = result_df.select(\"id\", F.posexplode(\"affilnames\").alias(\"index\", \"affilname\"))\n",
    "cities_exploded = result_df.select(\"id\", F.posexplode(\"cities\").alias(\"index\", \"city\"))\n",
    "countries_exploded = result_df.select(\"id\", F.posexplode(\"countries\").alias(\"index\", \"country\"))\n",
    "joined_df = affilnames_exploded \\\n",
    "    .join(cities_exploded, on=[\"id\", \"index\"], how=\"inner\") \\\n",
    "    .join(countries_exploded, on=[\"id\", \"index\"], how=\"inner\")\n",
    "result_df = joined_df.select(\"id\", \"affilname\", \"city\", \"country\")\n",
    "result_df.show(truncate=False)\n"
   ]
  },
  {
   "cell_type": "code",
   "execution_count": 57,
   "id": "b3d95adf-0800-48e7-9474-05440367c6b7",
   "metadata": {},
   "outputs": [
    {
     "data": {
      "text/html": [
       "<table border='1'>\n",
       "<tr><th>id</th><th>affilname</th><th>city</th><th>country</th><th>id_affiliate</th></tr>\n",
       "<tr><td>0</td><td>Universit&eacute; de Ver...</td><td>Versailles</td><td>France</td><td>0</td></tr>\n",
       "<tr><td>0</td><td>Hopital Cochin AP-HP</td><td>Paris</td><td>France</td><td>1</td></tr>\n",
       "<tr><td>0</td><td>University Sorbon...</td><td>Villetaneuse</td><td>France</td><td>2</td></tr>\n",
       "<tr><td>0</td><td>University of Paris</td><td>Boulogne-Billancourt</td><td>France</td><td>3</td></tr>\n",
       "<tr><td>1</td><td>Instituto Naciona...</td><td>Buenos Aires</td><td>Argentina</td><td>4</td></tr>\n",
       "<tr><td>1</td><td>Consejo Nacional ...</td><td>Buenos Aires</td><td>Argentina</td><td>5</td></tr>\n",
       "<tr><td>1</td><td>Universidad de Bu...</td><td>Buenos Aires</td><td>Argentina</td><td>6</td></tr>\n",
       "<tr><td>2</td><td>European Bank for...</td><td>London</td><td>United Kingdom</td><td>7</td></tr>\n",
       "<tr><td>2</td><td>Sumy State Univer...</td><td>Sumy</td><td>Ukraine</td><td>8</td></tr>\n",
       "<tr><td>3</td><td>Mae Fah Luang Uni...</td><td>Chiang Rai</td><td>Thailand</td><td>9</td></tr>\n",
       "<tr><td>3</td><td>Kunming Institute...</td><td>Kunming</td><td>China</td><td>10</td></tr>\n",
       "<tr><td>3</td><td>East and Central ...</td><td>Kunming</td><td>China</td><td>11</td></tr>\n",
       "<tr><td>3</td><td>Mushroom Research...</td><td>Chaing Mai</td><td>Thailand</td><td>12</td></tr>\n",
       "<tr><td>4</td><td>Population Resear...</td><td>Chicago</td><td>United States</td><td>13</td></tr>\n",
       "<tr><td>4</td><td>University of Ill...</td><td>Chicago</td><td>United States</td><td>14</td></tr>\n",
       "<tr><td>4</td><td>Forschungsinstitu...</td><td>Bonn</td><td>Germany</td><td>15</td></tr>\n",
       "<tr><td>5</td><td>University of Fer...</td><td>Ferrara</td><td>Italy</td><td>16</td></tr>\n",
       "<tr><td>5</td><td>Ospedali Privati ...</td><td>Forli</td><td>Italy</td><td>17</td></tr>\n",
       "<tr><td>5</td><td>Istituto Internaz...</td><td>Forli</td><td>Italy</td><td>18</td></tr>\n",
       "<tr><td>6</td><td>University of Exeter</td><td>Exeter</td><td>United Kingdom</td><td>19</td></tr>\n",
       "</table>\n",
       "only showing top 20 rows\n"
      ],
      "text/plain": [
       "+---+--------------------+--------------------+--------------+------------+\n",
       "| id|           affilname|                city|       country|id_affiliate|\n",
       "+---+--------------------+--------------------+--------------+------------+\n",
       "|  0|Université de Ver...|          Versailles|        France|           0|\n",
       "|  0|Hopital Cochin AP-HP|               Paris|        France|           1|\n",
       "|  0|University Sorbon...|        Villetaneuse|        France|           2|\n",
       "|  0| University of Paris|Boulogne-Billancourt|        France|           3|\n",
       "|  1|Instituto Naciona...|        Buenos Aires|     Argentina|           4|\n",
       "|  1|Consejo Nacional ...|        Buenos Aires|     Argentina|           5|\n",
       "|  1|Universidad de Bu...|        Buenos Aires|     Argentina|           6|\n",
       "|  2|European Bank for...|              London|United Kingdom|           7|\n",
       "|  2|Sumy State Univer...|                Sumy|       Ukraine|           8|\n",
       "|  3|Mae Fah Luang Uni...|          Chiang Rai|      Thailand|           9|\n",
       "|  3|Kunming Institute...|             Kunming|         China|          10|\n",
       "|  3|East and Central ...|             Kunming|         China|          11|\n",
       "|  3|Mushroom Research...|          Chaing Mai|      Thailand|          12|\n",
       "|  4|Population Resear...|             Chicago| United States|          13|\n",
       "|  4|University of Ill...|             Chicago| United States|          14|\n",
       "|  4|Forschungsinstitu...|                Bonn|       Germany|          15|\n",
       "|  5|University of Fer...|             Ferrara|         Italy|          16|\n",
       "|  5|Ospedali Privati ...|               Forli|         Italy|          17|\n",
       "|  5|Istituto Internaz...|               Forli|         Italy|          18|\n",
       "|  6|University of Exeter|              Exeter|United Kingdom|          19|\n",
       "+---+--------------------+--------------------+--------------+------------+\n",
       "only showing top 20 rows"
      ]
     },
     "execution_count": 57,
     "metadata": {},
     "output_type": "execute_result"
    }
   ],
   "source": [
    "from pyspark.sql import functions as F\n",
    "result_df = result_df.withColumn(\"id_affiliate\", F.expr(\"CAST(monotonically_increasing_id() AS STRING)\"))\n",
    "result_df = result_df.withColumn(\"id_affiliate\", F.substring(\"id_affiliate\", -8, 8))\n",
    "result_df\n"
   ]
  },
  {
   "cell_type": "code",
   "execution_count": 60,
   "id": "9633c002-7dd7-4327-ba8b-bd7f42429eeb",
   "metadata": {},
   "outputs": [
    {
     "name": "stdout",
     "output_type": "stream",
     "text": [
      "689\n"
     ]
    }
   ],
   "source": [
    "nombre_de_lignes = result_df.count()\n",
    "print(nombre_de_lignes)"
   ]
  },
  {
   "cell_type": "code",
   "execution_count": 58,
   "id": "5498e934-789f-42cd-8392-bf97d9aaee0b",
   "metadata": {},
   "outputs": [
    {
     "data": {
      "text/html": [
       "<table border='1'>\n",
       "<tr><th>affiliation</th><th>citedby-count</th><th>dc:creator</th><th>dc:identifier</th><th>dc:title</th><th>eid</th><th>openaccess</th><th>openaccessFlag</th><th>prism:aggregationType</th><th>prism:coverDate</th><th>prism:coverDisplayDate</th><th>prism:doi</th><th>prism:eIssn</th><th>prism:issn</th><th>prism:issueIdentifier</th><th>prism:pageRange</th><th>prism:publicationName</th><th>prism:url</th><th>prism:volume</th><th>source-id</th><th>subtype</th><th>subtypeDescription</th><th>id</th></tr>\n",
       "<tr><td>[{true, Versaille...</td><td>2</td><td>Guessoum S.B.</td><td>SCOPUS_ID:8510563...</td><td>Transcultural and...</td><td>2-s2.0-85105639053</td><td>0</td><td>false</td><td>Journal</td><td>2021-12-01</td><td>December 2021</td><td>10.1177/136346152...</td><td>14617471</td><td>13634615</td><td>6</td><td>804-816</td><td>Transcultural Psy...</td><td>https://api.elsev...</td><td>58</td><td>19928</td><td>ar</td><td>Article</td><td>0</td></tr>\n",
       "<tr><td>[{true, Buenos Ai...</td><td>43</td><td>Lia V.V.</td><td>SCOPUS_ID:7034967...</td><td>Microsatellite va...</td><td>2-s2.0-70349675763</td><td>0</td><td>false</td><td>Journal</td><td>2009-10-01</td><td>October 2009</td><td>10.1007/s00122-00...</td><td>NULL</td><td>00405752</td><td>6</td><td>1053-1067</td><td>Theoretical and A...</td><td>https://api.elsev...</td><td>119</td><td>19046</td><td>ar</td><td>Article</td><td>1</td></tr>\n",
       "<tr><td>[{true, London, U...</td><td>0</td><td>Vasilyeva T.</td><td>SCOPUS_ID:8515943...</td><td>Behavioral View o...</td><td>2-s2.0-85159434767</td><td>0</td><td>false</td><td>Book</td><td>2021-01-01</td><td>1 January 2021</td><td>NULL</td><td>NULL</td><td>NULL</td><td>NULL</td><td>71-87</td><td>Social Inequality...</td><td>https://api.elsev...</td><td>NULL</td><td>21101152010</td><td>ch</td><td>Book Chapter</td><td>2</td></tr>\n",
       "<tr><td>[{true, Chiang Ra...</td><td>369</td><td>Wijayawardene N.N.</td><td>SCOPUS_ID:8503237...</td><td>Notes for genera:...</td><td>2-s2.0-85032377652</td><td>0</td><td>false</td><td>Journal</td><td>2017-09-01</td><td>September 2017</td><td>10.1007/s13225-01...</td><td>18789129</td><td>15602745</td><td>1</td><td>1-594</td><td>Fungal Diversity</td><td>https://api.elsev...</td><td>86</td><td>18567</td><td>ar</td><td>Article</td><td>3</td></tr>\n",
       "<tr><td>[{true, Chicago, ...</td><td>62</td><td>Adsera A.</td><td>SCOPUS_ID:3364573...</td><td>An economic analy...</td><td>2-s2.0-33645737475</td><td>0</td><td>false</td><td>Journal</td><td>2006-03-01</td><td>March 2006</td><td>10.1007/s11150-00...</td><td>15737152</td><td>15695239</td><td>1</td><td>75-95</td><td>Review of Economi...</td><td>https://api.elsev...</td><td>4</td><td>144933</td><td>ar</td><td>Article</td><td>4</td></tr>\n",
       "<tr><td>[{true, Ferrara, ...</td><td>0</td><td>Yu A.C.</td><td>SCOPUS_ID:8518356...</td><td>Bibliometric Anal...</td><td>2-s2.0-85183566743</td><td>0</td><td>false</td><td>Journal</td><td>2023-01-01</td><td>2023</td><td>10.4103/meajo.mea...</td><td>09751599</td><td>09749233</td><td>1</td><td>1-5</td><td>Middle East Afric...</td><td>https://api.elsev...</td><td>30</td><td>19700201212</td><td>ar</td><td>Article</td><td>5</td></tr>\n",
       "<tr><td>[{true, Exeter, U...</td><td>0</td><td>Agius D.A.</td><td>SCOPUS_ID:8514109...</td><td>Human Interaction...</td><td>2-s2.0-85141091868</td><td>0</td><td>false</td><td>Book</td><td>2017-01-01</td><td>1 January 2017</td><td>10.1163/978900433...</td><td>NULL</td><td>NULL</td><td>NULL</td><td>1-442</td><td>Human Interaction...</td><td>https://api.elsev...</td><td>NULL</td><td>21101117983</td><td>bk</td><td>Book</td><td>6</td></tr>\n",
       "<tr><td>[{true, Wuhan, Ch...</td><td>0</td><td>Xu R.</td><td>SCOPUS_ID:8520502...</td><td>Institutional ope...</td><td>2-s2.0-85205024918</td><td>0</td><td>false</td><td>Journal</td><td>2024-12-01</td><td>December 2024</td><td>10.1016/j.econmod...</td><td>NULL</td><td>02649993</td><td>NULL</td><td>NULL</td><td>Economic Modelling</td><td>https://api.elsev...</td><td>141</td><td>28467</td><td>ar</td><td>Article</td><td>7</td></tr>\n",
       "<tr><td>[{true, Vienna, A...</td><td>25</td><td>Tausch A.</td><td>SCOPUS_ID:8495278...</td><td>The political alg...</td><td>2-s2.0-84952781328</td><td>0</td><td>false</td><td>Book</td><td>2014-10-01</td><td>October 01, 2014</td><td>NULL</td><td>NULL</td><td>NULL</td><td>NULL</td><td>1-520</td><td>The Political Alg...</td><td>https://api.elsev...</td><td>NULL</td><td>21100433982</td><td>bk</td><td>Book</td><td>8</td></tr>\n",
       "<tr><td>[{true, Varna, Bu...</td><td>4</td><td>Minkov M.</td><td>SCOPUS_ID:8513586...</td><td>Do religions acco...</td><td>2-s2.0-85135863031</td><td>0</td><td>false</td><td>Journal</td><td>2022-09-20</td><td>20 September 2022</td><td>10.1108/CCSM-09-2...</td><td>NULL</td><td>20595794</td><td>4</td><td>938-962</td><td>Cross Cultural an...</td><td>https://api.elsev...</td><td>29</td><td>21100803392</td><td>ar</td><td>Article</td><td>9</td></tr>\n",
       "<tr><td>[{true, Egham, Un...</td><td>0</td><td>Minca C.</td><td>SCOPUS_ID:8516122...</td><td>Real Tourism: Pra...</td><td>2-s2.0-85161227558</td><td>0</td><td>false</td><td>Book</td><td>2012-01-01</td><td>1 January 2012</td><td>10.4324/978020318...</td><td>NULL</td><td>NULL</td><td>NULL</td><td>1-266</td><td>Real Tourism: Pra...</td><td>https://api.elsev...</td><td>NULL</td><td>21101156398</td><td>bk</td><td>Book</td><td>10</td></tr>\n",
       "<tr><td>[{true, Beijing, ...</td><td>4</td><td>Chen G.</td><td>SCOPUS_ID:8517415...</td><td>Bibliometric Anal...</td><td>2-s2.0-85174154028</td><td>1</td><td>true</td><td>Journal</td><td>2023-10-01</td><td>October 2023</td><td>10.3390/rs15194695</td><td>20724292</td><td>NULL</td><td>19</td><td>NULL</td><td>Remote Sensing</td><td>https://api.elsev...</td><td>15</td><td>86430</td><td>ar</td><td>Article</td><td>11</td></tr>\n",
       "<tr><td>[{true, Abu Dhabi...</td><td>5</td><td>Nobanee H.</td><td>SCOPUS_ID:8518035...</td><td>Analysis of insur...</td><td>2-s2.0-85180357769</td><td>1</td><td>true</td><td>Journal</td><td>2024-05-01</td><td>1 May 2024</td><td>10.1016/j.stae.20...</td><td>27730328</td><td>NULL</td><td>2</td><td>NULL</td><td>Sustainable Techn...</td><td>https://api.elsev...</td><td>3</td><td>21101167218</td><td>re</td><td>Review</td><td>12</td></tr>\n",
       "<tr><td>[{true, Guangzhou...</td><td>99</td><td>Bruton G.</td><td>SCOPUS_ID:8510136...</td><td>Economic inequali...</td><td>2-s2.0-85101365783</td><td>0</td><td>false</td><td>Journal</td><td>2021-05-01</td><td>May 2021</td><td>10.1016/j.jbusven...</td><td>NULL</td><td>08839026</td><td>3</td><td>NULL</td><td>Journal of Busine...</td><td>https://api.elsev...</td><td>36</td><td>23860</td><td>ar</td><td>Article</td><td>13</td></tr>\n",
       "<tr><td>[{true, London, U...</td><td>0</td><td>Hamilton A.</td><td>SCOPUS_ID:8521169...</td><td>History and futur...</td><td>2-s2.0-85211691639</td><td>0</td><td>false</td><td>Book</td><td>2024-11-15</td><td>15 November 2024</td><td>10.1079/978178924...</td><td>NULL</td><td>NULL</td><td>NULL</td><td>1-417</td><td>History and Futur...</td><td>https://api.elsev...</td><td>NULL</td><td>21101263112</td><td>bk</td><td>Book</td><td>14</td></tr>\n",
       "<tr><td>[{true, Madison, ...</td><td>68</td><td>Cleary J.</td><td>SCOPUS_ID:8488898...</td><td>Formulary availab...</td><td>2-s2.0-84888987926</td><td>1</td><td>true</td><td>Journal</td><td>2013-01-01</td><td>December 2013</td><td>10.1093/annonc/md...</td><td>15698041</td><td>09237534</td><td>SUPPLEMENT11</td><td>NULL</td><td>Annals of Oncology</td><td>https://api.elsev...</td><td>24</td><td>28711</td><td>ar</td><td>Article</td><td>15</td></tr>\n",
       "<tr><td>[{true, Durham, U...</td><td>127</td><td>Koenig H.G.</td><td>SCOPUS_ID:8505438...</td><td>Religion and Ment...</td><td>2-s2.0-85054384486</td><td>0</td><td>false</td><td>Book</td><td>2018-01-01</td><td>1 January 2018</td><td>10.1016/C2016-0-0...</td><td>NULL</td><td>NULL</td><td>NULL</td><td>1-363</td><td>Religion and Ment...</td><td>https://api.elsev...</td><td>NULL</td><td>21101118173</td><td>bk</td><td>Book</td><td>16</td></tr>\n",
       "<tr><td>[{true, Beirut, L...</td><td>1</td><td>Malaeb D.</td><td>SCOPUS_ID:8516127...</td><td>The use of intrav...</td><td>2-s2.0-85161271390</td><td>0</td><td>false</td><td>Journal</td><td>2023-08-01</td><td>August 2023</td><td>10.1016/j.jstroke...</td><td>15328511</td><td>10523057</td><td>8</td><td>NULL</td><td>Journal of Stroke...</td><td>https://api.elsev...</td><td>32</td><td>23884</td><td>ar</td><td>Article</td><td>17</td></tr>\n",
       "<tr><td>[{true, Nairobi, ...</td><td>7</td><td>Kimani T.N.</td><td>SCOPUS_ID:8513471...</td><td>Infectious diseas...</td><td>2-s2.0-85134716322</td><td>1</td><td>true</td><td>Journal</td><td>2022-09-01</td><td>September 2022</td><td>10.1016/j.epidem....</td><td>18780067</td><td>17554365</td><td>NULL</td><td>NULL</td><td>Epidemics</td><td>https://api.elsev...</td><td>40</td><td>17300154924</td><td>ar</td><td>Article</td><td>18</td></tr>\n",
       "<tr><td>[{true, Beirut, L...</td><td>0</td><td>Naim R.</td><td>SCOPUS_ID:8517934...</td><td>Correction to: Bu...</td><td>2-s2.0-85179344166</td><td>1</td><td>true</td><td>Journal</td><td>2024-02-01</td><td>February 2024</td><td>10.1007/s10067-02...</td><td>14349949</td><td>07703198</td><td>2</td><td>849</td><td>Clinical Rheumato...</td><td>https://api.elsev...</td><td>43</td><td>19187</td><td>er</td><td>Erratum</td><td>19</td></tr>\n",
       "</table>\n",
       "only showing top 20 rows\n"
      ],
      "text/plain": [
       "DataFrame[affiliation: array<struct<@_fa:string,affiliation-city:string,affiliation-country:string,affilname:string>>, citedby-count: string, dc:creator: string, dc:identifier: string, dc:title: string, eid: string, openaccess: string, openaccessFlag: boolean, prism:aggregationType: string, prism:coverDate: string, prism:coverDisplayDate: string, prism:doi: string, prism:eIssn: string, prism:issn: string, prism:issueIdentifier: string, prism:pageRange: string, prism:publicationName: string, prism:url: string, prism:volume: string, source-id: string, subtype: string, subtypeDescription: string, id: bigint]"
      ]
     },
     "execution_count": 58,
     "metadata": {},
     "output_type": "execute_result"
    }
   ],
   "source": [
    "df_with_id"
   ]
  },
  {
   "cell_type": "code",
   "execution_count": 59,
   "id": "93ca653a-1610-4669-b5d2-fec65bb9f022",
   "metadata": {},
   "outputs": [
    {
     "name": "stdout",
     "output_type": "stream",
     "text": [
      "+------------------+---+\n",
      "|dc:creator        |id |\n",
      "+------------------+---+\n",
      "|Guessoum S.B.     |0  |\n",
      "|Lia V.V.          |1  |\n",
      "|Vasilyeva T.      |2  |\n",
      "|Wijayawardene N.N.|3  |\n",
      "|Adsera A.         |4  |\n",
      "|Yu A.C.           |5  |\n",
      "|Agius D.A.        |6  |\n",
      "|Xu R.             |7  |\n",
      "|Tausch A.         |8  |\n",
      "|Minkov M.         |9  |\n",
      "|Minca C.          |10 |\n",
      "|Chen G.           |11 |\n",
      "|Nobanee H.        |12 |\n",
      "|Bruton G.         |13 |\n",
      "|Hamilton A.       |14 |\n",
      "|Cleary J.         |15 |\n",
      "|Koenig H.G.       |16 |\n",
      "|Malaeb D.         |17 |\n",
      "|Kimani T.N.       |18 |\n",
      "|Naim R.           |19 |\n",
      "+------------------+---+\n",
      "only showing top 20 rows\n",
      "\n"
     ]
    }
   ],
   "source": [
    "df_Author = df_with_id.select(\"dc:creator\", \"id\")\n",
    "df_Author.show(truncate=False)"
   ]
  },
  {
   "cell_type": "code",
   "execution_count": 62,
   "id": "9ca2edf8-80b8-429e-82b9-6e2128a97410",
   "metadata": {},
   "outputs": [
    {
     "data": {
      "text/html": [
       "<table border='1'>\n",
       "<tr><th>citedby-count</th><th>dc:identifier</th><th>dc:title</th><th>eid</th><th>openaccess</th><th>openaccessFlag</th><th>prism:aggregationType</th><th>prism:coverDate</th><th>prism:coverDisplayDate</th><th>prism:doi</th><th>prism:eIssn</th><th>prism:issn</th><th>prism:issueIdentifier</th><th>prism:pageRange</th><th>prism:publicationName</th><th>prism:url</th><th>prism:volume</th><th>source-id</th><th>subtype</th><th>subtypeDescription</th><th>id</th></tr>\n",
       "<tr><td>2</td><td>SCOPUS_ID:8510563...</td><td>Transcultural and...</td><td>2-s2.0-85105639053</td><td>0</td><td>false</td><td>Journal</td><td>2021-12-01</td><td>December 2021</td><td>10.1177/136346152...</td><td>14617471</td><td>13634615</td><td>6</td><td>804-816</td><td>Transcultural Psy...</td><td>https://api.elsev...</td><td>58</td><td>19928</td><td>ar</td><td>Article</td><td>0</td></tr>\n",
       "<tr><td>43</td><td>SCOPUS_ID:7034967...</td><td>Microsatellite va...</td><td>2-s2.0-70349675763</td><td>0</td><td>false</td><td>Journal</td><td>2009-10-01</td><td>October 2009</td><td>10.1007/s00122-00...</td><td>NULL</td><td>00405752</td><td>6</td><td>1053-1067</td><td>Theoretical and A...</td><td>https://api.elsev...</td><td>119</td><td>19046</td><td>ar</td><td>Article</td><td>1</td></tr>\n",
       "<tr><td>0</td><td>SCOPUS_ID:8515943...</td><td>Behavioral View o...</td><td>2-s2.0-85159434767</td><td>0</td><td>false</td><td>Book</td><td>2021-01-01</td><td>1 January 2021</td><td>NULL</td><td>NULL</td><td>NULL</td><td>NULL</td><td>71-87</td><td>Social Inequality...</td><td>https://api.elsev...</td><td>NULL</td><td>21101152010</td><td>ch</td><td>Book Chapter</td><td>2</td></tr>\n",
       "<tr><td>369</td><td>SCOPUS_ID:8503237...</td><td>Notes for genera:...</td><td>2-s2.0-85032377652</td><td>0</td><td>false</td><td>Journal</td><td>2017-09-01</td><td>September 2017</td><td>10.1007/s13225-01...</td><td>18789129</td><td>15602745</td><td>1</td><td>1-594</td><td>Fungal Diversity</td><td>https://api.elsev...</td><td>86</td><td>18567</td><td>ar</td><td>Article</td><td>3</td></tr>\n",
       "<tr><td>62</td><td>SCOPUS_ID:3364573...</td><td>An economic analy...</td><td>2-s2.0-33645737475</td><td>0</td><td>false</td><td>Journal</td><td>2006-03-01</td><td>March 2006</td><td>10.1007/s11150-00...</td><td>15737152</td><td>15695239</td><td>1</td><td>75-95</td><td>Review of Economi...</td><td>https://api.elsev...</td><td>4</td><td>144933</td><td>ar</td><td>Article</td><td>4</td></tr>\n",
       "<tr><td>0</td><td>SCOPUS_ID:8518356...</td><td>Bibliometric Anal...</td><td>2-s2.0-85183566743</td><td>0</td><td>false</td><td>Journal</td><td>2023-01-01</td><td>2023</td><td>10.4103/meajo.mea...</td><td>09751599</td><td>09749233</td><td>1</td><td>1-5</td><td>Middle East Afric...</td><td>https://api.elsev...</td><td>30</td><td>19700201212</td><td>ar</td><td>Article</td><td>5</td></tr>\n",
       "<tr><td>0</td><td>SCOPUS_ID:8514109...</td><td>Human Interaction...</td><td>2-s2.0-85141091868</td><td>0</td><td>false</td><td>Book</td><td>2017-01-01</td><td>1 January 2017</td><td>10.1163/978900433...</td><td>NULL</td><td>NULL</td><td>NULL</td><td>1-442</td><td>Human Interaction...</td><td>https://api.elsev...</td><td>NULL</td><td>21101117983</td><td>bk</td><td>Book</td><td>6</td></tr>\n",
       "<tr><td>0</td><td>SCOPUS_ID:8520502...</td><td>Institutional ope...</td><td>2-s2.0-85205024918</td><td>0</td><td>false</td><td>Journal</td><td>2024-12-01</td><td>December 2024</td><td>10.1016/j.econmod...</td><td>NULL</td><td>02649993</td><td>NULL</td><td>NULL</td><td>Economic Modelling</td><td>https://api.elsev...</td><td>141</td><td>28467</td><td>ar</td><td>Article</td><td>7</td></tr>\n",
       "<tr><td>25</td><td>SCOPUS_ID:8495278...</td><td>The political alg...</td><td>2-s2.0-84952781328</td><td>0</td><td>false</td><td>Book</td><td>2014-10-01</td><td>October 01, 2014</td><td>NULL</td><td>NULL</td><td>NULL</td><td>NULL</td><td>1-520</td><td>The Political Alg...</td><td>https://api.elsev...</td><td>NULL</td><td>21100433982</td><td>bk</td><td>Book</td><td>8</td></tr>\n",
       "<tr><td>4</td><td>SCOPUS_ID:8513586...</td><td>Do religions acco...</td><td>2-s2.0-85135863031</td><td>0</td><td>false</td><td>Journal</td><td>2022-09-20</td><td>20 September 2022</td><td>10.1108/CCSM-09-2...</td><td>NULL</td><td>20595794</td><td>4</td><td>938-962</td><td>Cross Cultural an...</td><td>https://api.elsev...</td><td>29</td><td>21100803392</td><td>ar</td><td>Article</td><td>9</td></tr>\n",
       "<tr><td>0</td><td>SCOPUS_ID:8516122...</td><td>Real Tourism: Pra...</td><td>2-s2.0-85161227558</td><td>0</td><td>false</td><td>Book</td><td>2012-01-01</td><td>1 January 2012</td><td>10.4324/978020318...</td><td>NULL</td><td>NULL</td><td>NULL</td><td>1-266</td><td>Real Tourism: Pra...</td><td>https://api.elsev...</td><td>NULL</td><td>21101156398</td><td>bk</td><td>Book</td><td>10</td></tr>\n",
       "<tr><td>4</td><td>SCOPUS_ID:8517415...</td><td>Bibliometric Anal...</td><td>2-s2.0-85174154028</td><td>1</td><td>true</td><td>Journal</td><td>2023-10-01</td><td>October 2023</td><td>10.3390/rs15194695</td><td>20724292</td><td>NULL</td><td>19</td><td>NULL</td><td>Remote Sensing</td><td>https://api.elsev...</td><td>15</td><td>86430</td><td>ar</td><td>Article</td><td>11</td></tr>\n",
       "<tr><td>5</td><td>SCOPUS_ID:8518035...</td><td>Analysis of insur...</td><td>2-s2.0-85180357769</td><td>1</td><td>true</td><td>Journal</td><td>2024-05-01</td><td>1 May 2024</td><td>10.1016/j.stae.20...</td><td>27730328</td><td>NULL</td><td>2</td><td>NULL</td><td>Sustainable Techn...</td><td>https://api.elsev...</td><td>3</td><td>21101167218</td><td>re</td><td>Review</td><td>12</td></tr>\n",
       "<tr><td>99</td><td>SCOPUS_ID:8510136...</td><td>Economic inequali...</td><td>2-s2.0-85101365783</td><td>0</td><td>false</td><td>Journal</td><td>2021-05-01</td><td>May 2021</td><td>10.1016/j.jbusven...</td><td>NULL</td><td>08839026</td><td>3</td><td>NULL</td><td>Journal of Busine...</td><td>https://api.elsev...</td><td>36</td><td>23860</td><td>ar</td><td>Article</td><td>13</td></tr>\n",
       "<tr><td>0</td><td>SCOPUS_ID:8521169...</td><td>History and futur...</td><td>2-s2.0-85211691639</td><td>0</td><td>false</td><td>Book</td><td>2024-11-15</td><td>15 November 2024</td><td>10.1079/978178924...</td><td>NULL</td><td>NULL</td><td>NULL</td><td>1-417</td><td>History and Futur...</td><td>https://api.elsev...</td><td>NULL</td><td>21101263112</td><td>bk</td><td>Book</td><td>14</td></tr>\n",
       "<tr><td>68</td><td>SCOPUS_ID:8488898...</td><td>Formulary availab...</td><td>2-s2.0-84888987926</td><td>1</td><td>true</td><td>Journal</td><td>2013-01-01</td><td>December 2013</td><td>10.1093/annonc/md...</td><td>15698041</td><td>09237534</td><td>SUPPLEMENT11</td><td>NULL</td><td>Annals of Oncology</td><td>https://api.elsev...</td><td>24</td><td>28711</td><td>ar</td><td>Article</td><td>15</td></tr>\n",
       "<tr><td>127</td><td>SCOPUS_ID:8505438...</td><td>Religion and Ment...</td><td>2-s2.0-85054384486</td><td>0</td><td>false</td><td>Book</td><td>2018-01-01</td><td>1 January 2018</td><td>10.1016/C2016-0-0...</td><td>NULL</td><td>NULL</td><td>NULL</td><td>1-363</td><td>Religion and Ment...</td><td>https://api.elsev...</td><td>NULL</td><td>21101118173</td><td>bk</td><td>Book</td><td>16</td></tr>\n",
       "<tr><td>1</td><td>SCOPUS_ID:8516127...</td><td>The use of intrav...</td><td>2-s2.0-85161271390</td><td>0</td><td>false</td><td>Journal</td><td>2023-08-01</td><td>August 2023</td><td>10.1016/j.jstroke...</td><td>15328511</td><td>10523057</td><td>8</td><td>NULL</td><td>Journal of Stroke...</td><td>https://api.elsev...</td><td>32</td><td>23884</td><td>ar</td><td>Article</td><td>17</td></tr>\n",
       "<tr><td>7</td><td>SCOPUS_ID:8513471...</td><td>Infectious diseas...</td><td>2-s2.0-85134716322</td><td>1</td><td>true</td><td>Journal</td><td>2022-09-01</td><td>September 2022</td><td>10.1016/j.epidem....</td><td>18780067</td><td>17554365</td><td>NULL</td><td>NULL</td><td>Epidemics</td><td>https://api.elsev...</td><td>40</td><td>17300154924</td><td>ar</td><td>Article</td><td>18</td></tr>\n",
       "<tr><td>0</td><td>SCOPUS_ID:8517934...</td><td>Correction to: Bu...</td><td>2-s2.0-85179344166</td><td>1</td><td>true</td><td>Journal</td><td>2024-02-01</td><td>February 2024</td><td>10.1007/s10067-02...</td><td>14349949</td><td>07703198</td><td>2</td><td>849</td><td>Clinical Rheumato...</td><td>https://api.elsev...</td><td>43</td><td>19187</td><td>er</td><td>Erratum</td><td>19</td></tr>\n",
       "</table>\n",
       "only showing top 20 rows\n"
      ],
      "text/plain": [
       "+-------------+--------------------+--------------------+------------------+----------+--------------+---------------------+---------------+----------------------+--------------------+-----------+----------+---------------------+---------------+---------------------+--------------------+------------+-----------+-------+------------------+---+\n",
       "|citedby-count|       dc:identifier|            dc:title|               eid|openaccess|openaccessFlag|prism:aggregationType|prism:coverDate|prism:coverDisplayDate|           prism:doi|prism:eIssn|prism:issn|prism:issueIdentifier|prism:pageRange|prism:publicationName|           prism:url|prism:volume|  source-id|subtype|subtypeDescription| id|\n",
       "+-------------+--------------------+--------------------+------------------+----------+--------------+---------------------+---------------+----------------------+--------------------+-----------+----------+---------------------+---------------+---------------------+--------------------+------------+-----------+-------+------------------+---+\n",
       "|            2|SCOPUS_ID:8510563...|Transcultural and...|2-s2.0-85105639053|         0|         false|              Journal|     2021-12-01|         December 2021|10.1177/136346152...|   14617471|  13634615|                    6|        804-816| Transcultural Psy...|https://api.elsev...|          58|      19928|     ar|           Article|  0|\n",
       "|           43|SCOPUS_ID:7034967...|Microsatellite va...|2-s2.0-70349675763|         0|         false|              Journal|     2009-10-01|          October 2009|10.1007/s00122-00...|       NULL|  00405752|                    6|      1053-1067| Theoretical and A...|https://api.elsev...|         119|      19046|     ar|           Article|  1|\n",
       "|            0|SCOPUS_ID:8515943...|Behavioral View o...|2-s2.0-85159434767|         0|         false|                 Book|     2021-01-01|        1 January 2021|                NULL|       NULL|      NULL|                 NULL|          71-87| Social Inequality...|https://api.elsev...|        NULL|21101152010|     ch|      Book Chapter|  2|\n",
       "|          369|SCOPUS_ID:8503237...|Notes for genera:...|2-s2.0-85032377652|         0|         false|              Journal|     2017-09-01|        September 2017|10.1007/s13225-01...|   18789129|  15602745|                    1|          1-594|     Fungal Diversity|https://api.elsev...|          86|      18567|     ar|           Article|  3|\n",
       "|           62|SCOPUS_ID:3364573...|An economic analy...|2-s2.0-33645737475|         0|         false|              Journal|     2006-03-01|            March 2006|10.1007/s11150-00...|   15737152|  15695239|                    1|          75-95| Review of Economi...|https://api.elsev...|           4|     144933|     ar|           Article|  4|\n",
       "|            0|SCOPUS_ID:8518356...|Bibliometric Anal...|2-s2.0-85183566743|         0|         false|              Journal|     2023-01-01|                  2023|10.4103/meajo.mea...|   09751599|  09749233|                    1|            1-5| Middle East Afric...|https://api.elsev...|          30|19700201212|     ar|           Article|  5|\n",
       "|            0|SCOPUS_ID:8514109...|Human Interaction...|2-s2.0-85141091868|         0|         false|                 Book|     2017-01-01|        1 January 2017|10.1163/978900433...|       NULL|      NULL|                 NULL|          1-442| Human Interaction...|https://api.elsev...|        NULL|21101117983|     bk|              Book|  6|\n",
       "|            0|SCOPUS_ID:8520502...|Institutional ope...|2-s2.0-85205024918|         0|         false|              Journal|     2024-12-01|         December 2024|10.1016/j.econmod...|       NULL|  02649993|                 NULL|           NULL|   Economic Modelling|https://api.elsev...|         141|      28467|     ar|           Article|  7|\n",
       "|           25|SCOPUS_ID:8495278...|The political alg...|2-s2.0-84952781328|         0|         false|                 Book|     2014-10-01|      October 01, 2014|                NULL|       NULL|      NULL|                 NULL|          1-520| The Political Alg...|https://api.elsev...|        NULL|21100433982|     bk|              Book|  8|\n",
       "|            4|SCOPUS_ID:8513586...|Do religions acco...|2-s2.0-85135863031|         0|         false|              Journal|     2022-09-20|     20 September 2022|10.1108/CCSM-09-2...|       NULL|  20595794|                    4|        938-962| Cross Cultural an...|https://api.elsev...|          29|21100803392|     ar|           Article|  9|\n",
       "|            0|SCOPUS_ID:8516122...|Real Tourism: Pra...|2-s2.0-85161227558|         0|         false|                 Book|     2012-01-01|        1 January 2012|10.4324/978020318...|       NULL|      NULL|                 NULL|          1-266| Real Tourism: Pra...|https://api.elsev...|        NULL|21101156398|     bk|              Book| 10|\n",
       "|            4|SCOPUS_ID:8517415...|Bibliometric Anal...|2-s2.0-85174154028|         1|          true|              Journal|     2023-10-01|          October 2023|  10.3390/rs15194695|   20724292|      NULL|                   19|           NULL|       Remote Sensing|https://api.elsev...|          15|      86430|     ar|           Article| 11|\n",
       "|            5|SCOPUS_ID:8518035...|Analysis of insur...|2-s2.0-85180357769|         1|          true|              Journal|     2024-05-01|            1 May 2024|10.1016/j.stae.20...|   27730328|      NULL|                    2|           NULL| Sustainable Techn...|https://api.elsev...|           3|21101167218|     re|            Review| 12|\n",
       "|           99|SCOPUS_ID:8510136...|Economic inequali...|2-s2.0-85101365783|         0|         false|              Journal|     2021-05-01|              May 2021|10.1016/j.jbusven...|       NULL|  08839026|                    3|           NULL| Journal of Busine...|https://api.elsev...|          36|      23860|     ar|           Article| 13|\n",
       "|            0|SCOPUS_ID:8521169...|History and futur...|2-s2.0-85211691639|         0|         false|                 Book|     2024-11-15|      15 November 2024|10.1079/978178924...|       NULL|      NULL|                 NULL|          1-417| History and Futur...|https://api.elsev...|        NULL|21101263112|     bk|              Book| 14|\n",
       "|           68|SCOPUS_ID:8488898...|Formulary availab...|2-s2.0-84888987926|         1|          true|              Journal|     2013-01-01|         December 2013|10.1093/annonc/md...|   15698041|  09237534|         SUPPLEMENT11|           NULL|   Annals of Oncology|https://api.elsev...|          24|      28711|     ar|           Article| 15|\n",
       "|          127|SCOPUS_ID:8505438...|Religion and Ment...|2-s2.0-85054384486|         0|         false|                 Book|     2018-01-01|        1 January 2018|10.1016/C2016-0-0...|       NULL|      NULL|                 NULL|          1-363| Religion and Ment...|https://api.elsev...|        NULL|21101118173|     bk|              Book| 16|\n",
       "|            1|SCOPUS_ID:8516127...|The use of intrav...|2-s2.0-85161271390|         0|         false|              Journal|     2023-08-01|           August 2023|10.1016/j.jstroke...|   15328511|  10523057|                    8|           NULL| Journal of Stroke...|https://api.elsev...|          32|      23884|     ar|           Article| 17|\n",
       "|            7|SCOPUS_ID:8513471...|Infectious diseas...|2-s2.0-85134716322|         1|          true|              Journal|     2022-09-01|        September 2022|10.1016/j.epidem....|   18780067|  17554365|                 NULL|           NULL|            Epidemics|https://api.elsev...|          40|17300154924|     ar|           Article| 18|\n",
       "|            0|SCOPUS_ID:8517934...|Correction to: Bu...|2-s2.0-85179344166|         1|          true|              Journal|     2024-02-01|         February 2024|10.1007/s10067-02...|   14349949|  07703198|                    2|            849| Clinical Rheumato...|https://api.elsev...|          43|      19187|     er|           Erratum| 19|\n",
       "+-------------+--------------------+--------------------+------------------+----------+--------------+---------------------+---------------+----------------------+--------------------+-----------+----------+---------------------+---------------+---------------------+--------------------+------------+-----------+-------+------------------+---+\n",
       "only showing top 20 rows"
      ]
     },
     "execution_count": 62,
     "metadata": {},
     "output_type": "execute_result"
    }
   ],
   "source": [
    "df_journal = df_with_id.select(\n",
    "    \"citedby-count\", \n",
    "    \"dc:identifier\", \n",
    "    \"dc:title\", \n",
    "    \"eid\", \n",
    "    \"openaccess\", \n",
    "    \"openaccessFlag\", \n",
    "    \"prism:aggregationType\", \n",
    "    \"prism:coverDate\", \n",
    "    \"prism:coverDisplayDate\", \n",
    "    \"prism:doi\", \n",
    "    \"prism:eIssn\", \n",
    "    \"prism:issn\", \n",
    "    \"prism:issueIdentifier\", \n",
    "    \"prism:pageRange\", \n",
    "    \"prism:publicationName\", \n",
    "    \"prism:url\", \n",
    "    \"prism:volume\", \n",
    "    \"source-id\", \n",
    "    \"subtype\", \n",
    "    \"subtypeDescription\", \n",
    "    \"id\"\n",
    ")\n",
    "\n",
    "df_journal\n"
   ]
  },
  {
   "cell_type": "code",
   "execution_count": 65,
   "id": "9fb4ada5-fdec-4859-ac3c-033d40d34042",
   "metadata": {},
   "outputs": [
    {
     "data": {
      "text/html": [
       "<table border='1'>\n",
       "<tr><th>citedby-count</th><th>dc:creator</th><th>dc:identifier</th><th>dc:title</th><th>eid</th><th>openaccess</th><th>openaccessFlag</th><th>prism:aggregationType</th><th>prism:coverDate</th><th>prism:coverDisplayDate</th><th>prism:doi</th><th>prism:eIssn</th><th>prism:issn</th><th>prism:issueIdentifier</th><th>prism:pageRange</th><th>prism:publicationName</th><th>prism:url</th><th>prism:volume</th><th>source-id</th><th>subtype</th><th>subtypeDescription</th><th>id</th></tr>\n",
       "<tr><td>2</td><td>Guessoum S.B.</td><td>SCOPUS_ID:8510563...</td><td>Transcultural and...</td><td>2-s2.0-85105639053</td><td>0</td><td>false</td><td>Journal</td><td>2021-12-01</td><td>December 2021</td><td>10.1177/136346152...</td><td>14617471</td><td>13634615</td><td>6</td><td>804-816</td><td>Transcultural Psy...</td><td>https://api.elsev...</td><td>58</td><td>19928</td><td>ar</td><td>Article</td><td>0</td></tr>\n",
       "<tr><td>43</td><td>Lia V.V.</td><td>SCOPUS_ID:7034967...</td><td>Microsatellite va...</td><td>2-s2.0-70349675763</td><td>0</td><td>false</td><td>Journal</td><td>2009-10-01</td><td>October 2009</td><td>10.1007/s00122-00...</td><td>NULL</td><td>00405752</td><td>6</td><td>1053-1067</td><td>Theoretical and A...</td><td>https://api.elsev...</td><td>119</td><td>19046</td><td>ar</td><td>Article</td><td>1</td></tr>\n",
       "<tr><td>0</td><td>Vasilyeva T.</td><td>SCOPUS_ID:8515943...</td><td>Behavioral View o...</td><td>2-s2.0-85159434767</td><td>0</td><td>false</td><td>Book</td><td>2021-01-01</td><td>1 January 2021</td><td>NULL</td><td>NULL</td><td>NULL</td><td>NULL</td><td>71-87</td><td>Social Inequality...</td><td>https://api.elsev...</td><td>NULL</td><td>21101152010</td><td>ch</td><td>Book Chapter</td><td>2</td></tr>\n",
       "<tr><td>369</td><td>Wijayawardene N.N.</td><td>SCOPUS_ID:8503237...</td><td>Notes for genera:...</td><td>2-s2.0-85032377652</td><td>0</td><td>false</td><td>Journal</td><td>2017-09-01</td><td>September 2017</td><td>10.1007/s13225-01...</td><td>18789129</td><td>15602745</td><td>1</td><td>1-594</td><td>Fungal Diversity</td><td>https://api.elsev...</td><td>86</td><td>18567</td><td>ar</td><td>Article</td><td>3</td></tr>\n",
       "<tr><td>62</td><td>Adsera A.</td><td>SCOPUS_ID:3364573...</td><td>An economic analy...</td><td>2-s2.0-33645737475</td><td>0</td><td>false</td><td>Journal</td><td>2006-03-01</td><td>March 2006</td><td>10.1007/s11150-00...</td><td>15737152</td><td>15695239</td><td>1</td><td>75-95</td><td>Review of Economi...</td><td>https://api.elsev...</td><td>4</td><td>144933</td><td>ar</td><td>Article</td><td>4</td></tr>\n",
       "<tr><td>0</td><td>Yu A.C.</td><td>SCOPUS_ID:8518356...</td><td>Bibliometric Anal...</td><td>2-s2.0-85183566743</td><td>0</td><td>false</td><td>Journal</td><td>2023-01-01</td><td>2023</td><td>10.4103/meajo.mea...</td><td>09751599</td><td>09749233</td><td>1</td><td>1-5</td><td>Middle East Afric...</td><td>https://api.elsev...</td><td>30</td><td>19700201212</td><td>ar</td><td>Article</td><td>5</td></tr>\n",
       "<tr><td>0</td><td>Agius D.A.</td><td>SCOPUS_ID:8514109...</td><td>Human Interaction...</td><td>2-s2.0-85141091868</td><td>0</td><td>false</td><td>Book</td><td>2017-01-01</td><td>1 January 2017</td><td>10.1163/978900433...</td><td>NULL</td><td>NULL</td><td>NULL</td><td>1-442</td><td>Human Interaction...</td><td>https://api.elsev...</td><td>NULL</td><td>21101117983</td><td>bk</td><td>Book</td><td>6</td></tr>\n",
       "<tr><td>0</td><td>Xu R.</td><td>SCOPUS_ID:8520502...</td><td>Institutional ope...</td><td>2-s2.0-85205024918</td><td>0</td><td>false</td><td>Journal</td><td>2024-12-01</td><td>December 2024</td><td>10.1016/j.econmod...</td><td>NULL</td><td>02649993</td><td>NULL</td><td>NULL</td><td>Economic Modelling</td><td>https://api.elsev...</td><td>141</td><td>28467</td><td>ar</td><td>Article</td><td>7</td></tr>\n",
       "<tr><td>25</td><td>Tausch A.</td><td>SCOPUS_ID:8495278...</td><td>The political alg...</td><td>2-s2.0-84952781328</td><td>0</td><td>false</td><td>Book</td><td>2014-10-01</td><td>October 01, 2014</td><td>NULL</td><td>NULL</td><td>NULL</td><td>NULL</td><td>1-520</td><td>The Political Alg...</td><td>https://api.elsev...</td><td>NULL</td><td>21100433982</td><td>bk</td><td>Book</td><td>8</td></tr>\n",
       "<tr><td>4</td><td>Minkov M.</td><td>SCOPUS_ID:8513586...</td><td>Do religions acco...</td><td>2-s2.0-85135863031</td><td>0</td><td>false</td><td>Journal</td><td>2022-09-20</td><td>20 September 2022</td><td>10.1108/CCSM-09-2...</td><td>NULL</td><td>20595794</td><td>4</td><td>938-962</td><td>Cross Cultural an...</td><td>https://api.elsev...</td><td>29</td><td>21100803392</td><td>ar</td><td>Article</td><td>9</td></tr>\n",
       "<tr><td>0</td><td>Minca C.</td><td>SCOPUS_ID:8516122...</td><td>Real Tourism: Pra...</td><td>2-s2.0-85161227558</td><td>0</td><td>false</td><td>Book</td><td>2012-01-01</td><td>1 January 2012</td><td>10.4324/978020318...</td><td>NULL</td><td>NULL</td><td>NULL</td><td>1-266</td><td>Real Tourism: Pra...</td><td>https://api.elsev...</td><td>NULL</td><td>21101156398</td><td>bk</td><td>Book</td><td>10</td></tr>\n",
       "<tr><td>4</td><td>Chen G.</td><td>SCOPUS_ID:8517415...</td><td>Bibliometric Anal...</td><td>2-s2.0-85174154028</td><td>1</td><td>true</td><td>Journal</td><td>2023-10-01</td><td>October 2023</td><td>10.3390/rs15194695</td><td>20724292</td><td>NULL</td><td>19</td><td>NULL</td><td>Remote Sensing</td><td>https://api.elsev...</td><td>15</td><td>86430</td><td>ar</td><td>Article</td><td>11</td></tr>\n",
       "<tr><td>5</td><td>Nobanee H.</td><td>SCOPUS_ID:8518035...</td><td>Analysis of insur...</td><td>2-s2.0-85180357769</td><td>1</td><td>true</td><td>Journal</td><td>2024-05-01</td><td>1 May 2024</td><td>10.1016/j.stae.20...</td><td>27730328</td><td>NULL</td><td>2</td><td>NULL</td><td>Sustainable Techn...</td><td>https://api.elsev...</td><td>3</td><td>21101167218</td><td>re</td><td>Review</td><td>12</td></tr>\n",
       "<tr><td>99</td><td>Bruton G.</td><td>SCOPUS_ID:8510136...</td><td>Economic inequali...</td><td>2-s2.0-85101365783</td><td>0</td><td>false</td><td>Journal</td><td>2021-05-01</td><td>May 2021</td><td>10.1016/j.jbusven...</td><td>NULL</td><td>08839026</td><td>3</td><td>NULL</td><td>Journal of Busine...</td><td>https://api.elsev...</td><td>36</td><td>23860</td><td>ar</td><td>Article</td><td>13</td></tr>\n",
       "<tr><td>0</td><td>Hamilton A.</td><td>SCOPUS_ID:8521169...</td><td>History and futur...</td><td>2-s2.0-85211691639</td><td>0</td><td>false</td><td>Book</td><td>2024-11-15</td><td>15 November 2024</td><td>10.1079/978178924...</td><td>NULL</td><td>NULL</td><td>NULL</td><td>1-417</td><td>History and Futur...</td><td>https://api.elsev...</td><td>NULL</td><td>21101263112</td><td>bk</td><td>Book</td><td>14</td></tr>\n",
       "<tr><td>68</td><td>Cleary J.</td><td>SCOPUS_ID:8488898...</td><td>Formulary availab...</td><td>2-s2.0-84888987926</td><td>1</td><td>true</td><td>Journal</td><td>2013-01-01</td><td>December 2013</td><td>10.1093/annonc/md...</td><td>15698041</td><td>09237534</td><td>SUPPLEMENT11</td><td>NULL</td><td>Annals of Oncology</td><td>https://api.elsev...</td><td>24</td><td>28711</td><td>ar</td><td>Article</td><td>15</td></tr>\n",
       "<tr><td>127</td><td>Koenig H.G.</td><td>SCOPUS_ID:8505438...</td><td>Religion and Ment...</td><td>2-s2.0-85054384486</td><td>0</td><td>false</td><td>Book</td><td>2018-01-01</td><td>1 January 2018</td><td>10.1016/C2016-0-0...</td><td>NULL</td><td>NULL</td><td>NULL</td><td>1-363</td><td>Religion and Ment...</td><td>https://api.elsev...</td><td>NULL</td><td>21101118173</td><td>bk</td><td>Book</td><td>16</td></tr>\n",
       "<tr><td>1</td><td>Malaeb D.</td><td>SCOPUS_ID:8516127...</td><td>The use of intrav...</td><td>2-s2.0-85161271390</td><td>0</td><td>false</td><td>Journal</td><td>2023-08-01</td><td>August 2023</td><td>10.1016/j.jstroke...</td><td>15328511</td><td>10523057</td><td>8</td><td>NULL</td><td>Journal of Stroke...</td><td>https://api.elsev...</td><td>32</td><td>23884</td><td>ar</td><td>Article</td><td>17</td></tr>\n",
       "<tr><td>7</td><td>Kimani T.N.</td><td>SCOPUS_ID:8513471...</td><td>Infectious diseas...</td><td>2-s2.0-85134716322</td><td>1</td><td>true</td><td>Journal</td><td>2022-09-01</td><td>September 2022</td><td>10.1016/j.epidem....</td><td>18780067</td><td>17554365</td><td>NULL</td><td>NULL</td><td>Epidemics</td><td>https://api.elsev...</td><td>40</td><td>17300154924</td><td>ar</td><td>Article</td><td>18</td></tr>\n",
       "<tr><td>0</td><td>Naim R.</td><td>SCOPUS_ID:8517934...</td><td>Correction to: Bu...</td><td>2-s2.0-85179344166</td><td>1</td><td>true</td><td>Journal</td><td>2024-02-01</td><td>February 2024</td><td>10.1007/s10067-02...</td><td>14349949</td><td>07703198</td><td>2</td><td>849</td><td>Clinical Rheumato...</td><td>https://api.elsev...</td><td>43</td><td>19187</td><td>er</td><td>Erratum</td><td>19</td></tr>\n",
       "</table>\n",
       "only showing top 20 rows\n"
      ],
      "text/plain": [
       "+-------------+------------------+--------------------+--------------------+------------------+----------+--------------+---------------------+---------------+----------------------+--------------------+-----------+----------+---------------------+---------------+---------------------+--------------------+------------+-----------+-------+------------------+---+\n",
       "|citedby-count|        dc:creator|       dc:identifier|            dc:title|               eid|openaccess|openaccessFlag|prism:aggregationType|prism:coverDate|prism:coverDisplayDate|           prism:doi|prism:eIssn|prism:issn|prism:issueIdentifier|prism:pageRange|prism:publicationName|           prism:url|prism:volume|  source-id|subtype|subtypeDescription| id|\n",
       "+-------------+------------------+--------------------+--------------------+------------------+----------+--------------+---------------------+---------------+----------------------+--------------------+-----------+----------+---------------------+---------------+---------------------+--------------------+------------+-----------+-------+------------------+---+\n",
       "|            2|     Guessoum S.B.|SCOPUS_ID:8510563...|Transcultural and...|2-s2.0-85105639053|         0|         false|              Journal|     2021-12-01|         December 2021|10.1177/136346152...|   14617471|  13634615|                    6|        804-816| Transcultural Psy...|https://api.elsev...|          58|      19928|     ar|           Article|  0|\n",
       "|           43|          Lia V.V.|SCOPUS_ID:7034967...|Microsatellite va...|2-s2.0-70349675763|         0|         false|              Journal|     2009-10-01|          October 2009|10.1007/s00122-00...|       NULL|  00405752|                    6|      1053-1067| Theoretical and A...|https://api.elsev...|         119|      19046|     ar|           Article|  1|\n",
       "|            0|      Vasilyeva T.|SCOPUS_ID:8515943...|Behavioral View o...|2-s2.0-85159434767|         0|         false|                 Book|     2021-01-01|        1 January 2021|                NULL|       NULL|      NULL|                 NULL|          71-87| Social Inequality...|https://api.elsev...|        NULL|21101152010|     ch|      Book Chapter|  2|\n",
       "|          369|Wijayawardene N.N.|SCOPUS_ID:8503237...|Notes for genera:...|2-s2.0-85032377652|         0|         false|              Journal|     2017-09-01|        September 2017|10.1007/s13225-01...|   18789129|  15602745|                    1|          1-594|     Fungal Diversity|https://api.elsev...|          86|      18567|     ar|           Article|  3|\n",
       "|           62|         Adsera A.|SCOPUS_ID:3364573...|An economic analy...|2-s2.0-33645737475|         0|         false|              Journal|     2006-03-01|            March 2006|10.1007/s11150-00...|   15737152|  15695239|                    1|          75-95| Review of Economi...|https://api.elsev...|           4|     144933|     ar|           Article|  4|\n",
       "|            0|           Yu A.C.|SCOPUS_ID:8518356...|Bibliometric Anal...|2-s2.0-85183566743|         0|         false|              Journal|     2023-01-01|                  2023|10.4103/meajo.mea...|   09751599|  09749233|                    1|            1-5| Middle East Afric...|https://api.elsev...|          30|19700201212|     ar|           Article|  5|\n",
       "|            0|        Agius D.A.|SCOPUS_ID:8514109...|Human Interaction...|2-s2.0-85141091868|         0|         false|                 Book|     2017-01-01|        1 January 2017|10.1163/978900433...|       NULL|      NULL|                 NULL|          1-442| Human Interaction...|https://api.elsev...|        NULL|21101117983|     bk|              Book|  6|\n",
       "|            0|             Xu R.|SCOPUS_ID:8520502...|Institutional ope...|2-s2.0-85205024918|         0|         false|              Journal|     2024-12-01|         December 2024|10.1016/j.econmod...|       NULL|  02649993|                 NULL|           NULL|   Economic Modelling|https://api.elsev...|         141|      28467|     ar|           Article|  7|\n",
       "|           25|         Tausch A.|SCOPUS_ID:8495278...|The political alg...|2-s2.0-84952781328|         0|         false|                 Book|     2014-10-01|      October 01, 2014|                NULL|       NULL|      NULL|                 NULL|          1-520| The Political Alg...|https://api.elsev...|        NULL|21100433982|     bk|              Book|  8|\n",
       "|            4|         Minkov M.|SCOPUS_ID:8513586...|Do religions acco...|2-s2.0-85135863031|         0|         false|              Journal|     2022-09-20|     20 September 2022|10.1108/CCSM-09-2...|       NULL|  20595794|                    4|        938-962| Cross Cultural an...|https://api.elsev...|          29|21100803392|     ar|           Article|  9|\n",
       "|            0|          Minca C.|SCOPUS_ID:8516122...|Real Tourism: Pra...|2-s2.0-85161227558|         0|         false|                 Book|     2012-01-01|        1 January 2012|10.4324/978020318...|       NULL|      NULL|                 NULL|          1-266| Real Tourism: Pra...|https://api.elsev...|        NULL|21101156398|     bk|              Book| 10|\n",
       "|            4|           Chen G.|SCOPUS_ID:8517415...|Bibliometric Anal...|2-s2.0-85174154028|         1|          true|              Journal|     2023-10-01|          October 2023|  10.3390/rs15194695|   20724292|      NULL|                   19|           NULL|       Remote Sensing|https://api.elsev...|          15|      86430|     ar|           Article| 11|\n",
       "|            5|        Nobanee H.|SCOPUS_ID:8518035...|Analysis of insur...|2-s2.0-85180357769|         1|          true|              Journal|     2024-05-01|            1 May 2024|10.1016/j.stae.20...|   27730328|      NULL|                    2|           NULL| Sustainable Techn...|https://api.elsev...|           3|21101167218|     re|            Review| 12|\n",
       "|           99|         Bruton G.|SCOPUS_ID:8510136...|Economic inequali...|2-s2.0-85101365783|         0|         false|              Journal|     2021-05-01|              May 2021|10.1016/j.jbusven...|       NULL|  08839026|                    3|           NULL| Journal of Busine...|https://api.elsev...|          36|      23860|     ar|           Article| 13|\n",
       "|            0|       Hamilton A.|SCOPUS_ID:8521169...|History and futur...|2-s2.0-85211691639|         0|         false|                 Book|     2024-11-15|      15 November 2024|10.1079/978178924...|       NULL|      NULL|                 NULL|          1-417| History and Futur...|https://api.elsev...|        NULL|21101263112|     bk|              Book| 14|\n",
       "|           68|         Cleary J.|SCOPUS_ID:8488898...|Formulary availab...|2-s2.0-84888987926|         1|          true|              Journal|     2013-01-01|         December 2013|10.1093/annonc/md...|   15698041|  09237534|         SUPPLEMENT11|           NULL|   Annals of Oncology|https://api.elsev...|          24|      28711|     ar|           Article| 15|\n",
       "|          127|       Koenig H.G.|SCOPUS_ID:8505438...|Religion and Ment...|2-s2.0-85054384486|         0|         false|                 Book|     2018-01-01|        1 January 2018|10.1016/C2016-0-0...|       NULL|      NULL|                 NULL|          1-363| Religion and Ment...|https://api.elsev...|        NULL|21101118173|     bk|              Book| 16|\n",
       "|            1|         Malaeb D.|SCOPUS_ID:8516127...|The use of intrav...|2-s2.0-85161271390|         0|         false|              Journal|     2023-08-01|           August 2023|10.1016/j.jstroke...|   15328511|  10523057|                    8|           NULL| Journal of Stroke...|https://api.elsev...|          32|      23884|     ar|           Article| 17|\n",
       "|            7|       Kimani T.N.|SCOPUS_ID:8513471...|Infectious diseas...|2-s2.0-85134716322|         1|          true|              Journal|     2022-09-01|        September 2022|10.1016/j.epidem....|   18780067|  17554365|                 NULL|           NULL|            Epidemics|https://api.elsev...|          40|17300154924|     ar|           Article| 18|\n",
       "|            0|           Naim R.|SCOPUS_ID:8517934...|Correction to: Bu...|2-s2.0-85179344166|         1|          true|              Journal|     2024-02-01|         February 2024|10.1007/s10067-02...|   14349949|  07703198|                    2|            849| Clinical Rheumato...|https://api.elsev...|          43|      19187|     er|           Erratum| 19|\n",
       "+-------------+------------------+--------------------+--------------------+------------------+----------+--------------+---------------------+---------------+----------------------+--------------------+-----------+----------+---------------------+---------------+---------------------+--------------------+------------+-----------+-------+------------------+---+\n",
       "only showing top 20 rows"
      ]
     },
     "execution_count": 65,
     "metadata": {},
     "output_type": "execute_result"
    }
   ],
   "source": [
    "\n",
    "df_fact = df_with_id.drop(\"affiliation\")\n",
    "df_fact\n"
   ]
  },
  {
   "cell_type": "code",
   "execution_count": 72,
   "id": "7255e80d-22fa-4f49-9869-e1751dd71ab9",
   "metadata": {},
   "outputs": [
    {
     "name": "stdout",
     "output_type": "stream",
     "text": [
      "Buckets existants:\n",
      "- datalake\n",
      "- gold\n",
      "- raw\n"
     ]
    }
   ],
   "source": [
    "import boto3\n",
    "from botocore.exceptions import NoCredentialsError\n",
    "s3 = boto3.client('s3', \n",
    "                  endpoint_url='http://172.21.0.2:9000', \n",
    "                  aws_access_key_id='minio',  \n",
    "                  aws_secret_access_key='minio123',  \n",
    "                  config=boto3.session.Config(signature_version='s3v4'))\n",
    "try:\n",
    "    response = s3.list_buckets()\n",
    "    print(\"Buckets existants:\")\n",
    "    for bucket in response['Buckets']:\n",
    "        print(f\"- {bucket['Name']}\")\n",
    "except NoCredentialsError:\n",
    "    print(\"Erreur d'authentification: Assurez-vous que les identifiants sont corrects.\")\n",
    "except Exception as e:\n",
    "    print(f\"Erreur lors de la récupération des buckets: {e}\")\n"
   ]
  },
  {
   "cell_type": "code",
   "execution_count": 82,
   "id": "4f20228d-a5fe-4ce8-a637-d1fa53361185",
   "metadata": {},
   "outputs": [
    {
     "name": "stdout",
     "output_type": "stream",
     "text": [
      "Fichier Parquet sauvegardé localement à data/fact\n"
     ]
    }
   ],
   "source": [
    "local_path = \"data/fact\"\n",
    "df_fact.write.parquet(local_path, mode=\"overwrite\")\n",
    "print(f\"Fichier Parquet sauvegardé localement à {local_path}\")\n"
   ]
  },
  {
   "cell_type": "code",
   "execution_count": 83,
   "id": "8a090253-76d9-4c25-a43b-28e3779b2d48",
   "metadata": {},
   "outputs": [
    {
     "name": "stdout",
     "output_type": "stream",
     "text": [
      "Fichier Parquet sauvegardé localement à data/Author\n"
     ]
    }
   ],
   "source": [
    "local_path = \"data/Author\"\n",
    "df_Author.write.parquet(local_path, mode=\"overwrite\")\n",
    "print(f\"Fichier Parquet sauvegardé localement à {local_path}\")"
   ]
  },
  {
   "cell_type": "code",
   "execution_count": 84,
   "id": "8afe22bb-2493-4024-8b17-01e2c0446338",
   "metadata": {},
   "outputs": [
    {
     "name": "stdout",
     "output_type": "stream",
     "text": [
      "Fichier Parquet sauvegardé localement à data/affiliation\n"
     ]
    }
   ],
   "source": [
    "local_path = \"data/affiliation\"\n",
    "result_df.write.parquet(local_path, mode=\"overwrite\")\n",
    "print(f\"Fichier Parquet sauvegardé localement à {local_path}\")"
   ]
  },
  {
   "cell_type": "code",
   "execution_count": 85,
   "id": "0f086bc0-e40f-481f-85cb-e9dad0a2a0bb",
   "metadata": {},
   "outputs": [
    {
     "name": "stdout",
     "output_type": "stream",
     "text": [
      "Fichier Parquet sauvegardé localement à data/journal\n"
     ]
    }
   ],
   "source": [
    "local_path = \"data/journal\"\n",
    "df_journal.write.parquet(local_path, mode=\"overwrite\")\n",
    "print(f\"Fichier Parquet sauvegardé localement à {local_path}\")"
   ]
  },
  {
   "cell_type": "code",
   "execution_count": 88,
   "id": "ac5396b9-a969-48ab-80de-bc8c190f63b4",
   "metadata": {},
   "outputs": [],
   "source": [
    "spark.stop()"
   ]
  },
  {
   "cell_type": "code",
   "execution_count": null,
   "id": "0656e0a7-44d2-466b-a8a5-0d0259214b46",
   "metadata": {},
   "outputs": [],
   "source": []
  }
 ],
 "metadata": {
  "kernelspec": {
   "display_name": "Python 3 (ipykernel)",
   "language": "python",
   "name": "python3"
  },
  "language_info": {
   "codemirror_mode": {
    "name": "ipython",
    "version": 3
   },
   "file_extension": ".py",
   "mimetype": "text/x-python",
   "name": "python",
   "nbconvert_exporter": "python",
   "pygments_lexer": "ipython3",
   "version": "3.11.6"
  }
 },
 "nbformat": 4,
 "nbformat_minor": 5
}
